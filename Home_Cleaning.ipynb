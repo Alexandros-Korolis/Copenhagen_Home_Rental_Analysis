{
 "cells": [
  {
   "cell_type": "code",
   "execution_count": 4,
   "id": "a344844d",
   "metadata": {
    "ExecuteTime": {
     "end_time": "2024-03-21T17:51:11.063353Z",
     "start_time": "2024-03-21T17:51:10.739946Z"
    }
   },
   "outputs": [],
   "source": [
    "import numpy as np\n",
    "import pandas as pd"
   ]
  },
  {
   "cell_type": "code",
   "execution_count": 7,
   "id": "d0974f4f",
   "metadata": {
    "ExecuteTime": {
     "end_time": "2024-03-21T17:53:16.558080Z",
     "start_time": "2024-03-21T17:53:16.506037Z"
    }
   },
   "outputs": [],
   "source": [
    "df = pd.read_csv('ads_data.csv',index_col=0)"
   ]
  },
  {
   "cell_type": "code",
   "execution_count": 8,
   "id": "57505087",
   "metadata": {
    "ExecuteTime": {
     "end_time": "2024-03-21T17:53:17.539121Z",
     "start_time": "2024-03-21T17:53:17.505109Z"
    },
    "scrolled": true
   },
   "outputs": [
    {
     "data": {
      "text/html": [
       "<div>\n",
       "<style scoped>\n",
       "    .dataframe tbody tr th:only-of-type {\n",
       "        vertical-align: middle;\n",
       "    }\n",
       "\n",
       "    .dataframe tbody tr th {\n",
       "        vertical-align: top;\n",
       "    }\n",
       "\n",
       "    .dataframe thead th {\n",
       "        text-align: right;\n",
       "    }\n",
       "</style>\n",
       "<table border=\"1\" class=\"dataframe\">\n",
       "  <thead>\n",
       "    <tr style=\"text-align: right;\">\n",
       "      <th></th>\n",
       "      <th>Property type</th>\n",
       "      <th>Size</th>\n",
       "      <th>Rooms</th>\n",
       "      <th>Floor</th>\n",
       "      <th>Furnished</th>\n",
       "      <th>Shareable</th>\n",
       "      <th>Pets allowed</th>\n",
       "      <th>Elevator</th>\n",
       "      <th>Senior friendly</th>\n",
       "      <th>Students only</th>\n",
       "      <th>...</th>\n",
       "      <th>Rental period</th>\n",
       "      <th>Available from</th>\n",
       "      <th>Monthly net rent</th>\n",
       "      <th>Utilities</th>\n",
       "      <th>Deposit</th>\n",
       "      <th>Prepaid rent</th>\n",
       "      <th>Move-in price</th>\n",
       "      <th>Creation Date</th>\n",
       "      <th>Listing-id</th>\n",
       "      <th>Adress</th>\n",
       "    </tr>\n",
       "  </thead>\n",
       "  <tbody>\n",
       "    <tr>\n",
       "      <th>0</th>\n",
       "      <td>Apartment</td>\n",
       "      <td>100 m²</td>\n",
       "      <td>4.0</td>\n",
       "      <td>Ground floor</td>\n",
       "      <td>No</td>\n",
       "      <td>Yes</td>\n",
       "      <td>No</td>\n",
       "      <td>No</td>\n",
       "      <td>No</td>\n",
       "      <td>No</td>\n",
       "      <td>...</td>\n",
       "      <td>1-11 months</td>\n",
       "      <td>1 September 2024</td>\n",
       "      <td>22.000 kr.</td>\n",
       "      <td>0 kr.</td>\n",
       "      <td>22.000 kr.</td>\n",
       "      <td>22.000 kr.</td>\n",
       "      <td>66.000 kr.</td>\n",
       "      <td>21/03/2024</td>\n",
       "      <td>5427722</td>\n",
       "      <td>Løgstørgade, 2100 København, København Ø  - Gr...</td>\n",
       "    </tr>\n",
       "    <tr>\n",
       "      <th>1</th>\n",
       "      <td>Apartment</td>\n",
       "      <td>154 m²</td>\n",
       "      <td>5.0</td>\n",
       "      <td>1st</td>\n",
       "      <td>No</td>\n",
       "      <td>No</td>\n",
       "      <td>No</td>\n",
       "      <td>No</td>\n",
       "      <td>No</td>\n",
       "      <td>No</td>\n",
       "      <td>...</td>\n",
       "      <td>Unlimited</td>\n",
       "      <td>1 May 2024</td>\n",
       "      <td>23.000 kr.</td>\n",
       "      <td>1.400 kr.</td>\n",
       "      <td>69.000 kr.</td>\n",
       "      <td>69.000 kr.</td>\n",
       "      <td>162.400 kr.</td>\n",
       "      <td>21/03/2024</td>\n",
       "      <td>5427716</td>\n",
       "      <td>Virginiavej, 2000 København, Frederiksberg  - ...</td>\n",
       "    </tr>\n",
       "    <tr>\n",
       "      <th>2</th>\n",
       "      <td>Apartment</td>\n",
       "      <td>54 m²</td>\n",
       "      <td>2.0</td>\n",
       "      <td>Ground floor</td>\n",
       "      <td>No</td>\n",
       "      <td>No</td>\n",
       "      <td>No</td>\n",
       "      <td>No</td>\n",
       "      <td>No</td>\n",
       "      <td>No</td>\n",
       "      <td>...</td>\n",
       "      <td>Unlimited</td>\n",
       "      <td>As soon as possible</td>\n",
       "      <td>8.448 kr.</td>\n",
       "      <td>410 kr.</td>\n",
       "      <td>25.344 kr.</td>\n",
       "      <td>25.344 kr.</td>\n",
       "      <td>59.546 kr.</td>\n",
       "      <td>21/03/2024</td>\n",
       "      <td>5427711</td>\n",
       "      <td>Ellensvej, 2920 København, Charlottenlund  - G...</td>\n",
       "    </tr>\n",
       "    <tr>\n",
       "      <th>3</th>\n",
       "      <td>Apartment</td>\n",
       "      <td>71 m²</td>\n",
       "      <td>3.0</td>\n",
       "      <td>5th</td>\n",
       "      <td>No</td>\n",
       "      <td>Yes</td>\n",
       "      <td>Yes</td>\n",
       "      <td>Yes</td>\n",
       "      <td>No</td>\n",
       "      <td>No</td>\n",
       "      <td>...</td>\n",
       "      <td>Unlimited</td>\n",
       "      <td>As soon as possible</td>\n",
       "      <td>14.300 kr.</td>\n",
       "      <td>700 kr.</td>\n",
       "      <td>42.900 kr.</td>\n",
       "      <td>14.300 kr.</td>\n",
       "      <td>72.200 kr.</td>\n",
       "      <td>21/03/2024</td>\n",
       "      <td>5427710</td>\n",
       "      <td>Martha Christensens Vej, 2300 København, Køben...</td>\n",
       "    </tr>\n",
       "    <tr>\n",
       "      <th>4</th>\n",
       "      <td>Apartment</td>\n",
       "      <td>63 m²</td>\n",
       "      <td>2.0</td>\n",
       "      <td>4th</td>\n",
       "      <td>No</td>\n",
       "      <td>Yes</td>\n",
       "      <td>Yes</td>\n",
       "      <td>Yes</td>\n",
       "      <td>No</td>\n",
       "      <td>No</td>\n",
       "      <td>...</td>\n",
       "      <td>Unlimited</td>\n",
       "      <td>As soon as possible</td>\n",
       "      <td>12.700 kr.</td>\n",
       "      <td>650 kr.</td>\n",
       "      <td>38.100 kr.</td>\n",
       "      <td>12.700 kr.</td>\n",
       "      <td>64.150 kr.</td>\n",
       "      <td>21/03/2024</td>\n",
       "      <td>5427709</td>\n",
       "      <td>Martha Christensens Vej, 2300 København, Køben...</td>\n",
       "    </tr>\n",
       "    <tr>\n",
       "      <th>...</th>\n",
       "      <td>...</td>\n",
       "      <td>...</td>\n",
       "      <td>...</td>\n",
       "      <td>...</td>\n",
       "      <td>...</td>\n",
       "      <td>...</td>\n",
       "      <td>...</td>\n",
       "      <td>...</td>\n",
       "      <td>...</td>\n",
       "      <td>...</td>\n",
       "      <td>...</td>\n",
       "      <td>...</td>\n",
       "      <td>...</td>\n",
       "      <td>...</td>\n",
       "      <td>...</td>\n",
       "      <td>...</td>\n",
       "      <td>...</td>\n",
       "      <td>...</td>\n",
       "      <td>...</td>\n",
       "      <td>...</td>\n",
       "      <td>...</td>\n",
       "    </tr>\n",
       "    <tr>\n",
       "      <th>2736</th>\n",
       "      <td>Apartment</td>\n",
       "      <td>55 m²</td>\n",
       "      <td>2.0</td>\n",
       "      <td>Ground floor</td>\n",
       "      <td>Yes</td>\n",
       "      <td>No</td>\n",
       "      <td>No</td>\n",
       "      <td>No</td>\n",
       "      <td>Yes</td>\n",
       "      <td>No</td>\n",
       "      <td>...</td>\n",
       "      <td>1-11 months</td>\n",
       "      <td>15 July 2024</td>\n",
       "      <td>14.000 kr.</td>\n",
       "      <td>0 kr.</td>\n",
       "      <td>2.000 kr.</td>\n",
       "      <td>0 kr.</td>\n",
       "      <td>16.000 kr.</td>\n",
       "      <td>27/12/2021</td>\n",
       "      <td>5218308</td>\n",
       "      <td>Hedemannsgade, 2100 København, København Ø  - ...</td>\n",
       "    </tr>\n",
       "    <tr>\n",
       "      <th>2737</th>\n",
       "      <td>Room</td>\n",
       "      <td>15 m²</td>\n",
       "      <td>1.0</td>\n",
       "      <td>3rd</td>\n",
       "      <td>Yes</td>\n",
       "      <td>Yes</td>\n",
       "      <td>Yes</td>\n",
       "      <td>No</td>\n",
       "      <td>No</td>\n",
       "      <td>No</td>\n",
       "      <td>...</td>\n",
       "      <td>1-11 months</td>\n",
       "      <td>14 April 2024</td>\n",
       "      <td>8.000 kr.</td>\n",
       "      <td>0 kr.</td>\n",
       "      <td>10.000 kr.</td>\n",
       "      <td>0 kr.</td>\n",
       "      <td>18.000 kr.</td>\n",
       "      <td>17/07/2021</td>\n",
       "      <td>5091127</td>\n",
       "      <td>Marstalsgade, 2100 København, København Ø  - 3...</td>\n",
       "    </tr>\n",
       "    <tr>\n",
       "      <th>2738</th>\n",
       "      <td>Apartment</td>\n",
       "      <td>125 m²</td>\n",
       "      <td>3.0</td>\n",
       "      <td>4th</td>\n",
       "      <td>Yes</td>\n",
       "      <td>Yes</td>\n",
       "      <td>No</td>\n",
       "      <td>No</td>\n",
       "      <td>No</td>\n",
       "      <td>No</td>\n",
       "      <td>...</td>\n",
       "      <td>1-11 months</td>\n",
       "      <td>As soon as possible</td>\n",
       "      <td>30.000 kr.</td>\n",
       "      <td>0 kr.</td>\n",
       "      <td>10.000 kr.</td>\n",
       "      <td>0 kr.</td>\n",
       "      <td>40.000 kr.</td>\n",
       "      <td>07/07/2021</td>\n",
       "      <td>5204260</td>\n",
       "      <td>Arkonagade, 1726 København, København V  - 4th...</td>\n",
       "    </tr>\n",
       "    <tr>\n",
       "      <th>2739</th>\n",
       "      <td>Room</td>\n",
       "      <td>22 m²</td>\n",
       "      <td>1.0</td>\n",
       "      <td>4th</td>\n",
       "      <td>Yes</td>\n",
       "      <td>No</td>\n",
       "      <td>No</td>\n",
       "      <td>Not specified</td>\n",
       "      <td>Not specified</td>\n",
       "      <td>Not specified</td>\n",
       "      <td>...</td>\n",
       "      <td>24+ months</td>\n",
       "      <td>As soon as possible</td>\n",
       "      <td>3.800 kr.</td>\n",
       "      <td>0 kr.</td>\n",
       "      <td>7.600 kr.</td>\n",
       "      <td>3.800 kr.</td>\n",
       "      <td>15.200 kr.</td>\n",
       "      <td>29/10/2020</td>\n",
       "      <td>5024726</td>\n",
       "      <td>Jagtvej, 2100 København, København Ø  - 4th floor</td>\n",
       "    </tr>\n",
       "    <tr>\n",
       "      <th>2740</th>\n",
       "      <td>Room</td>\n",
       "      <td>10 m²</td>\n",
       "      <td>1.0</td>\n",
       "      <td>4th</td>\n",
       "      <td>Yes</td>\n",
       "      <td>No</td>\n",
       "      <td>No</td>\n",
       "      <td>Yes</td>\n",
       "      <td>Yes</td>\n",
       "      <td>No</td>\n",
       "      <td>...</td>\n",
       "      <td>1-11 months</td>\n",
       "      <td>As soon as possible</td>\n",
       "      <td>3.999 kr.</td>\n",
       "      <td>0 kr.</td>\n",
       "      <td>0 kr.</td>\n",
       "      <td>0 kr.</td>\n",
       "      <td>3.999 kr.</td>\n",
       "      <td>31/08/2020</td>\n",
       "      <td>4927519</td>\n",
       "      <td>Gyngemose Parkvej, 2860 København, Søborg  - 4...</td>\n",
       "    </tr>\n",
       "  </tbody>\n",
       "</table>\n",
       "<p>2741 rows × 27 columns</p>\n",
       "</div>"
      ],
      "text/plain": [
       "     Property type    Size  Rooms         Floor Furnished Shareable  \\\n",
       "0        Apartment  100 m²    4.0  Ground floor        No       Yes   \n",
       "1        Apartment  154 m²    5.0          1st         No        No   \n",
       "2        Apartment   54 m²    2.0  Ground floor        No        No   \n",
       "3        Apartment   71 m²    3.0          5th         No       Yes   \n",
       "4        Apartment   63 m²    2.0          4th         No       Yes   \n",
       "...            ...     ...    ...           ...       ...       ...   \n",
       "2736     Apartment   55 m²    2.0  Ground floor       Yes        No   \n",
       "2737          Room   15 m²    1.0          3rd        Yes       Yes   \n",
       "2738     Apartment  125 m²    3.0          4th        Yes       Yes   \n",
       "2739          Room   22 m²    1.0          4th        Yes        No   \n",
       "2740          Room   10 m²    1.0          4th        Yes        No   \n",
       "\n",
       "     Pets allowed       Elevator Senior friendly  Students only  ...  \\\n",
       "0              No             No              No             No  ...   \n",
       "1              No             No              No             No  ...   \n",
       "2              No             No              No             No  ...   \n",
       "3             Yes            Yes              No             No  ...   \n",
       "4             Yes            Yes              No             No  ...   \n",
       "...           ...            ...             ...            ...  ...   \n",
       "2736           No             No             Yes             No  ...   \n",
       "2737          Yes             No              No             No  ...   \n",
       "2738           No             No              No             No  ...   \n",
       "2739           No  Not specified   Not specified  Not specified  ...   \n",
       "2740           No            Yes             Yes             No  ...   \n",
       "\n",
       "     Rental period       Available from Monthly net rent  Utilities  \\\n",
       "0      1-11 months     1 September 2024       22.000 kr.      0 kr.   \n",
       "1        Unlimited           1 May 2024       23.000 kr.  1.400 kr.   \n",
       "2        Unlimited  As soon as possible        8.448 kr.    410 kr.   \n",
       "3        Unlimited  As soon as possible       14.300 kr.    700 kr.   \n",
       "4        Unlimited  As soon as possible       12.700 kr.    650 kr.   \n",
       "...            ...                  ...              ...        ...   \n",
       "2736   1-11 months         15 July 2024       14.000 kr.      0 kr.   \n",
       "2737   1-11 months        14 April 2024        8.000 kr.      0 kr.   \n",
       "2738   1-11 months  As soon as possible       30.000 kr.      0 kr.   \n",
       "2739    24+ months  As soon as possible        3.800 kr.      0 kr.   \n",
       "2740   1-11 months  As soon as possible        3.999 kr.      0 kr.   \n",
       "\n",
       "         Deposit Prepaid rent Move-in price Creation Date Listing-id  \\\n",
       "0     22.000 kr.   22.000 kr.    66.000 kr.    21/03/2024    5427722   \n",
       "1     69.000 kr.   69.000 kr.   162.400 kr.    21/03/2024    5427716   \n",
       "2     25.344 kr.   25.344 kr.    59.546 kr.    21/03/2024    5427711   \n",
       "3     42.900 kr.   14.300 kr.    72.200 kr.    21/03/2024    5427710   \n",
       "4     38.100 kr.   12.700 kr.    64.150 kr.    21/03/2024    5427709   \n",
       "...          ...          ...           ...           ...        ...   \n",
       "2736   2.000 kr.        0 kr.    16.000 kr.    27/12/2021    5218308   \n",
       "2737  10.000 kr.        0 kr.    18.000 kr.    17/07/2021    5091127   \n",
       "2738  10.000 kr.        0 kr.    40.000 kr.    07/07/2021    5204260   \n",
       "2739   7.600 kr.    3.800 kr.    15.200 kr.    29/10/2020    5024726   \n",
       "2740       0 kr.        0 kr.     3.999 kr.    31/08/2020    4927519   \n",
       "\n",
       "                                                 Adress  \n",
       "0     Løgstørgade, 2100 København, København Ø  - Gr...  \n",
       "1     Virginiavej, 2000 København, Frederiksberg  - ...  \n",
       "2     Ellensvej, 2920 København, Charlottenlund  - G...  \n",
       "3     Martha Christensens Vej, 2300 København, Køben...  \n",
       "4     Martha Christensens Vej, 2300 København, Køben...  \n",
       "...                                                 ...  \n",
       "2736  Hedemannsgade, 2100 København, København Ø  - ...  \n",
       "2737  Marstalsgade, 2100 København, København Ø  - 3...  \n",
       "2738  Arkonagade, 1726 København, København V  - 4th...  \n",
       "2739  Jagtvej, 2100 København, København Ø  - 4th floor  \n",
       "2740  Gyngemose Parkvej, 2860 København, Søborg  - 4...  \n",
       "\n",
       "[2741 rows x 27 columns]"
      ]
     },
     "execution_count": 8,
     "metadata": {},
     "output_type": "execute_result"
    }
   ],
   "source": [
    "df"
   ]
  },
  {
   "cell_type": "code",
   "execution_count": 10,
   "id": "cb563895",
   "metadata": {
    "ExecuteTime": {
     "end_time": "2024-03-21T17:53:54.564808Z",
     "start_time": "2024-03-21T17:53:54.499247Z"
    }
   },
   "outputs": [
    {
     "name": "stdout",
     "output_type": "stream",
     "text": [
      "<class 'pandas.core.frame.DataFrame'>\n",
      "Int64Index: 2741 entries, 0 to 2740\n",
      "Data columns (total 27 columns):\n",
      " #   Column                     Non-Null Count  Dtype  \n",
      "---  ------                     --------------  -----  \n",
      " 0   Property type              2741 non-null   object \n",
      " 1   Size                       2741 non-null   object \n",
      " 2   Rooms                      2741 non-null   float64\n",
      " 3   Floor                      2741 non-null   object \n",
      " 4   Furnished                  2741 non-null   object \n",
      " 5   Shareable                  2741 non-null   object \n",
      " 6   Pets allowed               2741 non-null   object \n",
      " 7   Elevator                   2741 non-null   object \n",
      " 8   Senior friendly            2741 non-null   object \n",
      " 9   Students only              2741 non-null   object \n",
      " 10  Balcony                    2741 non-null   object \n",
      " 11  Parking                    2741 non-null   object \n",
      " 12  Dishwasher                 2741 non-null   object \n",
      " 13  Washing machine            2741 non-null   object \n",
      " 14  Electric charging station  2741 non-null   object \n",
      " 15  Dryer                      2741 non-null   object \n",
      " 16  Energy rating              1451 non-null   object \n",
      " 17  Rental period              2741 non-null   object \n",
      " 18  Available from             2741 non-null   object \n",
      " 19  Monthly net rent           2741 non-null   object \n",
      " 20  Utilities                  2662 non-null   object \n",
      " 21  Deposit                    2741 non-null   object \n",
      " 22  Prepaid rent               2643 non-null   object \n",
      " 23  Move-in price              2741 non-null   object \n",
      " 24  Creation Date              2741 non-null   object \n",
      " 25  Listing-id                 2741 non-null   int64  \n",
      " 26  Adress                     2741 non-null   object \n",
      "dtypes: float64(1), int64(1), object(25)\n",
      "memory usage: 599.6+ KB\n"
     ]
    }
   ],
   "source": [
    "# Lets get some info about the dataset \n",
    "df.info()"
   ]
  },
  {
   "cell_type": "code",
   "execution_count": 14,
   "id": "ddb3add8",
   "metadata": {
    "ExecuteTime": {
     "end_time": "2024-03-21T17:57:23.431132Z",
     "start_time": "2024-03-21T17:57:23.421127Z"
    }
   },
   "outputs": [],
   "source": [
    "# Rename Size column to Size (m2), remove m2 from values and cast column type as integer\n",
    "df = df.rename(columns = {'Size':'Size(m2)'})"
   ]
  },
  {
   "cell_type": "code",
   "execution_count": 19,
   "id": "2fc22727",
   "metadata": {
    "ExecuteTime": {
     "end_time": "2024-03-21T17:59:28.718492Z",
     "start_time": "2024-03-21T17:59:28.705485Z"
    }
   },
   "outputs": [],
   "source": [
    "# remove m2 from values and cast column type as integer\n",
    "df['Size(m2)'] = df['Size(m2)'].apply(lambda x: x.replace('m²','').strip())"
   ]
  },
  {
   "cell_type": "code",
   "execution_count": 25,
   "id": "b968d3e6",
   "metadata": {
    "ExecuteTime": {
     "end_time": "2024-03-21T18:03:48.765749Z",
     "start_time": "2024-03-21T18:03:48.754739Z"
    }
   },
   "outputs": [],
   "source": [
    "df['Size(m2)'] = df['Size(m2)'].apply(lambda x: x.split('.')[0]) "
   ]
  },
  {
   "cell_type": "code",
   "execution_count": 26,
   "id": "63c92416",
   "metadata": {
    "ExecuteTime": {
     "end_time": "2024-03-21T18:03:50.573855Z",
     "start_time": "2024-03-21T18:03:50.557848Z"
    }
   },
   "outputs": [],
   "source": [
    "df['Size(m2)'] = df['Size(m2)'].astype(int)"
   ]
  },
  {
   "cell_type": "code",
   "execution_count": 28,
   "id": "394988d2",
   "metadata": {
    "ExecuteTime": {
     "end_time": "2024-03-21T18:04:46.734422Z",
     "start_time": "2024-03-21T18:04:46.729421Z"
    }
   },
   "outputs": [],
   "source": [
    "# Change type of column rooms from float to integer \n",
    "df['Rooms'] = df['Rooms'].astype(int)"
   ]
  },
  {
   "cell_type": "code",
   "execution_count": 40,
   "id": "63d5ed0f",
   "metadata": {
    "ExecuteTime": {
     "end_time": "2024-03-21T18:14:26.589848Z",
     "start_time": "2024-03-21T18:14:26.576665Z"
    }
   },
   "outputs": [],
   "source": [
    "# check Monthly net rent\n",
    "df['Monthly net rent'] = df['Monthly net rent'].apply(lambda x:x.replace('.','').replace('kr','').replace(',','').strip())"
   ]
  },
  {
   "cell_type": "code",
   "execution_count": 43,
   "id": "23e9fd92",
   "metadata": {
    "ExecuteTime": {
     "end_time": "2024-03-21T18:14:45.813921Z",
     "start_time": "2024-03-21T18:14:45.806928Z"
    }
   },
   "outputs": [],
   "source": [
    "df['Monthly net rent'] = df['Monthly net rent'].astype(int)"
   ]
  },
  {
   "cell_type": "code",
   "execution_count": 47,
   "id": "ba78d020",
   "metadata": {
    "ExecuteTime": {
     "end_time": "2024-03-21T18:17:08.871126Z",
     "start_time": "2024-03-21T18:17:08.853118Z"
    }
   },
   "outputs": [],
   "source": [
    "# Check deposit\n",
    "df['Deposit'] = df['Deposit'].apply(lambda x:x.translate(str.maketrans('', '', \"kr.,\")))"
   ]
  },
  {
   "cell_type": "code",
   "execution_count": 49,
   "id": "05fcd94d",
   "metadata": {
    "ExecuteTime": {
     "end_time": "2024-03-21T18:17:32.675694Z",
     "start_time": "2024-03-21T18:17:32.667688Z"
    }
   },
   "outputs": [],
   "source": [
    "df['Deposit'] = df['Deposit'].astype(int)"
   ]
  },
  {
   "cell_type": "code",
   "execution_count": 63,
   "id": "d26d5860",
   "metadata": {
    "ExecuteTime": {
     "end_time": "2024-03-21T18:26:33.622867Z",
     "start_time": "2024-03-21T18:26:33.599887Z"
    }
   },
   "outputs": [],
   "source": [
    "# Check prepaid rent\n",
    "df['Prepaid rent'] = df['Prepaid rent'].apply(lambda x:str(x).replace('.','').replace('kr','').replace(',','').strip())\n",
    "df.fillna({22:0}, inplace=True)\n",
    "df['Prepaid rent'] = df['Prepaid rent'].apply(lambda x: x.replace('nan','0').strip())\n",
    "df['Prepaid rent'] = df['Prepaid rent'].astype(int)"
   ]
  },
  {
   "cell_type": "code",
   "execution_count": 65,
   "id": "af97b062",
   "metadata": {
    "ExecuteTime": {
     "end_time": "2024-03-21T18:27:03.872803Z",
     "start_time": "2024-03-21T18:27:03.855069Z"
    }
   },
   "outputs": [],
   "source": [
    "# Check move in price "
   ]
  }
 ],
 "metadata": {
  "kernelspec": {
   "display_name": "Python 3 (ipykernel)",
   "language": "python",
   "name": "python3"
  },
  "language_info": {
   "codemirror_mode": {
    "name": "ipython",
    "version": 3
   },
   "file_extension": ".py",
   "mimetype": "text/x-python",
   "name": "python",
   "nbconvert_exporter": "python",
   "pygments_lexer": "ipython3",
   "version": "3.9.7"
  },
  "varInspector": {
   "cols": {
    "lenName": 16,
    "lenType": 16,
    "lenVar": 40
   },
   "kernels_config": {
    "python": {
     "delete_cmd_postfix": "",
     "delete_cmd_prefix": "del ",
     "library": "var_list.py",
     "varRefreshCmd": "print(var_dic_list())"
    },
    "r": {
     "delete_cmd_postfix": ") ",
     "delete_cmd_prefix": "rm(",
     "library": "var_list.r",
     "varRefreshCmd": "cat(var_dic_list()) "
    }
   },
   "types_to_exclude": [
    "module",
    "function",
    "builtin_function_or_method",
    "instance",
    "_Feature"
   ],
   "window_display": false
  }
 },
 "nbformat": 4,
 "nbformat_minor": 5
}
