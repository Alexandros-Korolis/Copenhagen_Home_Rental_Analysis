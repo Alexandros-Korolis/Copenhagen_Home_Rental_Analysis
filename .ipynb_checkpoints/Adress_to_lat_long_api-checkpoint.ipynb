{
 "cells": [
  {
   "cell_type": "code",
   "execution_count": 1,
   "id": "96af7a42",
   "metadata": {
    "ExecuteTime": {
     "end_time": "2024-03-20T21:02:31.519804Z",
     "start_time": "2024-03-20T21:02:31.051289Z"
    }
   },
   "outputs": [],
   "source": [
    "import pandas as pd\n",
    "import requests\n",
    "from requests.structures import CaseInsensitiveDict\n",
    "from tqdm import tqdm\n",
    "import json"
   ]
  },
  {
   "cell_type": "code",
   "execution_count": 2,
   "id": "be1a9bfd",
   "metadata": {
    "ExecuteTime": {
     "end_time": "2024-03-20T21:02:31.833874Z",
     "start_time": "2024-03-20T21:02:31.521804Z"
    }
   },
   "outputs": [],
   "source": [
    "df = pd.read_excel('clean_data.xlsx')"
   ]
  },
  {
   "cell_type": "code",
   "execution_count": 3,
   "id": "0b53fa19",
   "metadata": {
    "ExecuteTime": {
     "end_time": "2024-03-20T21:02:31.849516Z",
     "start_time": "2024-03-20T21:02:31.834874Z"
    }
   },
   "outputs": [],
   "source": [
    "adresses=list(df['Adress'].apply(lambda x: x.strip()))"
   ]
  },
  {
   "cell_type": "code",
   "execution_count": 4,
   "id": "2b31a2d6",
   "metadata": {
    "ExecuteTime": {
     "end_time": "2024-03-20T21:02:31.897187Z",
     "start_time": "2024-03-20T21:02:31.852516Z"
    },
    "scrolled": true
   },
   "outputs": [
    {
     "data": {
      "text/plain": [
       "['Absalonsgade 46 3.tv',\n",
       " 'Pakhusvej',\n",
       " 'Amaliegade',\n",
       " 'Langelinie Allé',\n",
       " 'Lyngby Hovedgade',\n",
       " 'Rødager Alle',\n",
       " 'Nørrebrogade',\n",
       " 'Nørregade',\n",
       " 'Gyldendalsvej',\n",
       " 'Lyngby Hovedgade',\n",
       " 'Degnemose Allé',\n",
       " 'Dortheavej',\n",
       " 'Strandmarksvej',\n",
       " 'Lindgreens Allé',\n",
       " 'Åsvej',\n",
       " 'Åsvej',\n",
       " 'Gyngemose Parkvej',\n",
       " 'Islands Brygge',\n",
       " 'Skelmosevej']"
      ]
     },
     "execution_count": 4,
     "metadata": {},
     "output_type": "execute_result"
    }
   ],
   "source": [
    "adresses"
   ]
  },
  {
   "cell_type": "markdown",
   "id": "683eadc7",
   "metadata": {
    "ExecuteTime": {
     "end_time": "2024-03-19T19:38:53.464437Z",
     "start_time": "2024-03-19T19:38:53.451431Z"
    }
   },
   "source": [
    "# Lets get all coordinates"
   ]
  },
  {
   "cell_type": "code",
   "execution_count": 5,
   "id": "44cbece1",
   "metadata": {
    "ExecuteTime": {
     "end_time": "2024-03-20T21:02:31.912680Z",
     "start_time": "2024-03-20T21:02:31.899187Z"
    }
   },
   "outputs": [],
   "source": [
    "text_atribute = []\n",
    "for i in range(len(adresses)):\n",
    "    text_atribute.append(adresses[i].replace(' ','%20'))"
   ]
  },
  {
   "cell_type": "code",
   "execution_count": 6,
   "id": "559550b4",
   "metadata": {
    "ExecuteTime": {
     "end_time": "2024-03-20T21:02:31.928689Z",
     "start_time": "2024-03-20T21:02:31.914681Z"
    }
   },
   "outputs": [
    {
     "data": {
      "text/plain": [
       "['Absalonsgade%2046%203.tv',\n",
       " 'Pakhusvej',\n",
       " 'Amaliegade',\n",
       " 'Langelinie%20Allé',\n",
       " 'Lyngby%20Hovedgade',\n",
       " 'Rødager%20Alle',\n",
       " 'Nørrebrogade',\n",
       " 'Nørregade',\n",
       " 'Gyldendalsvej',\n",
       " 'Lyngby%20Hovedgade',\n",
       " 'Degnemose%20Allé',\n",
       " 'Dortheavej',\n",
       " 'Strandmarksvej',\n",
       " 'Lindgreens%20Allé',\n",
       " 'Åsvej',\n",
       " 'Åsvej',\n",
       " 'Gyngemose%20Parkvej',\n",
       " 'Islands%20Brygge',\n",
       " 'Skelmosevej']"
      ]
     },
     "execution_count": 6,
     "metadata": {},
     "output_type": "execute_result"
    }
   ],
   "source": [
    "text_atribute"
   ]
  },
  {
   "cell_type": "code",
   "execution_count": 7,
   "id": "4324784f",
   "metadata": {
    "ExecuteTime": {
     "end_time": "2024-03-20T21:02:31.944698Z",
     "start_time": "2024-03-20T21:02:31.930689Z"
    }
   },
   "outputs": [],
   "source": [
    "coord_list=[]\n",
    "def get_coord(text):\n",
    "    url = \"https://api.geoapify.com/v1/geocode/search?text={}%2CCopenhagen&apiKey=a1fbb32f9bb64f348a1e0b7729630deb\".format(text)\n",
    "    headers = CaseInsensitiveDict()\n",
    "    headers[\"Accept\"] = \"application/json\"\n",
    "    resp = requests.get(url, headers=headers)\n",
    "    x = resp.json()['features'][0]['properties']['lon']\n",
    "    y = resp.json()['features'][0]['properties']['lat']\n",
    "    coord_list.append([x,y])\n",
    "    return coord_list"
   ]
  },
  {
   "cell_type": "code",
   "execution_count": 8,
   "id": "273a887b",
   "metadata": {
    "ExecuteTime": {
     "end_time": "2024-03-20T21:02:45.891994Z",
     "start_time": "2024-03-20T21:02:31.946699Z"
    }
   },
   "outputs": [
    {
     "name": "stderr",
     "output_type": "stream",
     "text": [
      "100%|██████████████████████████████████████████████████████████████████████████████████| 19/19 [00:13<00:00,  1.37it/s]\n"
     ]
    }
   ],
   "source": [
    "for text in tqdm(text_atribute):\n",
    "    data = get_coord(text)"
   ]
  },
  {
   "cell_type": "code",
   "execution_count": 10,
   "id": "f911ffd9",
   "metadata": {
    "ExecuteTime": {
     "end_time": "2024-03-20T21:02:57.862046Z",
     "start_time": "2024-03-20T21:02:57.850083Z"
    }
   },
   "outputs": [],
   "source": [
    "long_list = []\n",
    "lat_list = []\n",
    "for d in range(len(data)):\n",
    "    long_list.append(data[d][0])\n",
    "    lat_list.append(data[d][1])"
   ]
  },
  {
   "cell_type": "code",
   "execution_count": 11,
   "id": "804e02bf",
   "metadata": {
    "ExecuteTime": {
     "end_time": "2024-03-20T21:02:59.267953Z",
     "start_time": "2024-03-20T21:02:59.253944Z"
    }
   },
   "outputs": [],
   "source": [
    "coord_data = pd.DataFrame({'lat':lat_list,'long':long_list})"
   ]
  },
  {
   "cell_type": "code",
   "execution_count": 12,
   "id": "afecb0c3",
   "metadata": {
    "ExecuteTime": {
     "end_time": "2024-03-20T21:03:00.139504Z",
     "start_time": "2024-03-20T21:03:00.124147Z"
    }
   },
   "outputs": [
    {
     "data": {
      "text/html": [
       "<div>\n",
       "<style scoped>\n",
       "    .dataframe tbody tr th:only-of-type {\n",
       "        vertical-align: middle;\n",
       "    }\n",
       "\n",
       "    .dataframe tbody tr th {\n",
       "        vertical-align: top;\n",
       "    }\n",
       "\n",
       "    .dataframe thead th {\n",
       "        text-align: right;\n",
       "    }\n",
       "</style>\n",
       "<table border=\"1\" class=\"dataframe\">\n",
       "  <thead>\n",
       "    <tr style=\"text-align: right;\">\n",
       "      <th></th>\n",
       "      <th>lat</th>\n",
       "      <th>long</th>\n",
       "    </tr>\n",
       "  </thead>\n",
       "  <tbody>\n",
       "    <tr>\n",
       "      <th>0</th>\n",
       "      <td>55.668623</td>\n",
       "      <td>12.555775</td>\n",
       "    </tr>\n",
       "    <tr>\n",
       "      <th>1</th>\n",
       "      <td>55.697424</td>\n",
       "      <td>12.594138</td>\n",
       "    </tr>\n",
       "    <tr>\n",
       "      <th>2</th>\n",
       "      <td>55.685642</td>\n",
       "      <td>12.594562</td>\n",
       "    </tr>\n",
       "    <tr>\n",
       "      <th>3</th>\n",
       "      <td>55.695658</td>\n",
       "      <td>12.599706</td>\n",
       "    </tr>\n",
       "    <tr>\n",
       "      <th>4</th>\n",
       "      <td>55.763451</td>\n",
       "      <td>12.511833</td>\n",
       "    </tr>\n",
       "    <tr>\n",
       "      <th>5</th>\n",
       "      <td>55.675542</td>\n",
       "      <td>12.460681</td>\n",
       "    </tr>\n",
       "    <tr>\n",
       "      <th>6</th>\n",
       "      <td>55.691535</td>\n",
       "      <td>12.553023</td>\n",
       "    </tr>\n",
       "    <tr>\n",
       "      <th>7</th>\n",
       "      <td>55.682747</td>\n",
       "      <td>12.570705</td>\n",
       "    </tr>\n",
       "    <tr>\n",
       "      <th>8</th>\n",
       "      <td>55.768368</td>\n",
       "      <td>12.508261</td>\n",
       "    </tr>\n",
       "    <tr>\n",
       "      <th>9</th>\n",
       "      <td>55.763451</td>\n",
       "      <td>12.511833</td>\n",
       "    </tr>\n",
       "    <tr>\n",
       "      <th>10</th>\n",
       "      <td>55.703458</td>\n",
       "      <td>12.506206</td>\n",
       "    </tr>\n",
       "    <tr>\n",
       "      <th>11</th>\n",
       "      <td>55.709386</td>\n",
       "      <td>12.521327</td>\n",
       "    </tr>\n",
       "    <tr>\n",
       "      <th>12</th>\n",
       "      <td>55.629240</td>\n",
       "      <td>12.486465</td>\n",
       "    </tr>\n",
       "    <tr>\n",
       "      <th>13</th>\n",
       "      <td>55.667513</td>\n",
       "      <td>12.622348</td>\n",
       "    </tr>\n",
       "    <tr>\n",
       "      <th>14</th>\n",
       "      <td>55.704438</td>\n",
       "      <td>12.502119</td>\n",
       "    </tr>\n",
       "    <tr>\n",
       "      <th>15</th>\n",
       "      <td>55.704438</td>\n",
       "      <td>12.502119</td>\n",
       "    </tr>\n",
       "    <tr>\n",
       "      <th>16</th>\n",
       "      <td>55.726600</td>\n",
       "      <td>12.480733</td>\n",
       "    </tr>\n",
       "    <tr>\n",
       "      <th>17</th>\n",
       "      <td>55.665600</td>\n",
       "      <td>12.575151</td>\n",
       "    </tr>\n",
       "    <tr>\n",
       "      <th>18</th>\n",
       "      <td>55.668819</td>\n",
       "      <td>12.512536</td>\n",
       "    </tr>\n",
       "  </tbody>\n",
       "</table>\n",
       "</div>"
      ],
      "text/plain": [
       "          lat       long\n",
       "0   55.668623  12.555775\n",
       "1   55.697424  12.594138\n",
       "2   55.685642  12.594562\n",
       "3   55.695658  12.599706\n",
       "4   55.763451  12.511833\n",
       "5   55.675542  12.460681\n",
       "6   55.691535  12.553023\n",
       "7   55.682747  12.570705\n",
       "8   55.768368  12.508261\n",
       "9   55.763451  12.511833\n",
       "10  55.703458  12.506206\n",
       "11  55.709386  12.521327\n",
       "12  55.629240  12.486465\n",
       "13  55.667513  12.622348\n",
       "14  55.704438  12.502119\n",
       "15  55.704438  12.502119\n",
       "16  55.726600  12.480733\n",
       "17  55.665600  12.575151\n",
       "18  55.668819  12.512536"
      ]
     },
     "execution_count": 12,
     "metadata": {},
     "output_type": "execute_result"
    }
   ],
   "source": [
    "coord_data"
   ]
  },
  {
   "cell_type": "code",
   "execution_count": 13,
   "id": "ae2807c1",
   "metadata": {
    "ExecuteTime": {
     "end_time": "2024-03-20T21:03:03.735390Z",
     "start_time": "2024-03-20T21:03:03.712378Z"
    }
   },
   "outputs": [],
   "source": [
    "# Export to excel \n",
    "coord_data.to_excel('coord_data.xlsx')"
   ]
  }
 ],
 "metadata": {
  "kernelspec": {
   "display_name": "Python 3 (ipykernel)",
   "language": "python",
   "name": "python3"
  },
  "language_info": {
   "codemirror_mode": {
    "name": "ipython",
    "version": 3
   },
   "file_extension": ".py",
   "mimetype": "text/x-python",
   "name": "python",
   "nbconvert_exporter": "python",
   "pygments_lexer": "ipython3",
   "version": "3.9.7"
  },
  "varInspector": {
   "cols": {
    "lenName": 16,
    "lenType": 16,
    "lenVar": 40
   },
   "kernels_config": {
    "python": {
     "delete_cmd_postfix": "",
     "delete_cmd_prefix": "del ",
     "library": "var_list.py",
     "varRefreshCmd": "print(var_dic_list())"
    },
    "r": {
     "delete_cmd_postfix": ") ",
     "delete_cmd_prefix": "rm(",
     "library": "var_list.r",
     "varRefreshCmd": "cat(var_dic_list()) "
    }
   },
   "types_to_exclude": [
    "module",
    "function",
    "builtin_function_or_method",
    "instance",
    "_Feature"
   ],
   "window_display": false
  }
 },
 "nbformat": 4,
 "nbformat_minor": 5
}
