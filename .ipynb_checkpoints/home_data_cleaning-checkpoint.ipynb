{
 "cells": [
  {
   "cell_type": "code",
   "execution_count": 1,
   "id": "86045787",
   "metadata": {
    "ExecuteTime": {
     "end_time": "2024-03-18T19:54:01.439709Z",
     "start_time": "2024-03-18T19:54:00.149973Z"
    }
   },
   "outputs": [],
   "source": [
    "import pandas as pd\n",
    "import numpy as np \n",
    "import matplotlib.pyplot as plt\n",
    "import re "
   ]
  },
  {
   "cell_type": "code",
   "execution_count": 2,
   "id": "deba8308",
   "metadata": {
    "ExecuteTime": {
     "end_time": "2024-03-18T19:54:02.023544Z",
     "start_time": "2024-03-18T19:54:01.442409Z"
    }
   },
   "outputs": [],
   "source": [
    "df = pd.read_excel(r\"C:\\Users\\admin\\Copenhagen_Home_Rental_Analysis\\ads_data.xlsx\")"
   ]
  },
  {
   "cell_type": "code",
   "execution_count": 3,
   "id": "6d8414c2",
   "metadata": {
    "ExecuteTime": {
     "end_time": "2024-03-18T19:54:02.038994Z",
     "start_time": "2024-03-18T19:54:02.025545Z"
    }
   },
   "outputs": [],
   "source": [
    "df.drop(\"Unnamed: 0\",axis=1,inplace=True)"
   ]
  },
  {
   "cell_type": "code",
   "execution_count": 4,
   "id": "863cff01",
   "metadata": {
    "ExecuteTime": {
     "end_time": "2024-03-18T19:54:02.084974Z",
     "start_time": "2024-03-18T19:54:02.041267Z"
    }
   },
   "outputs": [
    {
     "data": {
      "text/html": [
       "<div>\n",
       "<style scoped>\n",
       "    .dataframe tbody tr th:only-of-type {\n",
       "        vertical-align: middle;\n",
       "    }\n",
       "\n",
       "    .dataframe tbody tr th {\n",
       "        vertical-align: top;\n",
       "    }\n",
       "\n",
       "    .dataframe thead th {\n",
       "        text-align: right;\n",
       "    }\n",
       "</style>\n",
       "<table border=\"1\" class=\"dataframe\">\n",
       "  <thead>\n",
       "    <tr style=\"text-align: right;\">\n",
       "      <th></th>\n",
       "      <th>title</th>\n",
       "      <th>price</th>\n",
       "      <th>description</th>\n",
       "      <th>features</th>\n",
       "    </tr>\n",
       "  </thead>\n",
       "  <tbody>\n",
       "    <tr>\n",
       "      <th>0</th>\n",
       "      <td>3500 3 vær. lejlighed, 69 m2, Bymidten 56 56 2</td>\n",
       "      <td>11 kr.</td>\n",
       "      <td>3500 3 vær. lejlighed, 69 m2, Bymi...</td>\n",
       "      <td>{'&lt;dt&gt;Boligtype&lt;/dt&gt;': '&lt;dd&gt;lejlighed&lt;/dd&gt;', '...</td>\n",
       "    </tr>\n",
       "    <tr>\n",
       "      <th>1</th>\n",
       "      <td>2860 3 vær. lejlighed, 72 m2, 10000 i depositum</td>\n",
       "      <td>10.000 kr.</td>\n",
       "      <td>2860 3 vær. lejlighed, 72 m2, 1000...</td>\n",
       "      <td>{'&lt;dt&gt;Boligtype&lt;/dt&gt;': '&lt;dd&gt;lejlighed&lt;/dd&gt;', '...</td>\n",
       "    </tr>\n",
       "    <tr>\n",
       "      <th>2</th>\n",
       "      <td>1658 4 vær. lejlighed, 81 m2, Absalonsgade 46 ...</td>\n",
       "      <td>18.000 kr.</td>\n",
       "      <td>1658 4 vær. lejlighed, 81 m2, Absa...</td>\n",
       "      <td>{'&lt;dt&gt;Boligtype&lt;/dt&gt;': '&lt;dd&gt;lejlighed&lt;/dd&gt;', '...</td>\n",
       "    </tr>\n",
       "    <tr>\n",
       "      <th>3</th>\n",
       "      <td>2300 1 vær. lejlighed, 18 m2, Prøvestens Allé ...</td>\n",
       "      <td>1.800 kr.</td>\n",
       "      <td>2300 1 vær. lejlighed, 18 m2, Prøv...</td>\n",
       "      <td>{'&lt;dt&gt;Boligtype&lt;/dt&gt;': '&lt;dd&gt;lejlighed&lt;/dd&gt;', '...</td>\n",
       "    </tr>\n",
       "    <tr>\n",
       "      <th>4</th>\n",
       "      <td>3 værelses lejlighed i København Ø 2100 på 112...</td>\n",
       "      <td>18.950 kr.</td>\n",
       "      <td>2100 vær. 3 Lejlighed, m2 112, Pak...</td>\n",
       "      <td>{'&lt;dt&gt;Boligtype&lt;/dt&gt;': '&lt;dd&gt;lejlighed&lt;/dd&gt;', '...</td>\n",
       "    </tr>\n",
       "    <tr>\n",
       "      <th>...</th>\n",
       "      <td>...</td>\n",
       "      <td>...</td>\n",
       "      <td>...</td>\n",
       "      <td>...</td>\n",
       "    </tr>\n",
       "    <tr>\n",
       "      <th>2195</th>\n",
       "      <td>Rækkehus i Solrød Strand 2680 på 87 kvm</td>\n",
       "      <td>10.950 kr.</td>\n",
       "      <td>2680 vær. 3 Lejlighed, m2 87, Åsve...</td>\n",
       "      <td>{'&lt;dt&gt;Boligtype&lt;/dt&gt;': '&lt;dd&gt;lejlighed&lt;/dd&gt;', '...</td>\n",
       "    </tr>\n",
       "    <tr>\n",
       "      <th>2196</th>\n",
       "      <td>Rækkehus i Solrød Strand 2680 på 87 kvm</td>\n",
       "      <td>10.950 kr.</td>\n",
       "      <td>2680 vær. 3 Lejlighed, m2 87, Åsve...</td>\n",
       "      <td>{'&lt;dt&gt;Boligtype&lt;/dt&gt;': '&lt;dd&gt;lejlighed&lt;/dd&gt;', '...</td>\n",
       "    </tr>\n",
       "    <tr>\n",
       "      <th>2197</th>\n",
       "      <td>4 vær. eller større i Søborg 2860 på 98 kvm</td>\n",
       "      <td>15.100 kr.</td>\n",
       "      <td>2860 vær. 4 Lejlighed, m2 98, Gyng...</td>\n",
       "      <td>{'&lt;dt&gt;Boligtype&lt;/dt&gt;': '&lt;dd&gt;lejlighed&lt;/dd&gt;', '...</td>\n",
       "    </tr>\n",
       "    <tr>\n",
       "      <th>2198</th>\n",
       "      <td>2 værelses lejlighed i København S 2300 på 80 kvm</td>\n",
       "      <td>16.900 kr.</td>\n",
       "      <td>2300 vær. 2 Lejlighed, m2 80, Isla...</td>\n",
       "      <td>{'&lt;dt&gt;Boligtype&lt;/dt&gt;': '&lt;dd&gt;lejlighed&lt;/dd&gt;', '...</td>\n",
       "    </tr>\n",
       "    <tr>\n",
       "      <th>2199</th>\n",
       "      <td>3 værelses lejlighed i Valby 2500 på 91 kvm</td>\n",
       "      <td>17.700 kr.</td>\n",
       "      <td>2500 vær. 3 Lejlighed, m2 91, Skel...</td>\n",
       "      <td>{'&lt;dt&gt;Boligtype&lt;/dt&gt;': '&lt;dd&gt;lejlighed&lt;/dd&gt;', '...</td>\n",
       "    </tr>\n",
       "  </tbody>\n",
       "</table>\n",
       "<p>2200 rows × 4 columns</p>\n",
       "</div>"
      ],
      "text/plain": [
       "                                                  title       price  \\\n",
       "0        3500 3 vær. lejlighed, 69 m2, Bymidten 56 56 2      11 kr.   \n",
       "1       2860 3 vær. lejlighed, 72 m2, 10000 i depositum  10.000 kr.   \n",
       "2     1658 4 vær. lejlighed, 81 m2, Absalonsgade 46 ...  18.000 kr.   \n",
       "3     2300 1 vær. lejlighed, 18 m2, Prøvestens Allé ...   1.800 kr.   \n",
       "4     3 værelses lejlighed i København Ø 2100 på 112...  18.950 kr.   \n",
       "...                                                 ...         ...   \n",
       "2195            Rækkehus i Solrød Strand 2680 på 87 kvm  10.950 kr.   \n",
       "2196            Rækkehus i Solrød Strand 2680 på 87 kvm  10.950 kr.   \n",
       "2197        4 vær. eller større i Søborg 2860 på 98 kvm  15.100 kr.   \n",
       "2198  2 værelses lejlighed i København S 2300 på 80 kvm  16.900 kr.   \n",
       "2199        3 værelses lejlighed i Valby 2500 på 91 kvm  17.700 kr.   \n",
       "\n",
       "                                            description  \\\n",
       "0                 3500 3 vær. lejlighed, 69 m2, Bymi...   \n",
       "1                 2860 3 vær. lejlighed, 72 m2, 1000...   \n",
       "2                 1658 4 vær. lejlighed, 81 m2, Absa...   \n",
       "3                 2300 1 vær. lejlighed, 18 m2, Prøv...   \n",
       "4                 2100 vær. 3 Lejlighed, m2 112, Pak...   \n",
       "...                                                 ...   \n",
       "2195              2680 vær. 3 Lejlighed, m2 87, Åsve...   \n",
       "2196              2680 vær. 3 Lejlighed, m2 87, Åsve...   \n",
       "2197              2860 vær. 4 Lejlighed, m2 98, Gyng...   \n",
       "2198              2300 vær. 2 Lejlighed, m2 80, Isla...   \n",
       "2199              2500 vær. 3 Lejlighed, m2 91, Skel...   \n",
       "\n",
       "                                               features  \n",
       "0     {'<dt>Boligtype</dt>': '<dd>lejlighed</dd>', '...  \n",
       "1     {'<dt>Boligtype</dt>': '<dd>lejlighed</dd>', '...  \n",
       "2     {'<dt>Boligtype</dt>': '<dd>lejlighed</dd>', '...  \n",
       "3     {'<dt>Boligtype</dt>': '<dd>lejlighed</dd>', '...  \n",
       "4     {'<dt>Boligtype</dt>': '<dd>lejlighed</dd>', '...  \n",
       "...                                                 ...  \n",
       "2195  {'<dt>Boligtype</dt>': '<dd>lejlighed</dd>', '...  \n",
       "2196  {'<dt>Boligtype</dt>': '<dd>lejlighed</dd>', '...  \n",
       "2197  {'<dt>Boligtype</dt>': '<dd>lejlighed</dd>', '...  \n",
       "2198  {'<dt>Boligtype</dt>': '<dd>lejlighed</dd>', '...  \n",
       "2199  {'<dt>Boligtype</dt>': '<dd>lejlighed</dd>', '...  \n",
       "\n",
       "[2200 rows x 4 columns]"
      ]
     },
     "execution_count": 4,
     "metadata": {},
     "output_type": "execute_result"
    }
   ],
   "source": [
    "df"
   ]
  },
  {
   "cell_type": "code",
   "execution_count": 5,
   "id": "c5ba919f",
   "metadata": {
    "ExecuteTime": {
     "end_time": "2024-03-18T19:54:02.101041Z",
     "start_time": "2024-03-18T19:54:02.086975Z"
    }
   },
   "outputs": [],
   "source": [
    "# Split at <dt> and convert string to a list \n",
    "df[\"features\"] = df[\"features\"].apply(lambda x: x.split(\"<dt>\"))"
   ]
  },
  {
   "cell_type": "code",
   "execution_count": 6,
   "id": "a0476f48",
   "metadata": {
    "ExecuteTime": {
     "end_time": "2024-03-18T19:54:02.117045Z",
     "start_time": "2024-03-18T19:54:02.103042Z"
    }
   },
   "outputs": [],
   "source": [
    "max_len = 0\n",
    "index = 0\n",
    "for i in range(len(df[\"features\"])):\n",
    "    if len(df[\"features\"][i])>max_len:\n",
    "        max_len = len(df[\"features\"][i])\n",
    "        index = i"
   ]
  },
  {
   "cell_type": "code",
   "execution_count": 7,
   "id": "aa05f112",
   "metadata": {
    "ExecuteTime": {
     "end_time": "2024-03-18T19:54:02.132050Z",
     "start_time": "2024-03-18T19:54:02.118045Z"
    }
   },
   "outputs": [
    {
     "data": {
      "text/plain": [
       "(12, 2)"
      ]
     },
     "execution_count": 7,
     "metadata": {},
     "output_type": "execute_result"
    }
   ],
   "source": [
    "max_len, index "
   ]
  },
  {
   "cell_type": "code",
   "execution_count": 8,
   "id": "27d7be66",
   "metadata": {
    "ExecuteTime": {
     "end_time": "2024-03-18T19:54:02.147763Z",
     "start_time": "2024-03-18T19:54:02.133050Z"
    }
   },
   "outputs": [],
   "source": [
    "# I will use apply to each element of my serie. I will create a function that recieves a list. Iterates through each\n",
    "# element of the list. Search for special keywords and store the result in a dictionary."
   ]
  },
  {
   "cell_type": "code",
   "execution_count": 13,
   "id": "9fc32b7e",
   "metadata": {
    "ExecuteTime": {
     "end_time": "2024-03-18T19:55:46.491284Z",
     "start_time": "2024-03-18T19:55:46.476281Z"
    }
   },
   "outputs": [],
   "source": [
    "features_dict = {\"Boligtype\":[], \"Adress\":[], \"Postnr\":[], \"Antal værelser\":[], \"Boligkvm\":[], \"Forudbetalt leje\":[],\n",
    "                \"Depositum\":[], \"Fremleje\":[], \"A/C forbrug\":[], \"Overtagelsesdato\":[], \"Fakta\":[]}\n",
    "\"\"\"\n",
    "lst : input is a list \n",
    "\n",
    "This function receives a list as an input. Iterates through each element of the list,\n",
    "search for a specific keyword and store the result in a dictionary. If the special keyword in not\n",
    "present in the list then it is filled with none.\n",
    "\n",
    "return a dictionary with key the columns of my initial dataframe and values lists \n",
    "\"\"\"\n",
    "def split_features(lst):\n",
    "    initial_len_bolig = len(features_dict[\"Boligtype\"])\n",
    "    initial_len_ad = len(features_dict[\"Adress\"])\n",
    "    initial_len_post = len(features_dict[\"Postnr\"])\n",
    "    initial_len_antal = len(features_dict[\"Antal værelser\"])\n",
    "    initial_len_kvm = len(features_dict[\"Boligkvm\"])\n",
    "    initial_len_forud = len(features_dict[\"Forudbetalt leje\"])\n",
    "    initial_len_depo = len(features_dict[\"Depositum\"])\n",
    "    initial_len_frem = len(features_dict[\"Fremleje\"])\n",
    "    initial_len_ac = len(features_dict[\"A/C forbrug\"])\n",
    "    initial_len_over = len(features_dict[\"Overtagelsesdato\"])\n",
    "    initial_len_fakta = len(features_dict[\"Fakta\"])\n",
    "    for i in range(len(lst)):\n",
    "        if \"Boligtype\" in lst[i]:\n",
    "            features_dict[\"Boligtype\"].append(lst[i])\n",
    "        if \"Adress\" in lst[i]:\n",
    "            features_dict[\"Adress\"].append(lst[i])\n",
    "        if \"Postnr\" in lst[i]:\n",
    "            features_dict[\"Postnr\"].append(lst[i])\n",
    "        if \"Antal værelser\" in lst[i]:\n",
    "            features_dict[\"Antal værelser\"].append(lst[i])\n",
    "        if \"Boligkvm\" in lst[i]:\n",
    "            features_dict[\"Boligkvm\"].append(lst[i])\n",
    "        if \"Forudbetalt leje\" in lst[i]:\n",
    "            features_dict[\"Forudbetalt leje\"].append(lst[i])\n",
    "        if \"Depositum\" in lst[i]:\n",
    "            features_dict[\"Depositum\"].append(lst[i])\n",
    "        if \"Fremleje\" in lst[i]:\n",
    "            features_dict[\"Fremleje\"].append(lst[i])\n",
    "        if \"A/C forbrug\" in lst[i]:\n",
    "            features_dict[\"A/C forbrug\"].append(lst[i])\n",
    "        if \"Overtagelsesdato\" in lst[i]:\n",
    "            features_dict[\"Overtagelsesdato\"].append(lst[i])\n",
    "        if \"Fakta\" in lst[i]:\n",
    "            features_dict[\"Fakta\"].append(lst[i])\n",
    "    if len(features_dict[\"Boligtype\"]) == initial_len_bolig:\n",
    "        features_dict[\"Boligtype\"].append(None)\n",
    "    if len(features_dict[\"Adress\"]) == initial_len_ad:\n",
    "        features_dict[\"Adress\"].append(None)\n",
    "    if len(features_dict[\"Postnr\"]) == initial_len_post:\n",
    "        features_dict[\"Postnr\"].append(None)\n",
    "    if len(features_dict[\"Antal værelser\"]) == initial_len_antal:\n",
    "        features_dict[\"Antal værelser\"].append(None)\n",
    "    if len(features_dict[\"Boligkvm\"]) == initial_len_kvm:\n",
    "        features_dict[\"Boligkvm\"].append(None)\n",
    "    if len(features_dict[\"Forudbetalt leje\"]) == initial_len_forud:\n",
    "        features_dict[\"Forudbetalt leje\"].append(None)\n",
    "    if len(features_dict[\"Depositum\"]) == initial_len_depo:\n",
    "        features_dict[\"Depositum\"].append(None)\n",
    "    if len(features_dict[\"Fremleje\"]) == initial_len_frem:\n",
    "        features_dict[\"Fremleje\"].append(None)\n",
    "    if len(features_dict[\"A/C forbrug\"]) == initial_len_ac:\n",
    "        features_dict[\"A/C forbrug\"].append(None)\n",
    "    if len(features_dict[\"Overtagelsesdato\"]) == initial_len_over:\n",
    "        features_dict[\"Overtagelsesdato\"].append(None)\n",
    "    if len(features_dict[\"Fakta\"]) == initial_len_fakta:\n",
    "        features_dict[\"Fakta\"].append(None)\n",
    "    return features_dict"
   ]
  },
  {
   "cell_type": "code",
   "execution_count": 14,
   "id": "b7dd9c8e",
   "metadata": {
    "ExecuteTime": {
     "end_time": "2024-03-18T19:55:46.569394Z",
     "start_time": "2024-03-18T19:55:46.493285Z"
    }
   },
   "outputs": [],
   "source": [
    "# apply the function for each element of features column\n",
    "for i in range(len(df['features'])):\n",
    "    data=split_features(df[\"features\"][i])"
   ]
  },
  {
   "cell_type": "code",
   "execution_count": 15,
   "id": "09da8f00",
   "metadata": {
    "ExecuteTime": {
     "end_time": "2024-03-18T19:55:46.584611Z",
     "start_time": "2024-03-18T19:55:46.570394Z"
    }
   },
   "outputs": [],
   "source": [
    "# By using the keys of the data dictionary, create new columns in the initial dataframe\n",
    "for k in data.keys():\n",
    "    df[k] = data[k]"
   ]
  },
  {
   "cell_type": "code",
   "execution_count": 16,
   "id": "97ea5c24",
   "metadata": {
    "ExecuteTime": {
     "end_time": "2024-03-18T19:55:46.615618Z",
     "start_time": "2024-03-18T19:55:46.587611Z"
    }
   },
   "outputs": [
    {
     "data": {
      "text/html": [
       "<div>\n",
       "<style scoped>\n",
       "    .dataframe tbody tr th:only-of-type {\n",
       "        vertical-align: middle;\n",
       "    }\n",
       "\n",
       "    .dataframe tbody tr th {\n",
       "        vertical-align: top;\n",
       "    }\n",
       "\n",
       "    .dataframe thead th {\n",
       "        text-align: right;\n",
       "    }\n",
       "</style>\n",
       "<table border=\"1\" class=\"dataframe\">\n",
       "  <thead>\n",
       "    <tr style=\"text-align: right;\">\n",
       "      <th></th>\n",
       "      <th>title</th>\n",
       "      <th>price</th>\n",
       "      <th>description</th>\n",
       "      <th>features</th>\n",
       "      <th>Boligtype</th>\n",
       "      <th>Adress</th>\n",
       "      <th>Postnr</th>\n",
       "      <th>Antal værelser</th>\n",
       "      <th>Boligkvm</th>\n",
       "      <th>Forudbetalt leje</th>\n",
       "      <th>Depositum</th>\n",
       "      <th>Fremleje</th>\n",
       "      <th>A/C forbrug</th>\n",
       "      <th>Overtagelsesdato</th>\n",
       "      <th>Fakta</th>\n",
       "    </tr>\n",
       "  </thead>\n",
       "  <tbody>\n",
       "    <tr>\n",
       "      <th>0</th>\n",
       "      <td>3500 3 vær. lejlighed, 69 m2, Bymidten 56 56 2</td>\n",
       "      <td>11 kr.</td>\n",
       "      <td>3500 3 vær. lejlighed, 69 m2, Bymi...</td>\n",
       "      <td>[{', Boligtype&lt;/dt&gt;': '&lt;dd&gt;lejlighed&lt;/dd&gt;', ',...</td>\n",
       "      <td>Boligtype&lt;/dt&gt;': '&lt;dd&gt;lejlighed&lt;/dd&gt;', '</td>\n",
       "      <td>Adresse&lt;/dt&gt;': '&lt;dd&gt;Bymidten 56 56 2&lt;/dd&gt;', '</td>\n",
       "      <td>Postnr.&lt;/dt&gt;': '&lt;dd&gt;3500&lt;/dd&gt;', '</td>\n",
       "      <td>Antal værelser&lt;/dt&gt;': '&lt;dd&gt;3&lt;/dd&gt;', '</td>\n",
       "      <td>Boligkvm.&lt;/dt&gt;': '&lt;dd&gt;69&lt;/dd&gt;', '</td>\n",
       "      <td>Forudbetalt leje&lt;/dt&gt;': '&lt;dd&gt;1&lt;/dd&gt;', '</td>\n",
       "      <td>Depositum&lt;/dt&gt;': '&lt;dd&gt;33000&lt;/dd&gt;', '</td>\n",
       "      <td>None</td>\n",
       "      <td>None</td>\n",
       "      <td>Overtagelsesdato&lt;/dt&gt;': '&lt;dd&gt;1/4-2024&lt;/dd&gt;', '</td>\n",
       "      <td>Fakta&lt;/dt&gt;': '&lt;dd&gt;vaskemaskine, opvaskemaskine...</td>\n",
       "    </tr>\n",
       "    <tr>\n",
       "      <th>1</th>\n",
       "      <td>2860 3 vær. lejlighed, 72 m2, 10000 i depositum</td>\n",
       "      <td>10.000 kr.</td>\n",
       "      <td>2860 3 vær. lejlighed, 72 m2, 1000...</td>\n",
       "      <td>[{', Boligtype&lt;/dt&gt;': '&lt;dd&gt;lejlighed&lt;/dd&gt;', ',...</td>\n",
       "      <td>Boligtype&lt;/dt&gt;': '&lt;dd&gt;lejlighed&lt;/dd&gt;', '</td>\n",
       "      <td>None</td>\n",
       "      <td>Postnr.&lt;/dt&gt;': '&lt;dd&gt;2860&lt;/dd&gt;', '</td>\n",
       "      <td>Antal værelser&lt;/dt&gt;': '&lt;dd&gt;3&lt;/dd&gt;', '</td>\n",
       "      <td>Boligkvm.&lt;/dt&gt;': '&lt;dd&gt;72&lt;/dd&gt;', '</td>\n",
       "      <td>None</td>\n",
       "      <td>Depositum&lt;/dt&gt;': '&lt;dd&gt;10000&lt;/dd&gt;'}</td>\n",
       "      <td>None</td>\n",
       "      <td>None</td>\n",
       "      <td>None</td>\n",
       "      <td>None</td>\n",
       "    </tr>\n",
       "    <tr>\n",
       "      <th>2</th>\n",
       "      <td>1658 4 vær. lejlighed, 81 m2, Absalonsgade 46 ...</td>\n",
       "      <td>18.000 kr.</td>\n",
       "      <td>1658 4 vær. lejlighed, 81 m2, Absa...</td>\n",
       "      <td>[{', Boligtype&lt;/dt&gt;': '&lt;dd&gt;lejlighed&lt;/dd&gt;', ',...</td>\n",
       "      <td>Boligtype&lt;/dt&gt;': '&lt;dd&gt;lejlighed&lt;/dd&gt;', '</td>\n",
       "      <td>Adresse&lt;/dt&gt;': '&lt;dd&gt;Absalonsgade 46 3.tv&lt;/dd&gt;', '</td>\n",
       "      <td>Postnr.&lt;/dt&gt;': '&lt;dd&gt;1658&lt;/dd&gt;', '</td>\n",
       "      <td>Antal værelser&lt;/dt&gt;': '&lt;dd&gt;4&lt;/dd&gt;', '</td>\n",
       "      <td>Boligkvm.&lt;/dt&gt;': '&lt;dd&gt;81&lt;/dd&gt;', '</td>\n",
       "      <td>Forudbetalt leje&lt;/dt&gt;': '&lt;dd&gt;1&lt;/dd&gt;', '</td>\n",
       "      <td>Depositum&lt;/dt&gt;': '&lt;dd&gt;18000&lt;/dd&gt;', '</td>\n",
       "      <td>Fremleje&lt;/dt&gt;': '&lt;dd&gt;ja&lt;/dd&gt;', '</td>\n",
       "      <td>A/C forbrug&lt;/dt&gt;': '&lt;dd&gt;1800&lt;/dd&gt;', '</td>\n",
       "      <td>Overtagelsesdato&lt;/dt&gt;': '&lt;dd&gt;1.7.2024&lt;/dd&gt;', '</td>\n",
       "      <td>Fakta&lt;/dt&gt;': '&lt;dd&gt;altan, møbleret, vaskemaskin...</td>\n",
       "    </tr>\n",
       "    <tr>\n",
       "      <th>3</th>\n",
       "      <td>2300 1 vær. lejlighed, 18 m2, Prøvestens Allé ...</td>\n",
       "      <td>1.800 kr.</td>\n",
       "      <td>2300 1 vær. lejlighed, 18 m2, Prøv...</td>\n",
       "      <td>[{', Boligtype&lt;/dt&gt;': '&lt;dd&gt;lejlighed&lt;/dd&gt;', ',...</td>\n",
       "      <td>Boligtype&lt;/dt&gt;': '&lt;dd&gt;lejlighed&lt;/dd&gt;', '</td>\n",
       "      <td>Adresse&lt;/dt&gt;': '&lt;dd&gt;Prøvestens Allé 7 st.&lt;/dd&gt;...</td>\n",
       "      <td>Postnr.&lt;/dt&gt;': '&lt;dd&gt;2300&lt;/dd&gt;', '</td>\n",
       "      <td>Antal værelser&lt;/dt&gt;': '&lt;dd&gt;1&lt;/dd&gt;', '</td>\n",
       "      <td>Boligkvm.&lt;/dt&gt;': '&lt;dd&gt;18&lt;/dd&gt;', '</td>\n",
       "      <td>Forudbetalt leje&lt;/dt&gt;': '&lt;dd&gt;1800&lt;/dd&gt;', '</td>\n",
       "      <td>Depositum&lt;/dt&gt;': '&lt;dd&gt;3600&lt;/dd&gt;', '</td>\n",
       "      <td>Fremleje&lt;/dt&gt;': '&lt;dd&gt;ja&lt;/dd&gt;', '</td>\n",
       "      <td>None</td>\n",
       "      <td>Overtagelsesdato&lt;/dt&gt;': '&lt;dd&gt;Omgående&lt;/dd&gt;'}</td>\n",
       "      <td>None</td>\n",
       "    </tr>\n",
       "    <tr>\n",
       "      <th>4</th>\n",
       "      <td>3 værelses lejlighed i København Ø 2100 på 112...</td>\n",
       "      <td>18.950 kr.</td>\n",
       "      <td>2100 vær. 3 Lejlighed, m2 112, Pak...</td>\n",
       "      <td>[{', Boligtype&lt;/dt&gt;': '&lt;dd&gt;lejlighed&lt;/dd&gt;', ',...</td>\n",
       "      <td>Boligtype&lt;/dt&gt;': '&lt;dd&gt;lejlighed&lt;/dd&gt;', '</td>\n",
       "      <td>Adresse&lt;/dt&gt;': '&lt;dd&gt;Pakhusvej&lt;/dd&gt;', '</td>\n",
       "      <td>Postnr.&lt;/dt&gt;': '&lt;dd&gt;2100&lt;/dd&gt;', '</td>\n",
       "      <td>Antal værelser&lt;/dt&gt;': '&lt;dd&gt;3&lt;/dd&gt;', '</td>\n",
       "      <td>Boligkvm.&lt;/dt&gt;': '&lt;dd&gt;112&lt;/dd&gt;', '</td>\n",
       "      <td>Forudbetalt leje&lt;/dt&gt;': '&lt;dd&gt;0&lt;/dd&gt;', '</td>\n",
       "      <td>Depositum&lt;/dt&gt;': '&lt;dd&gt;56850&lt;/dd&gt;', '</td>\n",
       "      <td>None</td>\n",
       "      <td>A/C forbrug&lt;/dt&gt;': '&lt;dd&gt;1600&lt;/dd&gt;'}</td>\n",
       "      <td>None</td>\n",
       "      <td>None</td>\n",
       "    </tr>\n",
       "    <tr>\n",
       "      <th>...</th>\n",
       "      <td>...</td>\n",
       "      <td>...</td>\n",
       "      <td>...</td>\n",
       "      <td>...</td>\n",
       "      <td>...</td>\n",
       "      <td>...</td>\n",
       "      <td>...</td>\n",
       "      <td>...</td>\n",
       "      <td>...</td>\n",
       "      <td>...</td>\n",
       "      <td>...</td>\n",
       "      <td>...</td>\n",
       "      <td>...</td>\n",
       "      <td>...</td>\n",
       "      <td>...</td>\n",
       "    </tr>\n",
       "    <tr>\n",
       "      <th>2195</th>\n",
       "      <td>Rækkehus i Solrød Strand 2680 på 87 kvm</td>\n",
       "      <td>10.950 kr.</td>\n",
       "      <td>2680 vær. 3 Lejlighed, m2 87, Åsve...</td>\n",
       "      <td>[{', Boligtype&lt;/dt&gt;': '&lt;dd&gt;lejlighed&lt;/dd&gt;', ',...</td>\n",
       "      <td>Boligtype&lt;/dt&gt;': '&lt;dd&gt;lejlighed&lt;/dd&gt;', '</td>\n",
       "      <td>Adresse&lt;/dt&gt;': '&lt;dd&gt;Åsvej&lt;/dd&gt;', '</td>\n",
       "      <td>Postnr.&lt;/dt&gt;': '&lt;dd&gt;2680&lt;/dd&gt;', '</td>\n",
       "      <td>Antal værelser&lt;/dt&gt;': '&lt;dd&gt;3&lt;/dd&gt;', '</td>\n",
       "      <td>Boligkvm.&lt;/dt&gt;': '&lt;dd&gt;87&lt;/dd&gt;', '</td>\n",
       "      <td>Forudbetalt leje&lt;/dt&gt;': '&lt;dd&gt;10950&lt;/dd&gt;', '</td>\n",
       "      <td>Depositum&lt;/dt&gt;': '&lt;dd&gt;32850&lt;/dd&gt;', '</td>\n",
       "      <td>None</td>\n",
       "      <td>A/C forbrug&lt;/dt&gt;': '&lt;dd&gt;1200&lt;/dd&gt;'}</td>\n",
       "      <td>None</td>\n",
       "      <td>None</td>\n",
       "    </tr>\n",
       "    <tr>\n",
       "      <th>2196</th>\n",
       "      <td>Rækkehus i Solrød Strand 2680 på 87 kvm</td>\n",
       "      <td>10.950 kr.</td>\n",
       "      <td>2680 vær. 3 Lejlighed, m2 87, Åsve...</td>\n",
       "      <td>[{', Boligtype&lt;/dt&gt;': '&lt;dd&gt;lejlighed&lt;/dd&gt;', ',...</td>\n",
       "      <td>Boligtype&lt;/dt&gt;': '&lt;dd&gt;lejlighed&lt;/dd&gt;', '</td>\n",
       "      <td>Adresse&lt;/dt&gt;': '&lt;dd&gt;Åsvej&lt;/dd&gt;', '</td>\n",
       "      <td>Postnr.&lt;/dt&gt;': '&lt;dd&gt;2680&lt;/dd&gt;', '</td>\n",
       "      <td>Antal værelser&lt;/dt&gt;': '&lt;dd&gt;3&lt;/dd&gt;', '</td>\n",
       "      <td>Boligkvm.&lt;/dt&gt;': '&lt;dd&gt;87&lt;/dd&gt;', '</td>\n",
       "      <td>Forudbetalt leje&lt;/dt&gt;': '&lt;dd&gt;10950&lt;/dd&gt;', '</td>\n",
       "      <td>Depositum&lt;/dt&gt;': '&lt;dd&gt;32850&lt;/dd&gt;', '</td>\n",
       "      <td>None</td>\n",
       "      <td>A/C forbrug&lt;/dt&gt;': '&lt;dd&gt;1200&lt;/dd&gt;'}</td>\n",
       "      <td>None</td>\n",
       "      <td>None</td>\n",
       "    </tr>\n",
       "    <tr>\n",
       "      <th>2197</th>\n",
       "      <td>4 vær. eller større i Søborg 2860 på 98 kvm</td>\n",
       "      <td>15.100 kr.</td>\n",
       "      <td>2860 vær. 4 Lejlighed, m2 98, Gyng...</td>\n",
       "      <td>[{', Boligtype&lt;/dt&gt;': '&lt;dd&gt;lejlighed&lt;/dd&gt;', ',...</td>\n",
       "      <td>Boligtype&lt;/dt&gt;': '&lt;dd&gt;lejlighed&lt;/dd&gt;', '</td>\n",
       "      <td>Adresse&lt;/dt&gt;': '&lt;dd&gt;Gyngemose Parkvej&lt;/dd&gt;', '</td>\n",
       "      <td>Postnr.&lt;/dt&gt;': '&lt;dd&gt;2860&lt;/dd&gt;', '</td>\n",
       "      <td>Antal værelser&lt;/dt&gt;': '&lt;dd&gt;4&lt;/dd&gt;', '</td>\n",
       "      <td>Boligkvm.&lt;/dt&gt;': '&lt;dd&gt;98&lt;/dd&gt;', '</td>\n",
       "      <td>Forudbetalt leje&lt;/dt&gt;': '&lt;dd&gt;15100&lt;/dd&gt;', '</td>\n",
       "      <td>Depositum&lt;/dt&gt;': '&lt;dd&gt;45300&lt;/dd&gt;', '</td>\n",
       "      <td>None</td>\n",
       "      <td>A/C forbrug&lt;/dt&gt;': '&lt;dd&gt;800&lt;/dd&gt;'}</td>\n",
       "      <td>None</td>\n",
       "      <td>None</td>\n",
       "    </tr>\n",
       "    <tr>\n",
       "      <th>2198</th>\n",
       "      <td>2 værelses lejlighed i København S 2300 på 80 kvm</td>\n",
       "      <td>16.900 kr.</td>\n",
       "      <td>2300 vær. 2 Lejlighed, m2 80, Isla...</td>\n",
       "      <td>[{', Boligtype&lt;/dt&gt;': '&lt;dd&gt;lejlighed&lt;/dd&gt;', ',...</td>\n",
       "      <td>Boligtype&lt;/dt&gt;': '&lt;dd&gt;lejlighed&lt;/dd&gt;', '</td>\n",
       "      <td>Adresse&lt;/dt&gt;': '&lt;dd&gt;Islands Brygge&lt;/dd&gt;', '</td>\n",
       "      <td>Postnr.&lt;/dt&gt;': '&lt;dd&gt;2300&lt;/dd&gt;', '</td>\n",
       "      <td>Antal værelser&lt;/dt&gt;': '&lt;dd&gt;2&lt;/dd&gt;', '</td>\n",
       "      <td>Boligkvm.&lt;/dt&gt;': '&lt;dd&gt;80&lt;/dd&gt;', '</td>\n",
       "      <td>Forudbetalt leje&lt;/dt&gt;': '&lt;dd&gt;16900&lt;/dd&gt;', '</td>\n",
       "      <td>Depositum&lt;/dt&gt;': '&lt;dd&gt;50700&lt;/dd&gt;', '</td>\n",
       "      <td>None</td>\n",
       "      <td>A/C forbrug&lt;/dt&gt;': '&lt;dd&gt;1000&lt;/dd&gt;'}</td>\n",
       "      <td>None</td>\n",
       "      <td>None</td>\n",
       "    </tr>\n",
       "    <tr>\n",
       "      <th>2199</th>\n",
       "      <td>3 værelses lejlighed i Valby 2500 på 91 kvm</td>\n",
       "      <td>17.700 kr.</td>\n",
       "      <td>2500 vær. 3 Lejlighed, m2 91, Skel...</td>\n",
       "      <td>[{', Boligtype&lt;/dt&gt;': '&lt;dd&gt;lejlighed&lt;/dd&gt;', ',...</td>\n",
       "      <td>Boligtype&lt;/dt&gt;': '&lt;dd&gt;lejlighed&lt;/dd&gt;', '</td>\n",
       "      <td>Adresse&lt;/dt&gt;': '&lt;dd&gt;Skelmosevej&lt;/dd&gt;', '</td>\n",
       "      <td>Postnr.&lt;/dt&gt;': '&lt;dd&gt;2500&lt;/dd&gt;', '</td>\n",
       "      <td>Antal værelser&lt;/dt&gt;': '&lt;dd&gt;3&lt;/dd&gt;', '</td>\n",
       "      <td>Boligkvm.&lt;/dt&gt;': '&lt;dd&gt;91&lt;/dd&gt;', '</td>\n",
       "      <td>Forudbetalt leje&lt;/dt&gt;': '&lt;dd&gt;53100&lt;/dd&gt;', '</td>\n",
       "      <td>Depositum&lt;/dt&gt;': '&lt;dd&gt;53100&lt;/dd&gt;', '</td>\n",
       "      <td>None</td>\n",
       "      <td>A/C forbrug&lt;/dt&gt;': '&lt;dd&gt;1000&lt;/dd&gt;'}</td>\n",
       "      <td>None</td>\n",
       "      <td>None</td>\n",
       "    </tr>\n",
       "  </tbody>\n",
       "</table>\n",
       "<p>2200 rows × 15 columns</p>\n",
       "</div>"
      ],
      "text/plain": [
       "                                                  title       price  \\\n",
       "0        3500 3 vær. lejlighed, 69 m2, Bymidten 56 56 2      11 kr.   \n",
       "1       2860 3 vær. lejlighed, 72 m2, 10000 i depositum  10.000 kr.   \n",
       "2     1658 4 vær. lejlighed, 81 m2, Absalonsgade 46 ...  18.000 kr.   \n",
       "3     2300 1 vær. lejlighed, 18 m2, Prøvestens Allé ...   1.800 kr.   \n",
       "4     3 værelses lejlighed i København Ø 2100 på 112...  18.950 kr.   \n",
       "...                                                 ...         ...   \n",
       "2195            Rækkehus i Solrød Strand 2680 på 87 kvm  10.950 kr.   \n",
       "2196            Rækkehus i Solrød Strand 2680 på 87 kvm  10.950 kr.   \n",
       "2197        4 vær. eller større i Søborg 2860 på 98 kvm  15.100 kr.   \n",
       "2198  2 værelses lejlighed i København S 2300 på 80 kvm  16.900 kr.   \n",
       "2199        3 værelses lejlighed i Valby 2500 på 91 kvm  17.700 kr.   \n",
       "\n",
       "                                            description  \\\n",
       "0                 3500 3 vær. lejlighed, 69 m2, Bymi...   \n",
       "1                 2860 3 vær. lejlighed, 72 m2, 1000...   \n",
       "2                 1658 4 vær. lejlighed, 81 m2, Absa...   \n",
       "3                 2300 1 vær. lejlighed, 18 m2, Prøv...   \n",
       "4                 2100 vær. 3 Lejlighed, m2 112, Pak...   \n",
       "...                                                 ...   \n",
       "2195              2680 vær. 3 Lejlighed, m2 87, Åsve...   \n",
       "2196              2680 vær. 3 Lejlighed, m2 87, Åsve...   \n",
       "2197              2860 vær. 4 Lejlighed, m2 98, Gyng...   \n",
       "2198              2300 vær. 2 Lejlighed, m2 80, Isla...   \n",
       "2199              2500 vær. 3 Lejlighed, m2 91, Skel...   \n",
       "\n",
       "                                               features  \\\n",
       "0     [{', Boligtype</dt>': '<dd>lejlighed</dd>', ',...   \n",
       "1     [{', Boligtype</dt>': '<dd>lejlighed</dd>', ',...   \n",
       "2     [{', Boligtype</dt>': '<dd>lejlighed</dd>', ',...   \n",
       "3     [{', Boligtype</dt>': '<dd>lejlighed</dd>', ',...   \n",
       "4     [{', Boligtype</dt>': '<dd>lejlighed</dd>', ',...   \n",
       "...                                                 ...   \n",
       "2195  [{', Boligtype</dt>': '<dd>lejlighed</dd>', ',...   \n",
       "2196  [{', Boligtype</dt>': '<dd>lejlighed</dd>', ',...   \n",
       "2197  [{', Boligtype</dt>': '<dd>lejlighed</dd>', ',...   \n",
       "2198  [{', Boligtype</dt>': '<dd>lejlighed</dd>', ',...   \n",
       "2199  [{', Boligtype</dt>': '<dd>lejlighed</dd>', ',...   \n",
       "\n",
       "                                     Boligtype  \\\n",
       "0     Boligtype</dt>': '<dd>lejlighed</dd>', '   \n",
       "1     Boligtype</dt>': '<dd>lejlighed</dd>', '   \n",
       "2     Boligtype</dt>': '<dd>lejlighed</dd>', '   \n",
       "3     Boligtype</dt>': '<dd>lejlighed</dd>', '   \n",
       "4     Boligtype</dt>': '<dd>lejlighed</dd>', '   \n",
       "...                                        ...   \n",
       "2195  Boligtype</dt>': '<dd>lejlighed</dd>', '   \n",
       "2196  Boligtype</dt>': '<dd>lejlighed</dd>', '   \n",
       "2197  Boligtype</dt>': '<dd>lejlighed</dd>', '   \n",
       "2198  Boligtype</dt>': '<dd>lejlighed</dd>', '   \n",
       "2199  Boligtype</dt>': '<dd>lejlighed</dd>', '   \n",
       "\n",
       "                                                 Adress  \\\n",
       "0         Adresse</dt>': '<dd>Bymidten 56 56 2</dd>', '   \n",
       "1                                                  None   \n",
       "2     Adresse</dt>': '<dd>Absalonsgade 46 3.tv</dd>', '   \n",
       "3     Adresse</dt>': '<dd>Prøvestens Allé 7 st.</dd>...   \n",
       "4                Adresse</dt>': '<dd>Pakhusvej</dd>', '   \n",
       "...                                                 ...   \n",
       "2195                 Adresse</dt>': '<dd>Åsvej</dd>', '   \n",
       "2196                 Adresse</dt>': '<dd>Åsvej</dd>', '   \n",
       "2197     Adresse</dt>': '<dd>Gyngemose Parkvej</dd>', '   \n",
       "2198        Adresse</dt>': '<dd>Islands Brygge</dd>', '   \n",
       "2199           Adresse</dt>': '<dd>Skelmosevej</dd>', '   \n",
       "\n",
       "                                 Postnr  \\\n",
       "0     Postnr.</dt>': '<dd>3500</dd>', '   \n",
       "1     Postnr.</dt>': '<dd>2860</dd>', '   \n",
       "2     Postnr.</dt>': '<dd>1658</dd>', '   \n",
       "3     Postnr.</dt>': '<dd>2300</dd>', '   \n",
       "4     Postnr.</dt>': '<dd>2100</dd>', '   \n",
       "...                                 ...   \n",
       "2195  Postnr.</dt>': '<dd>2680</dd>', '   \n",
       "2196  Postnr.</dt>': '<dd>2680</dd>', '   \n",
       "2197  Postnr.</dt>': '<dd>2860</dd>', '   \n",
       "2198  Postnr.</dt>': '<dd>2300</dd>', '   \n",
       "2199  Postnr.</dt>': '<dd>2500</dd>', '   \n",
       "\n",
       "                             Antal værelser  \\\n",
       "0     Antal værelser</dt>': '<dd>3</dd>', '   \n",
       "1     Antal værelser</dt>': '<dd>3</dd>', '   \n",
       "2     Antal værelser</dt>': '<dd>4</dd>', '   \n",
       "3     Antal værelser</dt>': '<dd>1</dd>', '   \n",
       "4     Antal værelser</dt>': '<dd>3</dd>', '   \n",
       "...                                     ...   \n",
       "2195  Antal værelser</dt>': '<dd>3</dd>', '   \n",
       "2196  Antal værelser</dt>': '<dd>3</dd>', '   \n",
       "2197  Antal værelser</dt>': '<dd>4</dd>', '   \n",
       "2198  Antal værelser</dt>': '<dd>2</dd>', '   \n",
       "2199  Antal værelser</dt>': '<dd>3</dd>', '   \n",
       "\n",
       "                                Boligkvm  \\\n",
       "0      Boligkvm.</dt>': '<dd>69</dd>', '   \n",
       "1      Boligkvm.</dt>': '<dd>72</dd>', '   \n",
       "2      Boligkvm.</dt>': '<dd>81</dd>', '   \n",
       "3      Boligkvm.</dt>': '<dd>18</dd>', '   \n",
       "4     Boligkvm.</dt>': '<dd>112</dd>', '   \n",
       "...                                  ...   \n",
       "2195   Boligkvm.</dt>': '<dd>87</dd>', '   \n",
       "2196   Boligkvm.</dt>': '<dd>87</dd>', '   \n",
       "2197   Boligkvm.</dt>': '<dd>98</dd>', '   \n",
       "2198   Boligkvm.</dt>': '<dd>80</dd>', '   \n",
       "2199   Boligkvm.</dt>': '<dd>91</dd>', '   \n",
       "\n",
       "                                 Forudbetalt leje  \\\n",
       "0         Forudbetalt leje</dt>': '<dd>1</dd>', '   \n",
       "1                                            None   \n",
       "2         Forudbetalt leje</dt>': '<dd>1</dd>', '   \n",
       "3      Forudbetalt leje</dt>': '<dd>1800</dd>', '   \n",
       "4         Forudbetalt leje</dt>': '<dd>0</dd>', '   \n",
       "...                                           ...   \n",
       "2195  Forudbetalt leje</dt>': '<dd>10950</dd>', '   \n",
       "2196  Forudbetalt leje</dt>': '<dd>10950</dd>', '   \n",
       "2197  Forudbetalt leje</dt>': '<dd>15100</dd>', '   \n",
       "2198  Forudbetalt leje</dt>': '<dd>16900</dd>', '   \n",
       "2199  Forudbetalt leje</dt>': '<dd>53100</dd>', '   \n",
       "\n",
       "                                 Depositum                          Fremleje  \\\n",
       "0     Depositum</dt>': '<dd>33000</dd>', '                              None   \n",
       "1       Depositum</dt>': '<dd>10000</dd>'}                              None   \n",
       "2     Depositum</dt>': '<dd>18000</dd>', '  Fremleje</dt>': '<dd>ja</dd>', '   \n",
       "3      Depositum</dt>': '<dd>3600</dd>', '  Fremleje</dt>': '<dd>ja</dd>', '   \n",
       "4     Depositum</dt>': '<dd>56850</dd>', '                              None   \n",
       "...                                    ...                               ...   \n",
       "2195  Depositum</dt>': '<dd>32850</dd>', '                              None   \n",
       "2196  Depositum</dt>': '<dd>32850</dd>', '                              None   \n",
       "2197  Depositum</dt>': '<dd>45300</dd>', '                              None   \n",
       "2198  Depositum</dt>': '<dd>50700</dd>', '                              None   \n",
       "2199  Depositum</dt>': '<dd>53100</dd>', '                              None   \n",
       "\n",
       "                                A/C forbrug  \\\n",
       "0                                      None   \n",
       "1                                      None   \n",
       "2     A/C forbrug</dt>': '<dd>1800</dd>', '   \n",
       "3                                      None   \n",
       "4       A/C forbrug</dt>': '<dd>1600</dd>'}   \n",
       "...                                     ...   \n",
       "2195    A/C forbrug</dt>': '<dd>1200</dd>'}   \n",
       "2196    A/C forbrug</dt>': '<dd>1200</dd>'}   \n",
       "2197     A/C forbrug</dt>': '<dd>800</dd>'}   \n",
       "2198    A/C forbrug</dt>': '<dd>1000</dd>'}   \n",
       "2199    A/C forbrug</dt>': '<dd>1000</dd>'}   \n",
       "\n",
       "                                    Overtagelsesdato  \\\n",
       "0     Overtagelsesdato</dt>': '<dd>1/4-2024</dd>', '   \n",
       "1                                               None   \n",
       "2     Overtagelsesdato</dt>': '<dd>1.7.2024</dd>', '   \n",
       "3       Overtagelsesdato</dt>': '<dd>Omgående</dd>'}   \n",
       "4                                               None   \n",
       "...                                              ...   \n",
       "2195                                            None   \n",
       "2196                                            None   \n",
       "2197                                            None   \n",
       "2198                                            None   \n",
       "2199                                            None   \n",
       "\n",
       "                                                  Fakta  \n",
       "0     Fakta</dt>': '<dd>vaskemaskine, opvaskemaskine...  \n",
       "1                                                  None  \n",
       "2     Fakta</dt>': '<dd>altan, møbleret, vaskemaskin...  \n",
       "3                                                  None  \n",
       "4                                                  None  \n",
       "...                                                 ...  \n",
       "2195                                               None  \n",
       "2196                                               None  \n",
       "2197                                               None  \n",
       "2198                                               None  \n",
       "2199                                               None  \n",
       "\n",
       "[2200 rows x 15 columns]"
      ]
     },
     "execution_count": 16,
     "metadata": {},
     "output_type": "execute_result"
    }
   ],
   "source": [
    "df"
   ]
  },
  {
   "cell_type": "code",
   "execution_count": 19,
   "id": "580ba9f3",
   "metadata": {
    "ExecuteTime": {
     "end_time": "2024-03-18T19:56:33.042529Z",
     "start_time": "2024-03-18T19:56:32.989155Z"
    }
   },
   "outputs": [
    {
     "ename": "KeyError",
     "evalue": "\"['features'] not found in axis\"",
     "output_type": "error",
     "traceback": [
      "\u001b[1;31m---------------------------------------------------------------------------\u001b[0m",
      "\u001b[1;31mKeyError\u001b[0m                                  Traceback (most recent call last)",
      "\u001b[1;32m~\\AppData\\Local\\Temp\\ipykernel_19636\\2324708835.py\u001b[0m in \u001b[0;36m<cell line: 2>\u001b[1;34m()\u001b[0m\n\u001b[0;32m      1\u001b[0m \u001b[1;31m# Drop features column as we dont need it any more\u001b[0m\u001b[1;33m\u001b[0m\u001b[1;33m\u001b[0m\u001b[0m\n\u001b[1;32m----> 2\u001b[1;33m \u001b[0mdf\u001b[0m\u001b[1;33m.\u001b[0m\u001b[0mdrop\u001b[0m\u001b[1;33m(\u001b[0m\u001b[1;34m\"features\"\u001b[0m\u001b[1;33m,\u001b[0m\u001b[0maxis\u001b[0m\u001b[1;33m=\u001b[0m\u001b[1;36m1\u001b[0m\u001b[1;33m,\u001b[0m\u001b[0minplace\u001b[0m\u001b[1;33m=\u001b[0m\u001b[1;32mTrue\u001b[0m\u001b[1;33m)\u001b[0m\u001b[1;33m\u001b[0m\u001b[1;33m\u001b[0m\u001b[0m\n\u001b[0m",
      "\u001b[1;32m~\\miniconda3\\lib\\site-packages\\pandas\\util\\_decorators.py\u001b[0m in \u001b[0;36mwrapper\u001b[1;34m(*args, **kwargs)\u001b[0m\n\u001b[0;32m    329\u001b[0m                     \u001b[0mstacklevel\u001b[0m\u001b[1;33m=\u001b[0m\u001b[0mfind_stack_level\u001b[0m\u001b[1;33m(\u001b[0m\u001b[1;33m)\u001b[0m\u001b[1;33m,\u001b[0m\u001b[1;33m\u001b[0m\u001b[1;33m\u001b[0m\u001b[0m\n\u001b[0;32m    330\u001b[0m                 )\n\u001b[1;32m--> 331\u001b[1;33m             \u001b[1;32mreturn\u001b[0m \u001b[0mfunc\u001b[0m\u001b[1;33m(\u001b[0m\u001b[1;33m*\u001b[0m\u001b[0margs\u001b[0m\u001b[1;33m,\u001b[0m \u001b[1;33m**\u001b[0m\u001b[0mkwargs\u001b[0m\u001b[1;33m)\u001b[0m\u001b[1;33m\u001b[0m\u001b[1;33m\u001b[0m\u001b[0m\n\u001b[0m\u001b[0;32m    332\u001b[0m \u001b[1;33m\u001b[0m\u001b[0m\n\u001b[0;32m    333\u001b[0m         \u001b[1;31m# error: \"Callable[[VarArg(Any), KwArg(Any)], Any]\" has no\u001b[0m\u001b[1;33m\u001b[0m\u001b[1;33m\u001b[0m\u001b[0m\n",
      "\u001b[1;32m~\\miniconda3\\lib\\site-packages\\pandas\\core\\frame.py\u001b[0m in \u001b[0;36mdrop\u001b[1;34m(self, labels, axis, index, columns, level, inplace, errors)\u001b[0m\n\u001b[0;32m   5397\u001b[0m                 \u001b[0mweight\u001b[0m  \u001b[1;36m1.0\u001b[0m     \u001b[1;36m0.8\u001b[0m\u001b[1;33m\u001b[0m\u001b[1;33m\u001b[0m\u001b[0m\n\u001b[0;32m   5398\u001b[0m         \"\"\"\n\u001b[1;32m-> 5399\u001b[1;33m         return super().drop(\n\u001b[0m\u001b[0;32m   5400\u001b[0m             \u001b[0mlabels\u001b[0m\u001b[1;33m=\u001b[0m\u001b[0mlabels\u001b[0m\u001b[1;33m,\u001b[0m\u001b[1;33m\u001b[0m\u001b[1;33m\u001b[0m\u001b[0m\n\u001b[0;32m   5401\u001b[0m             \u001b[0maxis\u001b[0m\u001b[1;33m=\u001b[0m\u001b[0maxis\u001b[0m\u001b[1;33m,\u001b[0m\u001b[1;33m\u001b[0m\u001b[1;33m\u001b[0m\u001b[0m\n",
      "\u001b[1;32m~\\miniconda3\\lib\\site-packages\\pandas\\util\\_decorators.py\u001b[0m in \u001b[0;36mwrapper\u001b[1;34m(*args, **kwargs)\u001b[0m\n\u001b[0;32m    329\u001b[0m                     \u001b[0mstacklevel\u001b[0m\u001b[1;33m=\u001b[0m\u001b[0mfind_stack_level\u001b[0m\u001b[1;33m(\u001b[0m\u001b[1;33m)\u001b[0m\u001b[1;33m,\u001b[0m\u001b[1;33m\u001b[0m\u001b[1;33m\u001b[0m\u001b[0m\n\u001b[0;32m    330\u001b[0m                 )\n\u001b[1;32m--> 331\u001b[1;33m             \u001b[1;32mreturn\u001b[0m \u001b[0mfunc\u001b[0m\u001b[1;33m(\u001b[0m\u001b[1;33m*\u001b[0m\u001b[0margs\u001b[0m\u001b[1;33m,\u001b[0m \u001b[1;33m**\u001b[0m\u001b[0mkwargs\u001b[0m\u001b[1;33m)\u001b[0m\u001b[1;33m\u001b[0m\u001b[1;33m\u001b[0m\u001b[0m\n\u001b[0m\u001b[0;32m    332\u001b[0m \u001b[1;33m\u001b[0m\u001b[0m\n\u001b[0;32m    333\u001b[0m         \u001b[1;31m# error: \"Callable[[VarArg(Any), KwArg(Any)], Any]\" has no\u001b[0m\u001b[1;33m\u001b[0m\u001b[1;33m\u001b[0m\u001b[0m\n",
      "\u001b[1;32m~\\miniconda3\\lib\\site-packages\\pandas\\core\\generic.py\u001b[0m in \u001b[0;36mdrop\u001b[1;34m(self, labels, axis, index, columns, level, inplace, errors)\u001b[0m\n\u001b[0;32m   4503\u001b[0m         \u001b[1;32mfor\u001b[0m \u001b[0maxis\u001b[0m\u001b[1;33m,\u001b[0m \u001b[0mlabels\u001b[0m \u001b[1;32min\u001b[0m \u001b[0maxes\u001b[0m\u001b[1;33m.\u001b[0m\u001b[0mitems\u001b[0m\u001b[1;33m(\u001b[0m\u001b[1;33m)\u001b[0m\u001b[1;33m:\u001b[0m\u001b[1;33m\u001b[0m\u001b[1;33m\u001b[0m\u001b[0m\n\u001b[0;32m   4504\u001b[0m             \u001b[1;32mif\u001b[0m \u001b[0mlabels\u001b[0m \u001b[1;32mis\u001b[0m \u001b[1;32mnot\u001b[0m \u001b[1;32mNone\u001b[0m\u001b[1;33m:\u001b[0m\u001b[1;33m\u001b[0m\u001b[1;33m\u001b[0m\u001b[0m\n\u001b[1;32m-> 4505\u001b[1;33m                 \u001b[0mobj\u001b[0m \u001b[1;33m=\u001b[0m \u001b[0mobj\u001b[0m\u001b[1;33m.\u001b[0m\u001b[0m_drop_axis\u001b[0m\u001b[1;33m(\u001b[0m\u001b[0mlabels\u001b[0m\u001b[1;33m,\u001b[0m \u001b[0maxis\u001b[0m\u001b[1;33m,\u001b[0m \u001b[0mlevel\u001b[0m\u001b[1;33m=\u001b[0m\u001b[0mlevel\u001b[0m\u001b[1;33m,\u001b[0m \u001b[0merrors\u001b[0m\u001b[1;33m=\u001b[0m\u001b[0merrors\u001b[0m\u001b[1;33m)\u001b[0m\u001b[1;33m\u001b[0m\u001b[1;33m\u001b[0m\u001b[0m\n\u001b[0m\u001b[0;32m   4506\u001b[0m \u001b[1;33m\u001b[0m\u001b[0m\n\u001b[0;32m   4507\u001b[0m         \u001b[1;32mif\u001b[0m \u001b[0minplace\u001b[0m\u001b[1;33m:\u001b[0m\u001b[1;33m\u001b[0m\u001b[1;33m\u001b[0m\u001b[0m\n",
      "\u001b[1;32m~\\miniconda3\\lib\\site-packages\\pandas\\core\\generic.py\u001b[0m in \u001b[0;36m_drop_axis\u001b[1;34m(self, labels, axis, level, errors, only_slice)\u001b[0m\n\u001b[0;32m   4544\u001b[0m                 \u001b[0mnew_axis\u001b[0m \u001b[1;33m=\u001b[0m \u001b[0maxis\u001b[0m\u001b[1;33m.\u001b[0m\u001b[0mdrop\u001b[0m\u001b[1;33m(\u001b[0m\u001b[0mlabels\u001b[0m\u001b[1;33m,\u001b[0m \u001b[0mlevel\u001b[0m\u001b[1;33m=\u001b[0m\u001b[0mlevel\u001b[0m\u001b[1;33m,\u001b[0m \u001b[0merrors\u001b[0m\u001b[1;33m=\u001b[0m\u001b[0merrors\u001b[0m\u001b[1;33m)\u001b[0m\u001b[1;33m\u001b[0m\u001b[1;33m\u001b[0m\u001b[0m\n\u001b[0;32m   4545\u001b[0m             \u001b[1;32melse\u001b[0m\u001b[1;33m:\u001b[0m\u001b[1;33m\u001b[0m\u001b[1;33m\u001b[0m\u001b[0m\n\u001b[1;32m-> 4546\u001b[1;33m                 \u001b[0mnew_axis\u001b[0m \u001b[1;33m=\u001b[0m \u001b[0maxis\u001b[0m\u001b[1;33m.\u001b[0m\u001b[0mdrop\u001b[0m\u001b[1;33m(\u001b[0m\u001b[0mlabels\u001b[0m\u001b[1;33m,\u001b[0m \u001b[0merrors\u001b[0m\u001b[1;33m=\u001b[0m\u001b[0merrors\u001b[0m\u001b[1;33m)\u001b[0m\u001b[1;33m\u001b[0m\u001b[1;33m\u001b[0m\u001b[0m\n\u001b[0m\u001b[0;32m   4547\u001b[0m             \u001b[0mindexer\u001b[0m \u001b[1;33m=\u001b[0m \u001b[0maxis\u001b[0m\u001b[1;33m.\u001b[0m\u001b[0mget_indexer\u001b[0m\u001b[1;33m(\u001b[0m\u001b[0mnew_axis\u001b[0m\u001b[1;33m)\u001b[0m\u001b[1;33m\u001b[0m\u001b[1;33m\u001b[0m\u001b[0m\n\u001b[0;32m   4548\u001b[0m \u001b[1;33m\u001b[0m\u001b[0m\n",
      "\u001b[1;32m~\\miniconda3\\lib\\site-packages\\pandas\\core\\indexes\\base.py\u001b[0m in \u001b[0;36mdrop\u001b[1;34m(self, labels, errors)\u001b[0m\n\u001b[0;32m   6932\u001b[0m         \u001b[1;32mif\u001b[0m \u001b[0mmask\u001b[0m\u001b[1;33m.\u001b[0m\u001b[0many\u001b[0m\u001b[1;33m(\u001b[0m\u001b[1;33m)\u001b[0m\u001b[1;33m:\u001b[0m\u001b[1;33m\u001b[0m\u001b[1;33m\u001b[0m\u001b[0m\n\u001b[0;32m   6933\u001b[0m             \u001b[1;32mif\u001b[0m \u001b[0merrors\u001b[0m \u001b[1;33m!=\u001b[0m \u001b[1;34m\"ignore\"\u001b[0m\u001b[1;33m:\u001b[0m\u001b[1;33m\u001b[0m\u001b[1;33m\u001b[0m\u001b[0m\n\u001b[1;32m-> 6934\u001b[1;33m                 \u001b[1;32mraise\u001b[0m \u001b[0mKeyError\u001b[0m\u001b[1;33m(\u001b[0m\u001b[1;34mf\"{list(labels[mask])} not found in axis\"\u001b[0m\u001b[1;33m)\u001b[0m\u001b[1;33m\u001b[0m\u001b[1;33m\u001b[0m\u001b[0m\n\u001b[0m\u001b[0;32m   6935\u001b[0m             \u001b[0mindexer\u001b[0m \u001b[1;33m=\u001b[0m \u001b[0mindexer\u001b[0m\u001b[1;33m[\u001b[0m\u001b[1;33m~\u001b[0m\u001b[0mmask\u001b[0m\u001b[1;33m]\u001b[0m\u001b[1;33m\u001b[0m\u001b[1;33m\u001b[0m\u001b[0m\n\u001b[0;32m   6936\u001b[0m         \u001b[1;32mreturn\u001b[0m \u001b[0mself\u001b[0m\u001b[1;33m.\u001b[0m\u001b[0mdelete\u001b[0m\u001b[1;33m(\u001b[0m\u001b[0mindexer\u001b[0m\u001b[1;33m)\u001b[0m\u001b[1;33m\u001b[0m\u001b[1;33m\u001b[0m\u001b[0m\n",
      "\u001b[1;31mKeyError\u001b[0m: \"['features'] not found in axis\""
     ]
    }
   ],
   "source": [
    "# Drop features column as we dont need it any more\n",
    "df.drop(\"features\",axis=1,inplace=True)"
   ]
  },
  {
   "cell_type": "code",
   "execution_count": 22,
   "id": "ca6d4ba4",
   "metadata": {
    "ExecuteTime": {
     "end_time": "2024-03-18T19:57:05.655357Z",
     "start_time": "2024-03-18T19:57:05.644132Z"
    }
   },
   "outputs": [],
   "source": [
    "def clean_bolig(my_str):\n",
    "    if my_str == None:\n",
    "        pass\n",
    "    else:\n",
    "        return re.sub(\"Boligtype|<\\/?dt>|:|<\\/?dd>|'|,|\\s\",\"\",my_str)"
   ]
  },
  {
   "cell_type": "code",
   "execution_count": 23,
   "id": "3d831b6f",
   "metadata": {
    "ExecuteTime": {
     "end_time": "2024-03-18T19:57:05.716711Z",
     "start_time": "2024-03-18T19:57:05.657357Z"
    }
   },
   "outputs": [],
   "source": [
    "def clean_adress(my_str):\n",
    "    if my_str == None:\n",
    "        pass\n",
    "    else:\n",
    "        return re.sub(\"Adresse|<\\/?dt>|:|<\\/?dd>|'|,\",\"\",my_str)"
   ]
  },
  {
   "cell_type": "code",
   "execution_count": 24,
   "id": "047b0b64",
   "metadata": {
    "ExecuteTime": {
     "end_time": "2024-03-18T19:57:05.732484Z",
     "start_time": "2024-03-18T19:57:05.718712Z"
    }
   },
   "outputs": [],
   "source": [
    "def clean_postnr(my_str):\n",
    "    if my_str == None:\n",
    "        pass\n",
    "    else:\n",
    "        return re.sub(\"Postnr.|<\\/?dt>|:|<\\/?dd>|'|,\",\"\",my_str)"
   ]
  },
  {
   "cell_type": "code",
   "execution_count": 25,
   "id": "83d1c6c9",
   "metadata": {
    "ExecuteTime": {
     "end_time": "2024-03-18T19:57:05.747851Z",
     "start_time": "2024-03-18T19:57:05.735486Z"
    }
   },
   "outputs": [],
   "source": [
    "def clean_antal(my_str):\n",
    "    if my_str == None:\n",
    "        pass\n",
    "    else:\n",
    "        return re.sub(\"Antal værelser|<\\/?dt>|:|<\\/?dd>|'|,\",\"\",my_str)"
   ]
  },
  {
   "cell_type": "code",
   "execution_count": 26,
   "id": "53e335c9",
   "metadata": {
    "ExecuteTime": {
     "end_time": "2024-03-18T19:57:05.763861Z",
     "start_time": "2024-03-18T19:57:05.749851Z"
    }
   },
   "outputs": [],
   "source": [
    "def clean_kvm(my_str):\n",
    "    if my_str == None:\n",
    "        pass\n",
    "    else:\n",
    "        return re.sub(\"Boligkvm.|<\\/?dt>|:|<\\/?dd>|'|,\",\"\",my_str)"
   ]
  },
  {
   "cell_type": "code",
   "execution_count": 27,
   "id": "8c335915",
   "metadata": {
    "ExecuteTime": {
     "end_time": "2024-03-18T19:57:05.779303Z",
     "start_time": "2024-03-18T19:57:05.764862Z"
    }
   },
   "outputs": [],
   "source": [
    "def clean_forud(my_str):\n",
    "    if my_str == None:\n",
    "        pass\n",
    "    else:\n",
    "        return re.sub(\"Forudbetalt leje|<\\/?dt>|:|<\\/?dd>|'|,\",\"\",my_str)"
   ]
  },
  {
   "cell_type": "code",
   "execution_count": 28,
   "id": "1e851de3",
   "metadata": {
    "ExecuteTime": {
     "end_time": "2024-03-18T19:57:05.794690Z",
     "start_time": "2024-03-18T19:57:05.781304Z"
    }
   },
   "outputs": [],
   "source": [
    "def clean_depo(my_str):\n",
    "    if my_str == None:\n",
    "        pass\n",
    "    else:\n",
    "        return re.sub(\"Depositum|<\\/?dt>|:|<\\/?dd>|'|,|}\",\"\",my_str)"
   ]
  },
  {
   "cell_type": "code",
   "execution_count": 29,
   "id": "04cd131f",
   "metadata": {
    "ExecuteTime": {
     "end_time": "2024-03-18T19:57:05.810699Z",
     "start_time": "2024-03-18T19:57:05.796691Z"
    }
   },
   "outputs": [],
   "source": [
    "def clean_frem(my_str):\n",
    "    if my_str == None:\n",
    "        pass\n",
    "    else:\n",
    "        return re.sub(\"Fremleje|<\\/?dt>|:|<\\/?dd>|'|,\",\"\",my_str)"
   ]
  },
  {
   "cell_type": "code",
   "execution_count": 30,
   "id": "7e5dae2d",
   "metadata": {
    "ExecuteTime": {
     "end_time": "2024-03-18T19:57:05.826706Z",
     "start_time": "2024-03-18T19:57:05.812699Z"
    }
   },
   "outputs": [],
   "source": [
    "def clean_ac(my_str):\n",
    "    if my_str == None:\n",
    "        pass\n",
    "    else:\n",
    "        return re.sub(\"A\\/C forbrug|<\\/?dt>|:|<\\/?dd>|'|,|}\",\"\",my_str)"
   ]
  },
  {
   "cell_type": "code",
   "execution_count": 31,
   "id": "e37289e1",
   "metadata": {
    "ExecuteTime": {
     "end_time": "2024-03-18T19:57:05.842701Z",
     "start_time": "2024-03-18T19:57:05.829707Z"
    }
   },
   "outputs": [],
   "source": [
    "def clean_over(my_str):\n",
    "    if my_str == None:\n",
    "        pass\n",
    "    else:\n",
    "        return re.sub(\"Overtagelsesdato|<\\/?dt>|:|<\\/?dd>|'|,|}\",\"\",my_str)"
   ]
  },
  {
   "cell_type": "code",
   "execution_count": 32,
   "id": "c65a8a71",
   "metadata": {
    "ExecuteTime": {
     "end_time": "2024-03-18T19:57:05.858010Z",
     "start_time": "2024-03-18T19:57:05.843702Z"
    }
   },
   "outputs": [],
   "source": [
    "def clean_fakta(my_str):\n",
    "    if my_str == None:\n",
    "        pass\n",
    "    else:\n",
    "        return re.sub(\"Fakta|<\\/?dt>|:|<\\/?dd>|'|}\",\"\",my_str)"
   ]
  },
  {
   "cell_type": "code",
   "execution_count": 33,
   "id": "79cb0ebe",
   "metadata": {
    "ExecuteTime": {
     "end_time": "2024-03-18T19:57:05.922030Z",
     "start_time": "2024-03-18T19:57:05.860012Z"
    }
   },
   "outputs": [],
   "source": [
    "# Apply each function from above to the relevant dataframe column\n",
    "df[\"Boligtype\"]=df[\"Boligtype\"].apply(lambda x: clean_bolig(x))\n",
    "df[\"Adress\"]=df[\"Adress\"].apply(lambda x: clean_adress(x))\n",
    "df[\"Postnr\"]=df[\"Postnr\"].apply(lambda x: clean_postnr(x))\n",
    "df[\"Antal værelser\"]=df[\"Antal værelser\"].apply(lambda x: clean_antal(x))\n",
    "df[\"Boligkvm\"]=df[\"Boligkvm\"].apply(lambda x: clean_kvm(x))\n",
    "df[\"Forudbetalt leje\"]=df[\"Forudbetalt leje\"].apply(lambda x: clean_forud(x))\n",
    "df[\"Depositum\"]=df[\"Depositum\"].apply(lambda x: clean_depo(x))\n",
    "df[\"Fremleje\"]=df[\"Fremleje\"].apply(lambda x: clean_frem(x))\n",
    "df[\"A/C forbrug\"]=df[\"A/C forbrug\"].apply(lambda x: clean_ac(x))\n",
    "df[\"Overtagelsesdato\"]=df[\"Overtagelsesdato\"].apply(lambda x: clean_over(x))\n",
    "df[\"Fakta\"]=df[\"Fakta\"].apply(lambda x: clean_fakta(x))"
   ]
  },
  {
   "cell_type": "code",
   "execution_count": 34,
   "id": "65acc1c6",
   "metadata": {
    "ExecuteTime": {
     "end_time": "2024-03-18T19:57:05.938037Z",
     "start_time": "2024-03-18T19:57:05.924031Z"
    }
   },
   "outputs": [],
   "source": [
    "# Replace . and kr from price column\n",
    "df['price'] = df['price'].apply(lambda x: x.replace('.','').replace('kr',''))"
   ]
  },
  {
   "cell_type": "code",
   "execution_count": 35,
   "id": "dddae0b4",
   "metadata": {
    "ExecuteTime": {
     "end_time": "2024-03-18T19:57:05.968044Z",
     "start_time": "2024-03-18T19:57:05.940037Z"
    }
   },
   "outputs": [
    {
     "data": {
      "text/html": [
       "<div>\n",
       "<style scoped>\n",
       "    .dataframe tbody tr th:only-of-type {\n",
       "        vertical-align: middle;\n",
       "    }\n",
       "\n",
       "    .dataframe tbody tr th {\n",
       "        vertical-align: top;\n",
       "    }\n",
       "\n",
       "    .dataframe thead th {\n",
       "        text-align: right;\n",
       "    }\n",
       "</style>\n",
       "<table border=\"1\" class=\"dataframe\">\n",
       "  <thead>\n",
       "    <tr style=\"text-align: right;\">\n",
       "      <th></th>\n",
       "      <th>title</th>\n",
       "      <th>price</th>\n",
       "      <th>description</th>\n",
       "      <th>Boligtype</th>\n",
       "      <th>Adress</th>\n",
       "      <th>Postnr</th>\n",
       "      <th>Antal værelser</th>\n",
       "      <th>Boligkvm</th>\n",
       "      <th>Forudbetalt leje</th>\n",
       "      <th>Depositum</th>\n",
       "      <th>Fremleje</th>\n",
       "      <th>A/C forbrug</th>\n",
       "      <th>Overtagelsesdato</th>\n",
       "      <th>Fakta</th>\n",
       "    </tr>\n",
       "  </thead>\n",
       "  <tbody>\n",
       "    <tr>\n",
       "      <th>0</th>\n",
       "      <td>3500 3 vær. lejlighed, 69 m2, Bymidten 56 56 2</td>\n",
       "      <td>11</td>\n",
       "      <td>3500 3 vær. lejlighed, 69 m2, Bymi...</td>\n",
       "      <td>lejlighed</td>\n",
       "      <td>Bymidten 56 56 2</td>\n",
       "      <td>3500</td>\n",
       "      <td>3</td>\n",
       "      <td>69</td>\n",
       "      <td>1</td>\n",
       "      <td>33000</td>\n",
       "      <td>None</td>\n",
       "      <td>None</td>\n",
       "      <td>1/4-2024</td>\n",
       "      <td>vaskemaskine, opvaskemaskine, parkeringsplads...</td>\n",
       "    </tr>\n",
       "    <tr>\n",
       "      <th>1</th>\n",
       "      <td>2860 3 vær. lejlighed, 72 m2, 10000 i depositum</td>\n",
       "      <td>10000</td>\n",
       "      <td>2860 3 vær. lejlighed, 72 m2, 1000...</td>\n",
       "      <td>lejlighed</td>\n",
       "      <td>None</td>\n",
       "      <td>2860</td>\n",
       "      <td>3</td>\n",
       "      <td>72</td>\n",
       "      <td>None</td>\n",
       "      <td>10000</td>\n",
       "      <td>None</td>\n",
       "      <td>None</td>\n",
       "      <td>None</td>\n",
       "      <td>None</td>\n",
       "    </tr>\n",
       "    <tr>\n",
       "      <th>2</th>\n",
       "      <td>1658 4 vær. lejlighed, 81 m2, Absalonsgade 46 ...</td>\n",
       "      <td>18000</td>\n",
       "      <td>1658 4 vær. lejlighed, 81 m2, Absa...</td>\n",
       "      <td>lejlighed</td>\n",
       "      <td>Absalonsgade 46 3.tv</td>\n",
       "      <td>1658</td>\n",
       "      <td>4</td>\n",
       "      <td>81</td>\n",
       "      <td>1</td>\n",
       "      <td>18000</td>\n",
       "      <td>ja</td>\n",
       "      <td>1800</td>\n",
       "      <td>1.7.2024</td>\n",
       "      <td>altan, møbleret, vaskemaskine, tørretumbler, ...</td>\n",
       "    </tr>\n",
       "    <tr>\n",
       "      <th>3</th>\n",
       "      <td>2300 1 vær. lejlighed, 18 m2, Prøvestens Allé ...</td>\n",
       "      <td>1800</td>\n",
       "      <td>2300 1 vær. lejlighed, 18 m2, Prøv...</td>\n",
       "      <td>lejlighed</td>\n",
       "      <td>Prøvestens Allé 7 st.</td>\n",
       "      <td>2300</td>\n",
       "      <td>1</td>\n",
       "      <td>18</td>\n",
       "      <td>1800</td>\n",
       "      <td>3600</td>\n",
       "      <td>ja</td>\n",
       "      <td>None</td>\n",
       "      <td>Omgående</td>\n",
       "      <td>None</td>\n",
       "    </tr>\n",
       "    <tr>\n",
       "      <th>4</th>\n",
       "      <td>3 værelses lejlighed i København Ø 2100 på 112...</td>\n",
       "      <td>18950</td>\n",
       "      <td>2100 vær. 3 Lejlighed, m2 112, Pak...</td>\n",
       "      <td>lejlighed</td>\n",
       "      <td>Pakhusvej</td>\n",
       "      <td>2100</td>\n",
       "      <td>3</td>\n",
       "      <td>112</td>\n",
       "      <td>0</td>\n",
       "      <td>56850</td>\n",
       "      <td>None</td>\n",
       "      <td>1600</td>\n",
       "      <td>None</td>\n",
       "      <td>None</td>\n",
       "    </tr>\n",
       "    <tr>\n",
       "      <th>...</th>\n",
       "      <td>...</td>\n",
       "      <td>...</td>\n",
       "      <td>...</td>\n",
       "      <td>...</td>\n",
       "      <td>...</td>\n",
       "      <td>...</td>\n",
       "      <td>...</td>\n",
       "      <td>...</td>\n",
       "      <td>...</td>\n",
       "      <td>...</td>\n",
       "      <td>...</td>\n",
       "      <td>...</td>\n",
       "      <td>...</td>\n",
       "      <td>...</td>\n",
       "    </tr>\n",
       "    <tr>\n",
       "      <th>2195</th>\n",
       "      <td>Rækkehus i Solrød Strand 2680 på 87 kvm</td>\n",
       "      <td>10950</td>\n",
       "      <td>2680 vær. 3 Lejlighed, m2 87, Åsve...</td>\n",
       "      <td>lejlighed</td>\n",
       "      <td>Åsvej</td>\n",
       "      <td>2680</td>\n",
       "      <td>3</td>\n",
       "      <td>87</td>\n",
       "      <td>10950</td>\n",
       "      <td>32850</td>\n",
       "      <td>None</td>\n",
       "      <td>1200</td>\n",
       "      <td>None</td>\n",
       "      <td>None</td>\n",
       "    </tr>\n",
       "    <tr>\n",
       "      <th>2196</th>\n",
       "      <td>Rækkehus i Solrød Strand 2680 på 87 kvm</td>\n",
       "      <td>10950</td>\n",
       "      <td>2680 vær. 3 Lejlighed, m2 87, Åsve...</td>\n",
       "      <td>lejlighed</td>\n",
       "      <td>Åsvej</td>\n",
       "      <td>2680</td>\n",
       "      <td>3</td>\n",
       "      <td>87</td>\n",
       "      <td>10950</td>\n",
       "      <td>32850</td>\n",
       "      <td>None</td>\n",
       "      <td>1200</td>\n",
       "      <td>None</td>\n",
       "      <td>None</td>\n",
       "    </tr>\n",
       "    <tr>\n",
       "      <th>2197</th>\n",
       "      <td>4 vær. eller større i Søborg 2860 på 98 kvm</td>\n",
       "      <td>15100</td>\n",
       "      <td>2860 vær. 4 Lejlighed, m2 98, Gyng...</td>\n",
       "      <td>lejlighed</td>\n",
       "      <td>Gyngemose Parkvej</td>\n",
       "      <td>2860</td>\n",
       "      <td>4</td>\n",
       "      <td>98</td>\n",
       "      <td>15100</td>\n",
       "      <td>45300</td>\n",
       "      <td>None</td>\n",
       "      <td>800</td>\n",
       "      <td>None</td>\n",
       "      <td>None</td>\n",
       "    </tr>\n",
       "    <tr>\n",
       "      <th>2198</th>\n",
       "      <td>2 værelses lejlighed i København S 2300 på 80 kvm</td>\n",
       "      <td>16900</td>\n",
       "      <td>2300 vær. 2 Lejlighed, m2 80, Isla...</td>\n",
       "      <td>lejlighed</td>\n",
       "      <td>Islands Brygge</td>\n",
       "      <td>2300</td>\n",
       "      <td>2</td>\n",
       "      <td>80</td>\n",
       "      <td>16900</td>\n",
       "      <td>50700</td>\n",
       "      <td>None</td>\n",
       "      <td>1000</td>\n",
       "      <td>None</td>\n",
       "      <td>None</td>\n",
       "    </tr>\n",
       "    <tr>\n",
       "      <th>2199</th>\n",
       "      <td>3 værelses lejlighed i Valby 2500 på 91 kvm</td>\n",
       "      <td>17700</td>\n",
       "      <td>2500 vær. 3 Lejlighed, m2 91, Skel...</td>\n",
       "      <td>lejlighed</td>\n",
       "      <td>Skelmosevej</td>\n",
       "      <td>2500</td>\n",
       "      <td>3</td>\n",
       "      <td>91</td>\n",
       "      <td>53100</td>\n",
       "      <td>53100</td>\n",
       "      <td>None</td>\n",
       "      <td>1000</td>\n",
       "      <td>None</td>\n",
       "      <td>None</td>\n",
       "    </tr>\n",
       "  </tbody>\n",
       "</table>\n",
       "<p>2200 rows × 14 columns</p>\n",
       "</div>"
      ],
      "text/plain": [
       "                                                  title   price  \\\n",
       "0        3500 3 vær. lejlighed, 69 m2, Bymidten 56 56 2     11    \n",
       "1       2860 3 vær. lejlighed, 72 m2, 10000 i depositum  10000    \n",
       "2     1658 4 vær. lejlighed, 81 m2, Absalonsgade 46 ...  18000    \n",
       "3     2300 1 vær. lejlighed, 18 m2, Prøvestens Allé ...   1800    \n",
       "4     3 værelses lejlighed i København Ø 2100 på 112...  18950    \n",
       "...                                                 ...     ...   \n",
       "2195            Rækkehus i Solrød Strand 2680 på 87 kvm  10950    \n",
       "2196            Rækkehus i Solrød Strand 2680 på 87 kvm  10950    \n",
       "2197        4 vær. eller større i Søborg 2860 på 98 kvm  15100    \n",
       "2198  2 værelses lejlighed i København S 2300 på 80 kvm  16900    \n",
       "2199        3 værelses lejlighed i Valby 2500 på 91 kvm  17700    \n",
       "\n",
       "                                            description  Boligtype  \\\n",
       "0                 3500 3 vær. lejlighed, 69 m2, Bymi...  lejlighed   \n",
       "1                 2860 3 vær. lejlighed, 72 m2, 1000...  lejlighed   \n",
       "2                 1658 4 vær. lejlighed, 81 m2, Absa...  lejlighed   \n",
       "3                 2300 1 vær. lejlighed, 18 m2, Prøv...  lejlighed   \n",
       "4                 2100 vær. 3 Lejlighed, m2 112, Pak...  lejlighed   \n",
       "...                                                 ...        ...   \n",
       "2195              2680 vær. 3 Lejlighed, m2 87, Åsve...  lejlighed   \n",
       "2196              2680 vær. 3 Lejlighed, m2 87, Åsve...  lejlighed   \n",
       "2197              2860 vær. 4 Lejlighed, m2 98, Gyng...  lejlighed   \n",
       "2198              2300 vær. 2 Lejlighed, m2 80, Isla...  lejlighed   \n",
       "2199              2500 vær. 3 Lejlighed, m2 91, Skel...  lejlighed   \n",
       "\n",
       "                       Adress  Postnr Antal værelser Boligkvm  \\\n",
       "0           Bymidten 56 56 2    3500              3       69    \n",
       "1                        None   2860              3       72    \n",
       "2       Absalonsgade 46 3.tv    1658              4       81    \n",
       "3      Prøvestens Allé 7 st.    2300              1       18    \n",
       "4                  Pakhusvej    2100              3      112    \n",
       "...                       ...     ...            ...      ...   \n",
       "2195                   Åsvej    2680              3       87    \n",
       "2196                   Åsvej    2680              3       87    \n",
       "2197       Gyngemose Parkvej    2860              4       98    \n",
       "2198          Islands Brygge    2300              2       80    \n",
       "2199             Skelmosevej    2500              3       91    \n",
       "\n",
       "     Forudbetalt leje Depositum Fremleje A/C forbrug Overtagelsesdato  \\\n",
       "0                  1     33000      None        None        1/4-2024    \n",
       "1                None     10000     None        None             None   \n",
       "2                  1     18000       ja        1800         1.7.2024    \n",
       "3               1800      3600       ja         None         Omgående   \n",
       "4                  0     56850      None        1600             None   \n",
       "...               ...       ...      ...         ...              ...   \n",
       "2195           10950     32850      None        1200             None   \n",
       "2196           10950     32850      None        1200             None   \n",
       "2197           15100     45300      None         800             None   \n",
       "2198           16900     50700      None        1000             None   \n",
       "2199           53100     53100      None        1000             None   \n",
       "\n",
       "                                                  Fakta  \n",
       "0      vaskemaskine, opvaskemaskine, parkeringsplads...  \n",
       "1                                                  None  \n",
       "2      altan, møbleret, vaskemaskine, tørretumbler, ...  \n",
       "3                                                  None  \n",
       "4                                                  None  \n",
       "...                                                 ...  \n",
       "2195                                               None  \n",
       "2196                                               None  \n",
       "2197                                               None  \n",
       "2198                                               None  \n",
       "2199                                               None  \n",
       "\n",
       "[2200 rows x 14 columns]"
      ]
     },
     "execution_count": 35,
     "metadata": {},
     "output_type": "execute_result"
    }
   ],
   "source": [
    "df"
   ]
  },
  {
   "cell_type": "code",
   "execution_count": 36,
   "id": "c7b23dc8",
   "metadata": {
    "ExecuteTime": {
     "end_time": "2024-03-18T19:57:05.983015Z",
     "start_time": "2024-03-18T19:57:05.970044Z"
    }
   },
   "outputs": [],
   "source": [
    "# Lets convert data types "
   ]
  },
  {
   "cell_type": "code",
   "execution_count": 37,
   "id": "b26916ba",
   "metadata": {
    "ExecuteTime": {
     "end_time": "2024-03-18T19:57:05.999024Z",
     "start_time": "2024-03-18T19:57:05.985014Z"
    }
   },
   "outputs": [],
   "source": [
    "df['price']=pd.to_numeric(df['price'], downcast='integer')"
   ]
  },
  {
   "cell_type": "code",
   "execution_count": 38,
   "id": "88815c8c",
   "metadata": {
    "ExecuteTime": {
     "end_time": "2024-03-18T19:57:06.015029Z",
     "start_time": "2024-03-18T19:57:06.001024Z"
    }
   },
   "outputs": [],
   "source": [
    "df['Antal værelser']=pd.to_numeric(df['Antal værelser'], downcast='integer')"
   ]
  },
  {
   "cell_type": "code",
   "execution_count": 39,
   "id": "91793ec6",
   "metadata": {
    "ExecuteTime": {
     "end_time": "2024-03-18T19:57:06.030034Z",
     "start_time": "2024-03-18T19:57:06.017028Z"
    }
   },
   "outputs": [],
   "source": [
    "df['Boligkvm']=pd.to_numeric(df['Boligkvm'], downcast='integer')"
   ]
  },
  {
   "cell_type": "code",
   "execution_count": 40,
   "id": "21fad179",
   "metadata": {
    "ExecuteTime": {
     "end_time": "2024-03-18T19:57:06.046041Z",
     "start_time": "2024-03-18T19:57:06.032035Z"
    }
   },
   "outputs": [],
   "source": [
    "df['Depositum']=pd.to_numeric(df['Depositum'], downcast='integer')"
   ]
  },
  {
   "cell_type": "code",
   "execution_count": 41,
   "id": "a122dbec",
   "metadata": {
    "ExecuteTime": {
     "end_time": "2024-03-18T19:57:06.061045Z",
     "start_time": "2024-03-18T19:57:06.048043Z"
    }
   },
   "outputs": [
    {
     "name": "stdout",
     "output_type": "stream",
     "text": [
      "<class 'pandas.core.frame.DataFrame'>\n",
      "RangeIndex: 2200 entries, 0 to 2199\n",
      "Data columns (total 14 columns):\n",
      " #   Column            Non-Null Count  Dtype \n",
      "---  ------            --------------  ----- \n",
      " 0   title             2200 non-null   object\n",
      " 1   price             2200 non-null   int16 \n",
      " 2   description       2200 non-null   object\n",
      " 3   Boligtype         2200 non-null   object\n",
      " 4   Adress            2100 non-null   object\n",
      " 5   Postnr            2200 non-null   object\n",
      " 6   Antal værelser    2200 non-null   int8  \n",
      " 7   Boligkvm          2200 non-null   int16 \n",
      " 8   Forudbetalt leje  2100 non-null   object\n",
      " 9   Depositum         2200 non-null   int32 \n",
      " 10  Fremleje          200 non-null    object\n",
      " 11  A/C forbrug       1900 non-null   object\n",
      " 12  Overtagelsesdato  300 non-null    object\n",
      " 13  Fakta             200 non-null    object\n",
      "dtypes: int16(2), int32(1), int8(1), object(10)\n",
      "memory usage: 191.3+ KB\n"
     ]
    }
   ],
   "source": [
    "df.info()"
   ]
  }
 ],
 "metadata": {
  "kernelspec": {
   "display_name": "Python 3 (ipykernel)",
   "language": "python",
   "name": "python3"
  },
  "language_info": {
   "codemirror_mode": {
    "name": "ipython",
    "version": 3
   },
   "file_extension": ".py",
   "mimetype": "text/x-python",
   "name": "python",
   "nbconvert_exporter": "python",
   "pygments_lexer": "ipython3",
   "version": "3.9.7"
  },
  "varInspector": {
   "cols": {
    "lenName": 16,
    "lenType": 16,
    "lenVar": 40
   },
   "kernels_config": {
    "python": {
     "delete_cmd_postfix": "",
     "delete_cmd_prefix": "del ",
     "library": "var_list.py",
     "varRefreshCmd": "print(var_dic_list())"
    },
    "r": {
     "delete_cmd_postfix": ") ",
     "delete_cmd_prefix": "rm(",
     "library": "var_list.r",
     "varRefreshCmd": "cat(var_dic_list()) "
    }
   },
   "types_to_exclude": [
    "module",
    "function",
    "builtin_function_or_method",
    "instance",
    "_Feature"
   ],
   "window_display": false
  }
 },
 "nbformat": 4,
 "nbformat_minor": 5
}
