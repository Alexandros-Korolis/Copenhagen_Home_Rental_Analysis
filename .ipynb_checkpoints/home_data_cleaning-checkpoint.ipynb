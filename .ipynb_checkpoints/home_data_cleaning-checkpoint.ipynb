{
 "cells": [
  {
   "cell_type": "code",
   "execution_count": 1,
   "id": "86045787",
   "metadata": {
    "ExecuteTime": {
     "end_time": "2024-03-20T21:00:48.052326Z",
     "start_time": "2024-03-20T21:00:46.622110Z"
    }
   },
   "outputs": [],
   "source": [
    "import pandas as pd\n",
    "import numpy as np \n",
    "import matplotlib.pyplot as plt\n",
    "import seaborn as sns\n",
    "import re "
   ]
  },
  {
   "cell_type": "code",
   "execution_count": 2,
   "id": "deba8308",
   "metadata": {
    "ExecuteTime": {
     "end_time": "2024-03-20T21:00:48.653462Z",
     "start_time": "2024-03-20T21:00:48.054328Z"
    }
   },
   "outputs": [],
   "source": [
    "df = pd.read_excel(r\"C:\\Users\\admin\\Copenhagen_Home_Rental_Analysis\\ads_data.xlsx\")"
   ]
  },
  {
   "cell_type": "code",
   "execution_count": 3,
   "id": "6d8414c2",
   "metadata": {
    "ExecuteTime": {
     "end_time": "2024-03-20T21:00:48.668950Z",
     "start_time": "2024-03-20T21:00:48.655013Z"
    }
   },
   "outputs": [],
   "source": [
    "df.drop(\"Unnamed: 0\",axis=1,inplace=True)"
   ]
  },
  {
   "cell_type": "code",
   "execution_count": 4,
   "id": "863cff01",
   "metadata": {
    "ExecuteTime": {
     "end_time": "2024-03-20T21:00:48.747756Z",
     "start_time": "2024-03-20T21:00:48.670921Z"
    }
   },
   "outputs": [
    {
     "data": {
      "text/html": [
       "<div>\n",
       "<style scoped>\n",
       "    .dataframe tbody tr th:only-of-type {\n",
       "        vertical-align: middle;\n",
       "    }\n",
       "\n",
       "    .dataframe tbody tr th {\n",
       "        vertical-align: top;\n",
       "    }\n",
       "\n",
       "    .dataframe thead th {\n",
       "        text-align: right;\n",
       "    }\n",
       "</style>\n",
       "<table border=\"1\" class=\"dataframe\">\n",
       "  <thead>\n",
       "    <tr style=\"text-align: right;\">\n",
       "      <th></th>\n",
       "      <th>title</th>\n",
       "      <th>price</th>\n",
       "      <th>description</th>\n",
       "      <th>features</th>\n",
       "    </tr>\n",
       "  </thead>\n",
       "  <tbody>\n",
       "    <tr>\n",
       "      <th>0</th>\n",
       "      <td>3500 3 vær. lejlighed, 69 m2, Bymidten 56 56 2</td>\n",
       "      <td>11 kr.</td>\n",
       "      <td>3500 3 vær. lejlighed, 69 m2, Bymi...</td>\n",
       "      <td>{'&lt;dt&gt;Boligtype&lt;/dt&gt;': '&lt;dd&gt;lejlighed&lt;/dd&gt;', '...</td>\n",
       "    </tr>\n",
       "    <tr>\n",
       "      <th>1</th>\n",
       "      <td>2860 3 vær. lejlighed, 72 m2, 10000 i depositum</td>\n",
       "      <td>10.000 kr.</td>\n",
       "      <td>2860 3 vær. lejlighed, 72 m2, 1000...</td>\n",
       "      <td>{'&lt;dt&gt;Boligtype&lt;/dt&gt;': '&lt;dd&gt;lejlighed&lt;/dd&gt;', '...</td>\n",
       "    </tr>\n",
       "    <tr>\n",
       "      <th>2</th>\n",
       "      <td>1658 4 vær. lejlighed, 81 m2, Absalonsgade 46 ...</td>\n",
       "      <td>18.000 kr.</td>\n",
       "      <td>1658 4 vær. lejlighed, 81 m2, Absa...</td>\n",
       "      <td>{'&lt;dt&gt;Boligtype&lt;/dt&gt;': '&lt;dd&gt;lejlighed&lt;/dd&gt;', '...</td>\n",
       "    </tr>\n",
       "    <tr>\n",
       "      <th>3</th>\n",
       "      <td>2300 1 vær. lejlighed, 18 m2, Prøvestens Allé ...</td>\n",
       "      <td>1.800 kr.</td>\n",
       "      <td>2300 1 vær. lejlighed, 18 m2, Prøv...</td>\n",
       "      <td>{'&lt;dt&gt;Boligtype&lt;/dt&gt;': '&lt;dd&gt;lejlighed&lt;/dd&gt;', '...</td>\n",
       "    </tr>\n",
       "    <tr>\n",
       "      <th>4</th>\n",
       "      <td>3 værelses lejlighed i København Ø 2100 på 112...</td>\n",
       "      <td>18.950 kr.</td>\n",
       "      <td>2100 vær. 3 Lejlighed, m2 112, Pak...</td>\n",
       "      <td>{'&lt;dt&gt;Boligtype&lt;/dt&gt;': '&lt;dd&gt;lejlighed&lt;/dd&gt;', '...</td>\n",
       "    </tr>\n",
       "    <tr>\n",
       "      <th>...</th>\n",
       "      <td>...</td>\n",
       "      <td>...</td>\n",
       "      <td>...</td>\n",
       "      <td>...</td>\n",
       "    </tr>\n",
       "    <tr>\n",
       "      <th>2195</th>\n",
       "      <td>Rækkehus i Solrød Strand 2680 på 87 kvm</td>\n",
       "      <td>10.950 kr.</td>\n",
       "      <td>2680 vær. 3 Lejlighed, m2 87, Åsve...</td>\n",
       "      <td>{'&lt;dt&gt;Boligtype&lt;/dt&gt;': '&lt;dd&gt;lejlighed&lt;/dd&gt;', '...</td>\n",
       "    </tr>\n",
       "    <tr>\n",
       "      <th>2196</th>\n",
       "      <td>Rækkehus i Solrød Strand 2680 på 87 kvm</td>\n",
       "      <td>10.950 kr.</td>\n",
       "      <td>2680 vær. 3 Lejlighed, m2 87, Åsve...</td>\n",
       "      <td>{'&lt;dt&gt;Boligtype&lt;/dt&gt;': '&lt;dd&gt;lejlighed&lt;/dd&gt;', '...</td>\n",
       "    </tr>\n",
       "    <tr>\n",
       "      <th>2197</th>\n",
       "      <td>4 vær. eller større i Søborg 2860 på 98 kvm</td>\n",
       "      <td>15.100 kr.</td>\n",
       "      <td>2860 vær. 4 Lejlighed, m2 98, Gyng...</td>\n",
       "      <td>{'&lt;dt&gt;Boligtype&lt;/dt&gt;': '&lt;dd&gt;lejlighed&lt;/dd&gt;', '...</td>\n",
       "    </tr>\n",
       "    <tr>\n",
       "      <th>2198</th>\n",
       "      <td>2 værelses lejlighed i København S 2300 på 80 kvm</td>\n",
       "      <td>16.900 kr.</td>\n",
       "      <td>2300 vær. 2 Lejlighed, m2 80, Isla...</td>\n",
       "      <td>{'&lt;dt&gt;Boligtype&lt;/dt&gt;': '&lt;dd&gt;lejlighed&lt;/dd&gt;', '...</td>\n",
       "    </tr>\n",
       "    <tr>\n",
       "      <th>2199</th>\n",
       "      <td>3 værelses lejlighed i Valby 2500 på 91 kvm</td>\n",
       "      <td>17.700 kr.</td>\n",
       "      <td>2500 vær. 3 Lejlighed, m2 91, Skel...</td>\n",
       "      <td>{'&lt;dt&gt;Boligtype&lt;/dt&gt;': '&lt;dd&gt;lejlighed&lt;/dd&gt;', '...</td>\n",
       "    </tr>\n",
       "  </tbody>\n",
       "</table>\n",
       "<p>2200 rows × 4 columns</p>\n",
       "</div>"
      ],
      "text/plain": [
       "                                                  title       price  \\\n",
       "0        3500 3 vær. lejlighed, 69 m2, Bymidten 56 56 2      11 kr.   \n",
       "1       2860 3 vær. lejlighed, 72 m2, 10000 i depositum  10.000 kr.   \n",
       "2     1658 4 vær. lejlighed, 81 m2, Absalonsgade 46 ...  18.000 kr.   \n",
       "3     2300 1 vær. lejlighed, 18 m2, Prøvestens Allé ...   1.800 kr.   \n",
       "4     3 værelses lejlighed i København Ø 2100 på 112...  18.950 kr.   \n",
       "...                                                 ...         ...   \n",
       "2195            Rækkehus i Solrød Strand 2680 på 87 kvm  10.950 kr.   \n",
       "2196            Rækkehus i Solrød Strand 2680 på 87 kvm  10.950 kr.   \n",
       "2197        4 vær. eller større i Søborg 2860 på 98 kvm  15.100 kr.   \n",
       "2198  2 værelses lejlighed i København S 2300 på 80 kvm  16.900 kr.   \n",
       "2199        3 værelses lejlighed i Valby 2500 på 91 kvm  17.700 kr.   \n",
       "\n",
       "                                            description  \\\n",
       "0                 3500 3 vær. lejlighed, 69 m2, Bymi...   \n",
       "1                 2860 3 vær. lejlighed, 72 m2, 1000...   \n",
       "2                 1658 4 vær. lejlighed, 81 m2, Absa...   \n",
       "3                 2300 1 vær. lejlighed, 18 m2, Prøv...   \n",
       "4                 2100 vær. 3 Lejlighed, m2 112, Pak...   \n",
       "...                                                 ...   \n",
       "2195              2680 vær. 3 Lejlighed, m2 87, Åsve...   \n",
       "2196              2680 vær. 3 Lejlighed, m2 87, Åsve...   \n",
       "2197              2860 vær. 4 Lejlighed, m2 98, Gyng...   \n",
       "2198              2300 vær. 2 Lejlighed, m2 80, Isla...   \n",
       "2199              2500 vær. 3 Lejlighed, m2 91, Skel...   \n",
       "\n",
       "                                               features  \n",
       "0     {'<dt>Boligtype</dt>': '<dd>lejlighed</dd>', '...  \n",
       "1     {'<dt>Boligtype</dt>': '<dd>lejlighed</dd>', '...  \n",
       "2     {'<dt>Boligtype</dt>': '<dd>lejlighed</dd>', '...  \n",
       "3     {'<dt>Boligtype</dt>': '<dd>lejlighed</dd>', '...  \n",
       "4     {'<dt>Boligtype</dt>': '<dd>lejlighed</dd>', '...  \n",
       "...                                                 ...  \n",
       "2195  {'<dt>Boligtype</dt>': '<dd>lejlighed</dd>', '...  \n",
       "2196  {'<dt>Boligtype</dt>': '<dd>lejlighed</dd>', '...  \n",
       "2197  {'<dt>Boligtype</dt>': '<dd>lejlighed</dd>', '...  \n",
       "2198  {'<dt>Boligtype</dt>': '<dd>lejlighed</dd>', '...  \n",
       "2199  {'<dt>Boligtype</dt>': '<dd>lejlighed</dd>', '...  \n",
       "\n",
       "[2200 rows x 4 columns]"
      ]
     },
     "execution_count": 4,
     "metadata": {},
     "output_type": "execute_result"
    }
   ],
   "source": [
    "df"
   ]
  },
  {
   "cell_type": "code",
   "execution_count": 5,
   "id": "c5ba919f",
   "metadata": {
    "ExecuteTime": {
     "end_time": "2024-03-20T21:00:48.762765Z",
     "start_time": "2024-03-20T21:00:48.749759Z"
    }
   },
   "outputs": [],
   "source": [
    "# Split at <dt> and convert string to a list \n",
    "df[\"features\"] = df[\"features\"].apply(lambda x: x.split(\"<dt>\"))"
   ]
  },
  {
   "cell_type": "code",
   "execution_count": 6,
   "id": "a0476f48",
   "metadata": {
    "ExecuteTime": {
     "end_time": "2024-03-20T21:00:48.778768Z",
     "start_time": "2024-03-20T21:00:48.764764Z"
    }
   },
   "outputs": [],
   "source": [
    "max_len = 0\n",
    "index = 0\n",
    "for i in range(len(df[\"features\"])):\n",
    "    if len(df[\"features\"][i])>max_len:\n",
    "        max_len = len(df[\"features\"][i])\n",
    "        index = i"
   ]
  },
  {
   "cell_type": "code",
   "execution_count": 7,
   "id": "aa05f112",
   "metadata": {
    "ExecuteTime": {
     "end_time": "2024-03-20T21:00:48.809732Z",
     "start_time": "2024-03-20T21:00:48.779768Z"
    }
   },
   "outputs": [
    {
     "data": {
      "text/plain": [
       "(12, 2)"
      ]
     },
     "execution_count": 7,
     "metadata": {},
     "output_type": "execute_result"
    }
   ],
   "source": [
    "max_len, index "
   ]
  },
  {
   "cell_type": "code",
   "execution_count": 8,
   "id": "27d7be66",
   "metadata": {
    "ExecuteTime": {
     "end_time": "2024-03-20T21:00:48.825740Z",
     "start_time": "2024-03-20T21:00:48.811733Z"
    }
   },
   "outputs": [],
   "source": [
    "# I will use apply to each element of my serie. I will create a function that recieves a list. Iterates through each\n",
    "# element of the list. Search for special keywords and store the result in a dictionary."
   ]
  },
  {
   "cell_type": "code",
   "execution_count": 9,
   "id": "9fc32b7e",
   "metadata": {
    "ExecuteTime": {
     "end_time": "2024-03-20T21:00:48.841743Z",
     "start_time": "2024-03-20T21:00:48.826740Z"
    }
   },
   "outputs": [],
   "source": [
    "features_dict = {\"Boligtype\":[], \"Adress\":[], \"Postnr\":[], \"Antal værelser\":[], \"Boligkvm\":[], \"Forudbetalt leje\":[],\n",
    "                \"Depositum\":[], \"Fremleje\":[], \"A/C forbrug\":[], \"Overtagelsesdato\":[], \"Fakta\":[]}\n",
    "\"\"\"\n",
    "lst : input is a list \n",
    "\n",
    "This function receives a list as an input. Iterates through each element of the list,\n",
    "search for a specific keyword and store the result in a dictionary. If the special keyword in not\n",
    "present in the list then it is filled with none.\n",
    "\n",
    "return a dictionary with key the columns of my initial dataframe and values lists \n",
    "\"\"\"\n",
    "def split_features(lst):\n",
    "    initial_len_bolig = len(features_dict[\"Boligtype\"])\n",
    "    initial_len_ad = len(features_dict[\"Adress\"])\n",
    "    initial_len_post = len(features_dict[\"Postnr\"])\n",
    "    initial_len_antal = len(features_dict[\"Antal værelser\"])\n",
    "    initial_len_kvm = len(features_dict[\"Boligkvm\"])\n",
    "    initial_len_forud = len(features_dict[\"Forudbetalt leje\"])\n",
    "    initial_len_depo = len(features_dict[\"Depositum\"])\n",
    "    initial_len_frem = len(features_dict[\"Fremleje\"])\n",
    "    initial_len_ac = len(features_dict[\"A/C forbrug\"])\n",
    "    initial_len_over = len(features_dict[\"Overtagelsesdato\"])\n",
    "    initial_len_fakta = len(features_dict[\"Fakta\"])\n",
    "    for i in range(len(lst)):\n",
    "        if \"Boligtype\" in lst[i]:\n",
    "            features_dict[\"Boligtype\"].append(lst[i])\n",
    "        if \"Adress\" in lst[i]:\n",
    "            features_dict[\"Adress\"].append(lst[i])\n",
    "        if \"Postnr\" in lst[i]:\n",
    "            features_dict[\"Postnr\"].append(lst[i])\n",
    "        if \"Antal værelser\" in lst[i]:\n",
    "            features_dict[\"Antal værelser\"].append(lst[i])\n",
    "        if \"Boligkvm\" in lst[i]:\n",
    "            features_dict[\"Boligkvm\"].append(lst[i])\n",
    "        if \"Forudbetalt leje\" in lst[i]:\n",
    "            features_dict[\"Forudbetalt leje\"].append(lst[i])\n",
    "        if \"Depositum\" in lst[i]:\n",
    "            features_dict[\"Depositum\"].append(lst[i])\n",
    "        if \"Fremleje\" in lst[i]:\n",
    "            features_dict[\"Fremleje\"].append(lst[i])\n",
    "        if \"A/C forbrug\" in lst[i]:\n",
    "            features_dict[\"A/C forbrug\"].append(lst[i])\n",
    "        if \"Overtagelsesdato\" in lst[i]:\n",
    "            features_dict[\"Overtagelsesdato\"].append(lst[i])\n",
    "        if \"Fakta\" in lst[i]:\n",
    "            features_dict[\"Fakta\"].append(lst[i])\n",
    "    if len(features_dict[\"Boligtype\"]) == initial_len_bolig:\n",
    "        features_dict[\"Boligtype\"].append(None)\n",
    "    if len(features_dict[\"Adress\"]) == initial_len_ad:\n",
    "        features_dict[\"Adress\"].append(None)\n",
    "    if len(features_dict[\"Postnr\"]) == initial_len_post:\n",
    "        features_dict[\"Postnr\"].append(None)\n",
    "    if len(features_dict[\"Antal værelser\"]) == initial_len_antal:\n",
    "        features_dict[\"Antal værelser\"].append(None)\n",
    "    if len(features_dict[\"Boligkvm\"]) == initial_len_kvm:\n",
    "        features_dict[\"Boligkvm\"].append(None)\n",
    "    if len(features_dict[\"Forudbetalt leje\"]) == initial_len_forud:\n",
    "        features_dict[\"Forudbetalt leje\"].append(None)\n",
    "    if len(features_dict[\"Depositum\"]) == initial_len_depo:\n",
    "        features_dict[\"Depositum\"].append(None)\n",
    "    if len(features_dict[\"Fremleje\"]) == initial_len_frem:\n",
    "        features_dict[\"Fremleje\"].append(None)\n",
    "    if len(features_dict[\"A/C forbrug\"]) == initial_len_ac:\n",
    "        features_dict[\"A/C forbrug\"].append(None)\n",
    "    if len(features_dict[\"Overtagelsesdato\"]) == initial_len_over:\n",
    "        features_dict[\"Overtagelsesdato\"].append(None)\n",
    "    if len(features_dict[\"Fakta\"]) == initial_len_fakta:\n",
    "        features_dict[\"Fakta\"].append(None)\n",
    "    return features_dict"
   ]
  },
  {
   "cell_type": "code",
   "execution_count": 10,
   "id": "b7dd9c8e",
   "metadata": {
    "ExecuteTime": {
     "end_time": "2024-03-20T21:00:48.889760Z",
     "start_time": "2024-03-20T21:00:48.844744Z"
    }
   },
   "outputs": [],
   "source": [
    "# apply the function for each element of features column\n",
    "for i in range(len(df['features'])):\n",
    "    data=split_features(df[\"features\"][i])"
   ]
  },
  {
   "cell_type": "code",
   "execution_count": 11,
   "id": "09da8f00",
   "metadata": {
    "ExecuteTime": {
     "end_time": "2024-03-20T21:00:48.905302Z",
     "start_time": "2024-03-20T21:00:48.891759Z"
    }
   },
   "outputs": [],
   "source": [
    "# By using the keys of the data dictionary, create new columns in the initial dataframe\n",
    "for k in data.keys():\n",
    "    df[k] = data[k]"
   ]
  },
  {
   "cell_type": "code",
   "execution_count": 12,
   "id": "97ea5c24",
   "metadata": {
    "ExecuteTime": {
     "end_time": "2024-03-20T21:00:48.937311Z",
     "start_time": "2024-03-20T21:00:48.907304Z"
    }
   },
   "outputs": [
    {
     "data": {
      "text/html": [
       "<div>\n",
       "<style scoped>\n",
       "    .dataframe tbody tr th:only-of-type {\n",
       "        vertical-align: middle;\n",
       "    }\n",
       "\n",
       "    .dataframe tbody tr th {\n",
       "        vertical-align: top;\n",
       "    }\n",
       "\n",
       "    .dataframe thead th {\n",
       "        text-align: right;\n",
       "    }\n",
       "</style>\n",
       "<table border=\"1\" class=\"dataframe\">\n",
       "  <thead>\n",
       "    <tr style=\"text-align: right;\">\n",
       "      <th></th>\n",
       "      <th>title</th>\n",
       "      <th>price</th>\n",
       "      <th>description</th>\n",
       "      <th>features</th>\n",
       "      <th>Boligtype</th>\n",
       "      <th>Adress</th>\n",
       "      <th>Postnr</th>\n",
       "      <th>Antal værelser</th>\n",
       "      <th>Boligkvm</th>\n",
       "      <th>Forudbetalt leje</th>\n",
       "      <th>Depositum</th>\n",
       "      <th>Fremleje</th>\n",
       "      <th>A/C forbrug</th>\n",
       "      <th>Overtagelsesdato</th>\n",
       "      <th>Fakta</th>\n",
       "    </tr>\n",
       "  </thead>\n",
       "  <tbody>\n",
       "    <tr>\n",
       "      <th>0</th>\n",
       "      <td>3500 3 vær. lejlighed, 69 m2, Bymidten 56 56 2</td>\n",
       "      <td>11 kr.</td>\n",
       "      <td>3500 3 vær. lejlighed, 69 m2, Bymi...</td>\n",
       "      <td>[{', Boligtype&lt;/dt&gt;': '&lt;dd&gt;lejlighed&lt;/dd&gt;', ',...</td>\n",
       "      <td>Boligtype&lt;/dt&gt;': '&lt;dd&gt;lejlighed&lt;/dd&gt;', '</td>\n",
       "      <td>Adresse&lt;/dt&gt;': '&lt;dd&gt;Bymidten 56 56 2&lt;/dd&gt;', '</td>\n",
       "      <td>Postnr.&lt;/dt&gt;': '&lt;dd&gt;3500&lt;/dd&gt;', '</td>\n",
       "      <td>Antal værelser&lt;/dt&gt;': '&lt;dd&gt;3&lt;/dd&gt;', '</td>\n",
       "      <td>Boligkvm.&lt;/dt&gt;': '&lt;dd&gt;69&lt;/dd&gt;', '</td>\n",
       "      <td>Forudbetalt leje&lt;/dt&gt;': '&lt;dd&gt;1&lt;/dd&gt;', '</td>\n",
       "      <td>Depositum&lt;/dt&gt;': '&lt;dd&gt;33000&lt;/dd&gt;', '</td>\n",
       "      <td>None</td>\n",
       "      <td>None</td>\n",
       "      <td>Overtagelsesdato&lt;/dt&gt;': '&lt;dd&gt;1/4-2024&lt;/dd&gt;', '</td>\n",
       "      <td>Fakta&lt;/dt&gt;': '&lt;dd&gt;vaskemaskine, opvaskemaskine...</td>\n",
       "    </tr>\n",
       "    <tr>\n",
       "      <th>1</th>\n",
       "      <td>2860 3 vær. lejlighed, 72 m2, 10000 i depositum</td>\n",
       "      <td>10.000 kr.</td>\n",
       "      <td>2860 3 vær. lejlighed, 72 m2, 1000...</td>\n",
       "      <td>[{', Boligtype&lt;/dt&gt;': '&lt;dd&gt;lejlighed&lt;/dd&gt;', ',...</td>\n",
       "      <td>Boligtype&lt;/dt&gt;': '&lt;dd&gt;lejlighed&lt;/dd&gt;', '</td>\n",
       "      <td>None</td>\n",
       "      <td>Postnr.&lt;/dt&gt;': '&lt;dd&gt;2860&lt;/dd&gt;', '</td>\n",
       "      <td>Antal værelser&lt;/dt&gt;': '&lt;dd&gt;3&lt;/dd&gt;', '</td>\n",
       "      <td>Boligkvm.&lt;/dt&gt;': '&lt;dd&gt;72&lt;/dd&gt;', '</td>\n",
       "      <td>None</td>\n",
       "      <td>Depositum&lt;/dt&gt;': '&lt;dd&gt;10000&lt;/dd&gt;'}</td>\n",
       "      <td>None</td>\n",
       "      <td>None</td>\n",
       "      <td>None</td>\n",
       "      <td>None</td>\n",
       "    </tr>\n",
       "    <tr>\n",
       "      <th>2</th>\n",
       "      <td>1658 4 vær. lejlighed, 81 m2, Absalonsgade 46 ...</td>\n",
       "      <td>18.000 kr.</td>\n",
       "      <td>1658 4 vær. lejlighed, 81 m2, Absa...</td>\n",
       "      <td>[{', Boligtype&lt;/dt&gt;': '&lt;dd&gt;lejlighed&lt;/dd&gt;', ',...</td>\n",
       "      <td>Boligtype&lt;/dt&gt;': '&lt;dd&gt;lejlighed&lt;/dd&gt;', '</td>\n",
       "      <td>Adresse&lt;/dt&gt;': '&lt;dd&gt;Absalonsgade 46 3.tv&lt;/dd&gt;', '</td>\n",
       "      <td>Postnr.&lt;/dt&gt;': '&lt;dd&gt;1658&lt;/dd&gt;', '</td>\n",
       "      <td>Antal værelser&lt;/dt&gt;': '&lt;dd&gt;4&lt;/dd&gt;', '</td>\n",
       "      <td>Boligkvm.&lt;/dt&gt;': '&lt;dd&gt;81&lt;/dd&gt;', '</td>\n",
       "      <td>Forudbetalt leje&lt;/dt&gt;': '&lt;dd&gt;1&lt;/dd&gt;', '</td>\n",
       "      <td>Depositum&lt;/dt&gt;': '&lt;dd&gt;18000&lt;/dd&gt;', '</td>\n",
       "      <td>Fremleje&lt;/dt&gt;': '&lt;dd&gt;ja&lt;/dd&gt;', '</td>\n",
       "      <td>A/C forbrug&lt;/dt&gt;': '&lt;dd&gt;1800&lt;/dd&gt;', '</td>\n",
       "      <td>Overtagelsesdato&lt;/dt&gt;': '&lt;dd&gt;1.7.2024&lt;/dd&gt;', '</td>\n",
       "      <td>Fakta&lt;/dt&gt;': '&lt;dd&gt;altan, møbleret, vaskemaskin...</td>\n",
       "    </tr>\n",
       "    <tr>\n",
       "      <th>3</th>\n",
       "      <td>2300 1 vær. lejlighed, 18 m2, Prøvestens Allé ...</td>\n",
       "      <td>1.800 kr.</td>\n",
       "      <td>2300 1 vær. lejlighed, 18 m2, Prøv...</td>\n",
       "      <td>[{', Boligtype&lt;/dt&gt;': '&lt;dd&gt;lejlighed&lt;/dd&gt;', ',...</td>\n",
       "      <td>Boligtype&lt;/dt&gt;': '&lt;dd&gt;lejlighed&lt;/dd&gt;', '</td>\n",
       "      <td>Adresse&lt;/dt&gt;': '&lt;dd&gt;Prøvestens Allé 7 st.&lt;/dd&gt;...</td>\n",
       "      <td>Postnr.&lt;/dt&gt;': '&lt;dd&gt;2300&lt;/dd&gt;', '</td>\n",
       "      <td>Antal værelser&lt;/dt&gt;': '&lt;dd&gt;1&lt;/dd&gt;', '</td>\n",
       "      <td>Boligkvm.&lt;/dt&gt;': '&lt;dd&gt;18&lt;/dd&gt;', '</td>\n",
       "      <td>Forudbetalt leje&lt;/dt&gt;': '&lt;dd&gt;1800&lt;/dd&gt;', '</td>\n",
       "      <td>Depositum&lt;/dt&gt;': '&lt;dd&gt;3600&lt;/dd&gt;', '</td>\n",
       "      <td>Fremleje&lt;/dt&gt;': '&lt;dd&gt;ja&lt;/dd&gt;', '</td>\n",
       "      <td>None</td>\n",
       "      <td>Overtagelsesdato&lt;/dt&gt;': '&lt;dd&gt;Omgående&lt;/dd&gt;'}</td>\n",
       "      <td>None</td>\n",
       "    </tr>\n",
       "    <tr>\n",
       "      <th>4</th>\n",
       "      <td>3 værelses lejlighed i København Ø 2100 på 112...</td>\n",
       "      <td>18.950 kr.</td>\n",
       "      <td>2100 vær. 3 Lejlighed, m2 112, Pak...</td>\n",
       "      <td>[{', Boligtype&lt;/dt&gt;': '&lt;dd&gt;lejlighed&lt;/dd&gt;', ',...</td>\n",
       "      <td>Boligtype&lt;/dt&gt;': '&lt;dd&gt;lejlighed&lt;/dd&gt;', '</td>\n",
       "      <td>Adresse&lt;/dt&gt;': '&lt;dd&gt;Pakhusvej&lt;/dd&gt;', '</td>\n",
       "      <td>Postnr.&lt;/dt&gt;': '&lt;dd&gt;2100&lt;/dd&gt;', '</td>\n",
       "      <td>Antal værelser&lt;/dt&gt;': '&lt;dd&gt;3&lt;/dd&gt;', '</td>\n",
       "      <td>Boligkvm.&lt;/dt&gt;': '&lt;dd&gt;112&lt;/dd&gt;', '</td>\n",
       "      <td>Forudbetalt leje&lt;/dt&gt;': '&lt;dd&gt;0&lt;/dd&gt;', '</td>\n",
       "      <td>Depositum&lt;/dt&gt;': '&lt;dd&gt;56850&lt;/dd&gt;', '</td>\n",
       "      <td>None</td>\n",
       "      <td>A/C forbrug&lt;/dt&gt;': '&lt;dd&gt;1600&lt;/dd&gt;'}</td>\n",
       "      <td>None</td>\n",
       "      <td>None</td>\n",
       "    </tr>\n",
       "    <tr>\n",
       "      <th>...</th>\n",
       "      <td>...</td>\n",
       "      <td>...</td>\n",
       "      <td>...</td>\n",
       "      <td>...</td>\n",
       "      <td>...</td>\n",
       "      <td>...</td>\n",
       "      <td>...</td>\n",
       "      <td>...</td>\n",
       "      <td>...</td>\n",
       "      <td>...</td>\n",
       "      <td>...</td>\n",
       "      <td>...</td>\n",
       "      <td>...</td>\n",
       "      <td>...</td>\n",
       "      <td>...</td>\n",
       "    </tr>\n",
       "    <tr>\n",
       "      <th>2195</th>\n",
       "      <td>Rækkehus i Solrød Strand 2680 på 87 kvm</td>\n",
       "      <td>10.950 kr.</td>\n",
       "      <td>2680 vær. 3 Lejlighed, m2 87, Åsve...</td>\n",
       "      <td>[{', Boligtype&lt;/dt&gt;': '&lt;dd&gt;lejlighed&lt;/dd&gt;', ',...</td>\n",
       "      <td>Boligtype&lt;/dt&gt;': '&lt;dd&gt;lejlighed&lt;/dd&gt;', '</td>\n",
       "      <td>Adresse&lt;/dt&gt;': '&lt;dd&gt;Åsvej&lt;/dd&gt;', '</td>\n",
       "      <td>Postnr.&lt;/dt&gt;': '&lt;dd&gt;2680&lt;/dd&gt;', '</td>\n",
       "      <td>Antal værelser&lt;/dt&gt;': '&lt;dd&gt;3&lt;/dd&gt;', '</td>\n",
       "      <td>Boligkvm.&lt;/dt&gt;': '&lt;dd&gt;87&lt;/dd&gt;', '</td>\n",
       "      <td>Forudbetalt leje&lt;/dt&gt;': '&lt;dd&gt;10950&lt;/dd&gt;', '</td>\n",
       "      <td>Depositum&lt;/dt&gt;': '&lt;dd&gt;32850&lt;/dd&gt;', '</td>\n",
       "      <td>None</td>\n",
       "      <td>A/C forbrug&lt;/dt&gt;': '&lt;dd&gt;1200&lt;/dd&gt;'}</td>\n",
       "      <td>None</td>\n",
       "      <td>None</td>\n",
       "    </tr>\n",
       "    <tr>\n",
       "      <th>2196</th>\n",
       "      <td>Rækkehus i Solrød Strand 2680 på 87 kvm</td>\n",
       "      <td>10.950 kr.</td>\n",
       "      <td>2680 vær. 3 Lejlighed, m2 87, Åsve...</td>\n",
       "      <td>[{', Boligtype&lt;/dt&gt;': '&lt;dd&gt;lejlighed&lt;/dd&gt;', ',...</td>\n",
       "      <td>Boligtype&lt;/dt&gt;': '&lt;dd&gt;lejlighed&lt;/dd&gt;', '</td>\n",
       "      <td>Adresse&lt;/dt&gt;': '&lt;dd&gt;Åsvej&lt;/dd&gt;', '</td>\n",
       "      <td>Postnr.&lt;/dt&gt;': '&lt;dd&gt;2680&lt;/dd&gt;', '</td>\n",
       "      <td>Antal værelser&lt;/dt&gt;': '&lt;dd&gt;3&lt;/dd&gt;', '</td>\n",
       "      <td>Boligkvm.&lt;/dt&gt;': '&lt;dd&gt;87&lt;/dd&gt;', '</td>\n",
       "      <td>Forudbetalt leje&lt;/dt&gt;': '&lt;dd&gt;10950&lt;/dd&gt;', '</td>\n",
       "      <td>Depositum&lt;/dt&gt;': '&lt;dd&gt;32850&lt;/dd&gt;', '</td>\n",
       "      <td>None</td>\n",
       "      <td>A/C forbrug&lt;/dt&gt;': '&lt;dd&gt;1200&lt;/dd&gt;'}</td>\n",
       "      <td>None</td>\n",
       "      <td>None</td>\n",
       "    </tr>\n",
       "    <tr>\n",
       "      <th>2197</th>\n",
       "      <td>4 vær. eller større i Søborg 2860 på 98 kvm</td>\n",
       "      <td>15.100 kr.</td>\n",
       "      <td>2860 vær. 4 Lejlighed, m2 98, Gyng...</td>\n",
       "      <td>[{', Boligtype&lt;/dt&gt;': '&lt;dd&gt;lejlighed&lt;/dd&gt;', ',...</td>\n",
       "      <td>Boligtype&lt;/dt&gt;': '&lt;dd&gt;lejlighed&lt;/dd&gt;', '</td>\n",
       "      <td>Adresse&lt;/dt&gt;': '&lt;dd&gt;Gyngemose Parkvej&lt;/dd&gt;', '</td>\n",
       "      <td>Postnr.&lt;/dt&gt;': '&lt;dd&gt;2860&lt;/dd&gt;', '</td>\n",
       "      <td>Antal værelser&lt;/dt&gt;': '&lt;dd&gt;4&lt;/dd&gt;', '</td>\n",
       "      <td>Boligkvm.&lt;/dt&gt;': '&lt;dd&gt;98&lt;/dd&gt;', '</td>\n",
       "      <td>Forudbetalt leje&lt;/dt&gt;': '&lt;dd&gt;15100&lt;/dd&gt;', '</td>\n",
       "      <td>Depositum&lt;/dt&gt;': '&lt;dd&gt;45300&lt;/dd&gt;', '</td>\n",
       "      <td>None</td>\n",
       "      <td>A/C forbrug&lt;/dt&gt;': '&lt;dd&gt;800&lt;/dd&gt;'}</td>\n",
       "      <td>None</td>\n",
       "      <td>None</td>\n",
       "    </tr>\n",
       "    <tr>\n",
       "      <th>2198</th>\n",
       "      <td>2 værelses lejlighed i København S 2300 på 80 kvm</td>\n",
       "      <td>16.900 kr.</td>\n",
       "      <td>2300 vær. 2 Lejlighed, m2 80, Isla...</td>\n",
       "      <td>[{', Boligtype&lt;/dt&gt;': '&lt;dd&gt;lejlighed&lt;/dd&gt;', ',...</td>\n",
       "      <td>Boligtype&lt;/dt&gt;': '&lt;dd&gt;lejlighed&lt;/dd&gt;', '</td>\n",
       "      <td>Adresse&lt;/dt&gt;': '&lt;dd&gt;Islands Brygge&lt;/dd&gt;', '</td>\n",
       "      <td>Postnr.&lt;/dt&gt;': '&lt;dd&gt;2300&lt;/dd&gt;', '</td>\n",
       "      <td>Antal værelser&lt;/dt&gt;': '&lt;dd&gt;2&lt;/dd&gt;', '</td>\n",
       "      <td>Boligkvm.&lt;/dt&gt;': '&lt;dd&gt;80&lt;/dd&gt;', '</td>\n",
       "      <td>Forudbetalt leje&lt;/dt&gt;': '&lt;dd&gt;16900&lt;/dd&gt;', '</td>\n",
       "      <td>Depositum&lt;/dt&gt;': '&lt;dd&gt;50700&lt;/dd&gt;', '</td>\n",
       "      <td>None</td>\n",
       "      <td>A/C forbrug&lt;/dt&gt;': '&lt;dd&gt;1000&lt;/dd&gt;'}</td>\n",
       "      <td>None</td>\n",
       "      <td>None</td>\n",
       "    </tr>\n",
       "    <tr>\n",
       "      <th>2199</th>\n",
       "      <td>3 værelses lejlighed i Valby 2500 på 91 kvm</td>\n",
       "      <td>17.700 kr.</td>\n",
       "      <td>2500 vær. 3 Lejlighed, m2 91, Skel...</td>\n",
       "      <td>[{', Boligtype&lt;/dt&gt;': '&lt;dd&gt;lejlighed&lt;/dd&gt;', ',...</td>\n",
       "      <td>Boligtype&lt;/dt&gt;': '&lt;dd&gt;lejlighed&lt;/dd&gt;', '</td>\n",
       "      <td>Adresse&lt;/dt&gt;': '&lt;dd&gt;Skelmosevej&lt;/dd&gt;', '</td>\n",
       "      <td>Postnr.&lt;/dt&gt;': '&lt;dd&gt;2500&lt;/dd&gt;', '</td>\n",
       "      <td>Antal værelser&lt;/dt&gt;': '&lt;dd&gt;3&lt;/dd&gt;', '</td>\n",
       "      <td>Boligkvm.&lt;/dt&gt;': '&lt;dd&gt;91&lt;/dd&gt;', '</td>\n",
       "      <td>Forudbetalt leje&lt;/dt&gt;': '&lt;dd&gt;53100&lt;/dd&gt;', '</td>\n",
       "      <td>Depositum&lt;/dt&gt;': '&lt;dd&gt;53100&lt;/dd&gt;', '</td>\n",
       "      <td>None</td>\n",
       "      <td>A/C forbrug&lt;/dt&gt;': '&lt;dd&gt;1000&lt;/dd&gt;'}</td>\n",
       "      <td>None</td>\n",
       "      <td>None</td>\n",
       "    </tr>\n",
       "  </tbody>\n",
       "</table>\n",
       "<p>2200 rows × 15 columns</p>\n",
       "</div>"
      ],
      "text/plain": [
       "                                                  title       price  \\\n",
       "0        3500 3 vær. lejlighed, 69 m2, Bymidten 56 56 2      11 kr.   \n",
       "1       2860 3 vær. lejlighed, 72 m2, 10000 i depositum  10.000 kr.   \n",
       "2     1658 4 vær. lejlighed, 81 m2, Absalonsgade 46 ...  18.000 kr.   \n",
       "3     2300 1 vær. lejlighed, 18 m2, Prøvestens Allé ...   1.800 kr.   \n",
       "4     3 værelses lejlighed i København Ø 2100 på 112...  18.950 kr.   \n",
       "...                                                 ...         ...   \n",
       "2195            Rækkehus i Solrød Strand 2680 på 87 kvm  10.950 kr.   \n",
       "2196            Rækkehus i Solrød Strand 2680 på 87 kvm  10.950 kr.   \n",
       "2197        4 vær. eller større i Søborg 2860 på 98 kvm  15.100 kr.   \n",
       "2198  2 værelses lejlighed i København S 2300 på 80 kvm  16.900 kr.   \n",
       "2199        3 værelses lejlighed i Valby 2500 på 91 kvm  17.700 kr.   \n",
       "\n",
       "                                            description  \\\n",
       "0                 3500 3 vær. lejlighed, 69 m2, Bymi...   \n",
       "1                 2860 3 vær. lejlighed, 72 m2, 1000...   \n",
       "2                 1658 4 vær. lejlighed, 81 m2, Absa...   \n",
       "3                 2300 1 vær. lejlighed, 18 m2, Prøv...   \n",
       "4                 2100 vær. 3 Lejlighed, m2 112, Pak...   \n",
       "...                                                 ...   \n",
       "2195              2680 vær. 3 Lejlighed, m2 87, Åsve...   \n",
       "2196              2680 vær. 3 Lejlighed, m2 87, Åsve...   \n",
       "2197              2860 vær. 4 Lejlighed, m2 98, Gyng...   \n",
       "2198              2300 vær. 2 Lejlighed, m2 80, Isla...   \n",
       "2199              2500 vær. 3 Lejlighed, m2 91, Skel...   \n",
       "\n",
       "                                               features  \\\n",
       "0     [{', Boligtype</dt>': '<dd>lejlighed</dd>', ',...   \n",
       "1     [{', Boligtype</dt>': '<dd>lejlighed</dd>', ',...   \n",
       "2     [{', Boligtype</dt>': '<dd>lejlighed</dd>', ',...   \n",
       "3     [{', Boligtype</dt>': '<dd>lejlighed</dd>', ',...   \n",
       "4     [{', Boligtype</dt>': '<dd>lejlighed</dd>', ',...   \n",
       "...                                                 ...   \n",
       "2195  [{', Boligtype</dt>': '<dd>lejlighed</dd>', ',...   \n",
       "2196  [{', Boligtype</dt>': '<dd>lejlighed</dd>', ',...   \n",
       "2197  [{', Boligtype</dt>': '<dd>lejlighed</dd>', ',...   \n",
       "2198  [{', Boligtype</dt>': '<dd>lejlighed</dd>', ',...   \n",
       "2199  [{', Boligtype</dt>': '<dd>lejlighed</dd>', ',...   \n",
       "\n",
       "                                     Boligtype  \\\n",
       "0     Boligtype</dt>': '<dd>lejlighed</dd>', '   \n",
       "1     Boligtype</dt>': '<dd>lejlighed</dd>', '   \n",
       "2     Boligtype</dt>': '<dd>lejlighed</dd>', '   \n",
       "3     Boligtype</dt>': '<dd>lejlighed</dd>', '   \n",
       "4     Boligtype</dt>': '<dd>lejlighed</dd>', '   \n",
       "...                                        ...   \n",
       "2195  Boligtype</dt>': '<dd>lejlighed</dd>', '   \n",
       "2196  Boligtype</dt>': '<dd>lejlighed</dd>', '   \n",
       "2197  Boligtype</dt>': '<dd>lejlighed</dd>', '   \n",
       "2198  Boligtype</dt>': '<dd>lejlighed</dd>', '   \n",
       "2199  Boligtype</dt>': '<dd>lejlighed</dd>', '   \n",
       "\n",
       "                                                 Adress  \\\n",
       "0         Adresse</dt>': '<dd>Bymidten 56 56 2</dd>', '   \n",
       "1                                                  None   \n",
       "2     Adresse</dt>': '<dd>Absalonsgade 46 3.tv</dd>', '   \n",
       "3     Adresse</dt>': '<dd>Prøvestens Allé 7 st.</dd>...   \n",
       "4                Adresse</dt>': '<dd>Pakhusvej</dd>', '   \n",
       "...                                                 ...   \n",
       "2195                 Adresse</dt>': '<dd>Åsvej</dd>', '   \n",
       "2196                 Adresse</dt>': '<dd>Åsvej</dd>', '   \n",
       "2197     Adresse</dt>': '<dd>Gyngemose Parkvej</dd>', '   \n",
       "2198        Adresse</dt>': '<dd>Islands Brygge</dd>', '   \n",
       "2199           Adresse</dt>': '<dd>Skelmosevej</dd>', '   \n",
       "\n",
       "                                 Postnr  \\\n",
       "0     Postnr.</dt>': '<dd>3500</dd>', '   \n",
       "1     Postnr.</dt>': '<dd>2860</dd>', '   \n",
       "2     Postnr.</dt>': '<dd>1658</dd>', '   \n",
       "3     Postnr.</dt>': '<dd>2300</dd>', '   \n",
       "4     Postnr.</dt>': '<dd>2100</dd>', '   \n",
       "...                                 ...   \n",
       "2195  Postnr.</dt>': '<dd>2680</dd>', '   \n",
       "2196  Postnr.</dt>': '<dd>2680</dd>', '   \n",
       "2197  Postnr.</dt>': '<dd>2860</dd>', '   \n",
       "2198  Postnr.</dt>': '<dd>2300</dd>', '   \n",
       "2199  Postnr.</dt>': '<dd>2500</dd>', '   \n",
       "\n",
       "                             Antal værelser  \\\n",
       "0     Antal værelser</dt>': '<dd>3</dd>', '   \n",
       "1     Antal værelser</dt>': '<dd>3</dd>', '   \n",
       "2     Antal værelser</dt>': '<dd>4</dd>', '   \n",
       "3     Antal værelser</dt>': '<dd>1</dd>', '   \n",
       "4     Antal værelser</dt>': '<dd>3</dd>', '   \n",
       "...                                     ...   \n",
       "2195  Antal værelser</dt>': '<dd>3</dd>', '   \n",
       "2196  Antal værelser</dt>': '<dd>3</dd>', '   \n",
       "2197  Antal værelser</dt>': '<dd>4</dd>', '   \n",
       "2198  Antal værelser</dt>': '<dd>2</dd>', '   \n",
       "2199  Antal værelser</dt>': '<dd>3</dd>', '   \n",
       "\n",
       "                                Boligkvm  \\\n",
       "0      Boligkvm.</dt>': '<dd>69</dd>', '   \n",
       "1      Boligkvm.</dt>': '<dd>72</dd>', '   \n",
       "2      Boligkvm.</dt>': '<dd>81</dd>', '   \n",
       "3      Boligkvm.</dt>': '<dd>18</dd>', '   \n",
       "4     Boligkvm.</dt>': '<dd>112</dd>', '   \n",
       "...                                  ...   \n",
       "2195   Boligkvm.</dt>': '<dd>87</dd>', '   \n",
       "2196   Boligkvm.</dt>': '<dd>87</dd>', '   \n",
       "2197   Boligkvm.</dt>': '<dd>98</dd>', '   \n",
       "2198   Boligkvm.</dt>': '<dd>80</dd>', '   \n",
       "2199   Boligkvm.</dt>': '<dd>91</dd>', '   \n",
       "\n",
       "                                 Forudbetalt leje  \\\n",
       "0         Forudbetalt leje</dt>': '<dd>1</dd>', '   \n",
       "1                                            None   \n",
       "2         Forudbetalt leje</dt>': '<dd>1</dd>', '   \n",
       "3      Forudbetalt leje</dt>': '<dd>1800</dd>', '   \n",
       "4         Forudbetalt leje</dt>': '<dd>0</dd>', '   \n",
       "...                                           ...   \n",
       "2195  Forudbetalt leje</dt>': '<dd>10950</dd>', '   \n",
       "2196  Forudbetalt leje</dt>': '<dd>10950</dd>', '   \n",
       "2197  Forudbetalt leje</dt>': '<dd>15100</dd>', '   \n",
       "2198  Forudbetalt leje</dt>': '<dd>16900</dd>', '   \n",
       "2199  Forudbetalt leje</dt>': '<dd>53100</dd>', '   \n",
       "\n",
       "                                 Depositum                          Fremleje  \\\n",
       "0     Depositum</dt>': '<dd>33000</dd>', '                              None   \n",
       "1       Depositum</dt>': '<dd>10000</dd>'}                              None   \n",
       "2     Depositum</dt>': '<dd>18000</dd>', '  Fremleje</dt>': '<dd>ja</dd>', '   \n",
       "3      Depositum</dt>': '<dd>3600</dd>', '  Fremleje</dt>': '<dd>ja</dd>', '   \n",
       "4     Depositum</dt>': '<dd>56850</dd>', '                              None   \n",
       "...                                    ...                               ...   \n",
       "2195  Depositum</dt>': '<dd>32850</dd>', '                              None   \n",
       "2196  Depositum</dt>': '<dd>32850</dd>', '                              None   \n",
       "2197  Depositum</dt>': '<dd>45300</dd>', '                              None   \n",
       "2198  Depositum</dt>': '<dd>50700</dd>', '                              None   \n",
       "2199  Depositum</dt>': '<dd>53100</dd>', '                              None   \n",
       "\n",
       "                                A/C forbrug  \\\n",
       "0                                      None   \n",
       "1                                      None   \n",
       "2     A/C forbrug</dt>': '<dd>1800</dd>', '   \n",
       "3                                      None   \n",
       "4       A/C forbrug</dt>': '<dd>1600</dd>'}   \n",
       "...                                     ...   \n",
       "2195    A/C forbrug</dt>': '<dd>1200</dd>'}   \n",
       "2196    A/C forbrug</dt>': '<dd>1200</dd>'}   \n",
       "2197     A/C forbrug</dt>': '<dd>800</dd>'}   \n",
       "2198    A/C forbrug</dt>': '<dd>1000</dd>'}   \n",
       "2199    A/C forbrug</dt>': '<dd>1000</dd>'}   \n",
       "\n",
       "                                    Overtagelsesdato  \\\n",
       "0     Overtagelsesdato</dt>': '<dd>1/4-2024</dd>', '   \n",
       "1                                               None   \n",
       "2     Overtagelsesdato</dt>': '<dd>1.7.2024</dd>', '   \n",
       "3       Overtagelsesdato</dt>': '<dd>Omgående</dd>'}   \n",
       "4                                               None   \n",
       "...                                              ...   \n",
       "2195                                            None   \n",
       "2196                                            None   \n",
       "2197                                            None   \n",
       "2198                                            None   \n",
       "2199                                            None   \n",
       "\n",
       "                                                  Fakta  \n",
       "0     Fakta</dt>': '<dd>vaskemaskine, opvaskemaskine...  \n",
       "1                                                  None  \n",
       "2     Fakta</dt>': '<dd>altan, møbleret, vaskemaskin...  \n",
       "3                                                  None  \n",
       "4                                                  None  \n",
       "...                                                 ...  \n",
       "2195                                               None  \n",
       "2196                                               None  \n",
       "2197                                               None  \n",
       "2198                                               None  \n",
       "2199                                               None  \n",
       "\n",
       "[2200 rows x 15 columns]"
      ]
     },
     "execution_count": 12,
     "metadata": {},
     "output_type": "execute_result"
    }
   ],
   "source": [
    "df"
   ]
  },
  {
   "cell_type": "code",
   "execution_count": 13,
   "id": "580ba9f3",
   "metadata": {
    "ExecuteTime": {
     "end_time": "2024-03-20T21:00:48.953317Z",
     "start_time": "2024-03-20T21:00:48.939311Z"
    }
   },
   "outputs": [],
   "source": [
    "# Drop features column as we dont need it any more\n",
    "df.drop(\"features\",axis=1,inplace=True)"
   ]
  },
  {
   "cell_type": "code",
   "execution_count": 14,
   "id": "ca6d4ba4",
   "metadata": {
    "ExecuteTime": {
     "end_time": "2024-03-20T21:00:48.969276Z",
     "start_time": "2024-03-20T21:00:48.954317Z"
    }
   },
   "outputs": [],
   "source": [
    "def clean_bolig(my_str):\n",
    "    if my_str == None:\n",
    "        pass\n",
    "    else:\n",
    "        return re.sub(\"Boligtype|<\\/?dt>|:|<\\/?dd>|'|,|\\s\",\"\",my_str)"
   ]
  },
  {
   "cell_type": "code",
   "execution_count": 15,
   "id": "3d831b6f",
   "metadata": {
    "ExecuteTime": {
     "end_time": "2024-03-20T21:00:48.984283Z",
     "start_time": "2024-03-20T21:00:48.971277Z"
    }
   },
   "outputs": [],
   "source": [
    "def clean_adress(my_str):\n",
    "    if my_str == None:\n",
    "        pass\n",
    "    else:\n",
    "        return re.sub(\"Adresse|<\\/?dt>|:|<\\/?dd>|'|,\",\"\",my_str)"
   ]
  },
  {
   "cell_type": "code",
   "execution_count": 16,
   "id": "047b0b64",
   "metadata": {
    "ExecuteTime": {
     "end_time": "2024-03-20T21:00:48.999292Z",
     "start_time": "2024-03-20T21:00:48.986283Z"
    }
   },
   "outputs": [],
   "source": [
    "def clean_postnr(my_str):\n",
    "    if my_str == None:\n",
    "        pass\n",
    "    else:\n",
    "        return re.sub(\"Postnr.|<\\/?dt>|:|<\\/?dd>|'|,\",\"\",my_str)"
   ]
  },
  {
   "cell_type": "code",
   "execution_count": 17,
   "id": "83d1c6c9",
   "metadata": {
    "ExecuteTime": {
     "end_time": "2024-03-20T21:00:49.015298Z",
     "start_time": "2024-03-20T21:00:49.001292Z"
    }
   },
   "outputs": [],
   "source": [
    "def clean_antal(my_str):\n",
    "    if my_str == None:\n",
    "        pass\n",
    "    else:\n",
    "        return re.sub(\"Antal værelser|<\\/?dt>|:|<\\/?dd>|'|,\",\"\",my_str)"
   ]
  },
  {
   "cell_type": "code",
   "execution_count": 18,
   "id": "53e335c9",
   "metadata": {
    "ExecuteTime": {
     "end_time": "2024-03-20T21:00:49.031304Z",
     "start_time": "2024-03-20T21:00:49.017298Z"
    }
   },
   "outputs": [],
   "source": [
    "def clean_kvm(my_str):\n",
    "    if my_str == None:\n",
    "        pass\n",
    "    else:\n",
    "        return re.sub(\"Boligkvm.|<\\/?dt>|:|<\\/?dd>|'|,\",\"\",my_str)"
   ]
  },
  {
   "cell_type": "code",
   "execution_count": 19,
   "id": "8c335915",
   "metadata": {
    "ExecuteTime": {
     "end_time": "2024-03-20T21:00:49.047074Z",
     "start_time": "2024-03-20T21:00:49.033304Z"
    }
   },
   "outputs": [],
   "source": [
    "def clean_forud(my_str):\n",
    "    if my_str == None:\n",
    "        pass\n",
    "    else:\n",
    "        return re.sub(\"Forudbetalt leje|<\\/?dt>|:|<\\/?dd>|'|,\",\"\",my_str)"
   ]
  },
  {
   "cell_type": "code",
   "execution_count": 20,
   "id": "1e851de3",
   "metadata": {
    "ExecuteTime": {
     "end_time": "2024-03-20T21:00:49.062223Z",
     "start_time": "2024-03-20T21:00:49.049221Z"
    }
   },
   "outputs": [],
   "source": [
    "def clean_depo(my_str):\n",
    "    if my_str == None:\n",
    "        pass\n",
    "    else:\n",
    "        return re.sub(\"Depositum|<\\/?dt>|:|<\\/?dd>|'|,|}\",\"\",my_str)"
   ]
  },
  {
   "cell_type": "code",
   "execution_count": 21,
   "id": "04cd131f",
   "metadata": {
    "ExecuteTime": {
     "end_time": "2024-03-20T21:00:49.078093Z",
     "start_time": "2024-03-20T21:00:49.063223Z"
    }
   },
   "outputs": [],
   "source": [
    "def clean_frem(my_str):\n",
    "    if my_str == None:\n",
    "        pass\n",
    "    else:\n",
    "        return re.sub(\"Fremleje|<\\/?dt>|:|<\\/?dd>|'|,\",\"\",my_str)"
   ]
  },
  {
   "cell_type": "code",
   "execution_count": 22,
   "id": "7e5dae2d",
   "metadata": {
    "ExecuteTime": {
     "end_time": "2024-03-20T21:00:49.094094Z",
     "start_time": "2024-03-20T21:00:49.080094Z"
    }
   },
   "outputs": [],
   "source": [
    "def clean_ac(my_str):\n",
    "    if my_str == None:\n",
    "        pass\n",
    "    else:\n",
    "        return re.sub(\"A\\/C forbrug|<\\/?dt>|:|<\\/?dd>|'|,|}\",\"\",my_str)"
   ]
  },
  {
   "cell_type": "code",
   "execution_count": 23,
   "id": "e37289e1",
   "metadata": {
    "ExecuteTime": {
     "end_time": "2024-03-20T21:00:49.110106Z",
     "start_time": "2024-03-20T21:00:49.096095Z"
    }
   },
   "outputs": [],
   "source": [
    "def clean_over(my_str):\n",
    "    if my_str == None:\n",
    "        pass\n",
    "    else:\n",
    "        return re.sub(\"Overtagelsesdato|<\\/?dt>|:|<\\/?dd>|'|,|}\",\"\",my_str)"
   ]
  },
  {
   "cell_type": "code",
   "execution_count": 24,
   "id": "c65a8a71",
   "metadata": {
    "ExecuteTime": {
     "end_time": "2024-03-20T21:00:49.126109Z",
     "start_time": "2024-03-20T21:00:49.112106Z"
    }
   },
   "outputs": [],
   "source": [
    "def clean_fakta(my_str):\n",
    "    if my_str == None:\n",
    "        pass\n",
    "    else:\n",
    "        return re.sub(\"Fakta|<\\/?dt>|:|<\\/?dd>|'|}\",\"\",my_str)"
   ]
  },
  {
   "cell_type": "code",
   "execution_count": 25,
   "id": "79cb0ebe",
   "metadata": {
    "ExecuteTime": {
     "end_time": "2024-03-20T21:00:49.187123Z",
     "start_time": "2024-03-20T21:00:49.128110Z"
    }
   },
   "outputs": [],
   "source": [
    "# Apply each function from above to the relevant dataframe column\n",
    "df[\"Boligtype\"]=df[\"Boligtype\"].apply(lambda x: clean_bolig(x))\n",
    "df[\"Adress\"]=df[\"Adress\"].apply(lambda x: clean_adress(x))\n",
    "df[\"Postnr\"]=df[\"Postnr\"].apply(lambda x: clean_postnr(x))\n",
    "df[\"Antal værelser\"]=df[\"Antal værelser\"].apply(lambda x: clean_antal(x))\n",
    "df[\"Boligkvm\"]=df[\"Boligkvm\"].apply(lambda x: clean_kvm(x))\n",
    "df[\"Forudbetalt leje\"]=df[\"Forudbetalt leje\"].apply(lambda x: clean_forud(x))\n",
    "df[\"Depositum\"]=df[\"Depositum\"].apply(lambda x: clean_depo(x))\n",
    "df[\"Fremleje\"]=df[\"Fremleje\"].apply(lambda x: clean_frem(x))\n",
    "df[\"A/C forbrug\"]=df[\"A/C forbrug\"].apply(lambda x: clean_ac(x))\n",
    "df[\"Overtagelsesdato\"]=df[\"Overtagelsesdato\"].apply(lambda x: clean_over(x))\n",
    "df[\"Fakta\"]=df[\"Fakta\"].apply(lambda x: clean_fakta(x))"
   ]
  },
  {
   "cell_type": "code",
   "execution_count": 26,
   "id": "65acc1c6",
   "metadata": {
    "ExecuteTime": {
     "end_time": "2024-03-20T21:00:49.202129Z",
     "start_time": "2024-03-20T21:00:49.188124Z"
    }
   },
   "outputs": [],
   "source": [
    "# Replace . and kr from price column\n",
    "df['price'] = df['price'].apply(lambda x: x.replace('.','').replace('kr',''))"
   ]
  },
  {
   "cell_type": "code",
   "execution_count": 27,
   "id": "dddae0b4",
   "metadata": {
    "ExecuteTime": {
     "end_time": "2024-03-20T21:00:49.218133Z",
     "start_time": "2024-03-20T21:00:49.203129Z"
    }
   },
   "outputs": [
    {
     "data": {
      "text/html": [
       "<div>\n",
       "<style scoped>\n",
       "    .dataframe tbody tr th:only-of-type {\n",
       "        vertical-align: middle;\n",
       "    }\n",
       "\n",
       "    .dataframe tbody tr th {\n",
       "        vertical-align: top;\n",
       "    }\n",
       "\n",
       "    .dataframe thead th {\n",
       "        text-align: right;\n",
       "    }\n",
       "</style>\n",
       "<table border=\"1\" class=\"dataframe\">\n",
       "  <thead>\n",
       "    <tr style=\"text-align: right;\">\n",
       "      <th></th>\n",
       "      <th>title</th>\n",
       "      <th>price</th>\n",
       "      <th>description</th>\n",
       "      <th>Boligtype</th>\n",
       "      <th>Adress</th>\n",
       "      <th>Postnr</th>\n",
       "      <th>Antal værelser</th>\n",
       "      <th>Boligkvm</th>\n",
       "      <th>Forudbetalt leje</th>\n",
       "      <th>Depositum</th>\n",
       "      <th>Fremleje</th>\n",
       "      <th>A/C forbrug</th>\n",
       "      <th>Overtagelsesdato</th>\n",
       "      <th>Fakta</th>\n",
       "    </tr>\n",
       "  </thead>\n",
       "  <tbody>\n",
       "    <tr>\n",
       "      <th>0</th>\n",
       "      <td>3500 3 vær. lejlighed, 69 m2, Bymidten 56 56 2</td>\n",
       "      <td>11</td>\n",
       "      <td>3500 3 vær. lejlighed, 69 m2, Bymi...</td>\n",
       "      <td>lejlighed</td>\n",
       "      <td>Bymidten 56 56 2</td>\n",
       "      <td>3500</td>\n",
       "      <td>3</td>\n",
       "      <td>69</td>\n",
       "      <td>1</td>\n",
       "      <td>33000</td>\n",
       "      <td>None</td>\n",
       "      <td>None</td>\n",
       "      <td>1/4-2024</td>\n",
       "      <td>vaskemaskine, opvaskemaskine, parkeringsplads...</td>\n",
       "    </tr>\n",
       "    <tr>\n",
       "      <th>1</th>\n",
       "      <td>2860 3 vær. lejlighed, 72 m2, 10000 i depositum</td>\n",
       "      <td>10000</td>\n",
       "      <td>2860 3 vær. lejlighed, 72 m2, 1000...</td>\n",
       "      <td>lejlighed</td>\n",
       "      <td>None</td>\n",
       "      <td>2860</td>\n",
       "      <td>3</td>\n",
       "      <td>72</td>\n",
       "      <td>None</td>\n",
       "      <td>10000</td>\n",
       "      <td>None</td>\n",
       "      <td>None</td>\n",
       "      <td>None</td>\n",
       "      <td>None</td>\n",
       "    </tr>\n",
       "    <tr>\n",
       "      <th>2</th>\n",
       "      <td>1658 4 vær. lejlighed, 81 m2, Absalonsgade 46 ...</td>\n",
       "      <td>18000</td>\n",
       "      <td>1658 4 vær. lejlighed, 81 m2, Absa...</td>\n",
       "      <td>lejlighed</td>\n",
       "      <td>Absalonsgade 46 3.tv</td>\n",
       "      <td>1658</td>\n",
       "      <td>4</td>\n",
       "      <td>81</td>\n",
       "      <td>1</td>\n",
       "      <td>18000</td>\n",
       "      <td>ja</td>\n",
       "      <td>1800</td>\n",
       "      <td>1.7.2024</td>\n",
       "      <td>altan, møbleret, vaskemaskine, tørretumbler, ...</td>\n",
       "    </tr>\n",
       "    <tr>\n",
       "      <th>3</th>\n",
       "      <td>2300 1 vær. lejlighed, 18 m2, Prøvestens Allé ...</td>\n",
       "      <td>1800</td>\n",
       "      <td>2300 1 vær. lejlighed, 18 m2, Prøv...</td>\n",
       "      <td>lejlighed</td>\n",
       "      <td>Prøvestens Allé 7 st.</td>\n",
       "      <td>2300</td>\n",
       "      <td>1</td>\n",
       "      <td>18</td>\n",
       "      <td>1800</td>\n",
       "      <td>3600</td>\n",
       "      <td>ja</td>\n",
       "      <td>None</td>\n",
       "      <td>Omgående</td>\n",
       "      <td>None</td>\n",
       "    </tr>\n",
       "    <tr>\n",
       "      <th>4</th>\n",
       "      <td>3 værelses lejlighed i København Ø 2100 på 112...</td>\n",
       "      <td>18950</td>\n",
       "      <td>2100 vær. 3 Lejlighed, m2 112, Pak...</td>\n",
       "      <td>lejlighed</td>\n",
       "      <td>Pakhusvej</td>\n",
       "      <td>2100</td>\n",
       "      <td>3</td>\n",
       "      <td>112</td>\n",
       "      <td>0</td>\n",
       "      <td>56850</td>\n",
       "      <td>None</td>\n",
       "      <td>1600</td>\n",
       "      <td>None</td>\n",
       "      <td>None</td>\n",
       "    </tr>\n",
       "    <tr>\n",
       "      <th>...</th>\n",
       "      <td>...</td>\n",
       "      <td>...</td>\n",
       "      <td>...</td>\n",
       "      <td>...</td>\n",
       "      <td>...</td>\n",
       "      <td>...</td>\n",
       "      <td>...</td>\n",
       "      <td>...</td>\n",
       "      <td>...</td>\n",
       "      <td>...</td>\n",
       "      <td>...</td>\n",
       "      <td>...</td>\n",
       "      <td>...</td>\n",
       "      <td>...</td>\n",
       "    </tr>\n",
       "    <tr>\n",
       "      <th>2195</th>\n",
       "      <td>Rækkehus i Solrød Strand 2680 på 87 kvm</td>\n",
       "      <td>10950</td>\n",
       "      <td>2680 vær. 3 Lejlighed, m2 87, Åsve...</td>\n",
       "      <td>lejlighed</td>\n",
       "      <td>Åsvej</td>\n",
       "      <td>2680</td>\n",
       "      <td>3</td>\n",
       "      <td>87</td>\n",
       "      <td>10950</td>\n",
       "      <td>32850</td>\n",
       "      <td>None</td>\n",
       "      <td>1200</td>\n",
       "      <td>None</td>\n",
       "      <td>None</td>\n",
       "    </tr>\n",
       "    <tr>\n",
       "      <th>2196</th>\n",
       "      <td>Rækkehus i Solrød Strand 2680 på 87 kvm</td>\n",
       "      <td>10950</td>\n",
       "      <td>2680 vær. 3 Lejlighed, m2 87, Åsve...</td>\n",
       "      <td>lejlighed</td>\n",
       "      <td>Åsvej</td>\n",
       "      <td>2680</td>\n",
       "      <td>3</td>\n",
       "      <td>87</td>\n",
       "      <td>10950</td>\n",
       "      <td>32850</td>\n",
       "      <td>None</td>\n",
       "      <td>1200</td>\n",
       "      <td>None</td>\n",
       "      <td>None</td>\n",
       "    </tr>\n",
       "    <tr>\n",
       "      <th>2197</th>\n",
       "      <td>4 vær. eller større i Søborg 2860 på 98 kvm</td>\n",
       "      <td>15100</td>\n",
       "      <td>2860 vær. 4 Lejlighed, m2 98, Gyng...</td>\n",
       "      <td>lejlighed</td>\n",
       "      <td>Gyngemose Parkvej</td>\n",
       "      <td>2860</td>\n",
       "      <td>4</td>\n",
       "      <td>98</td>\n",
       "      <td>15100</td>\n",
       "      <td>45300</td>\n",
       "      <td>None</td>\n",
       "      <td>800</td>\n",
       "      <td>None</td>\n",
       "      <td>None</td>\n",
       "    </tr>\n",
       "    <tr>\n",
       "      <th>2198</th>\n",
       "      <td>2 værelses lejlighed i København S 2300 på 80 kvm</td>\n",
       "      <td>16900</td>\n",
       "      <td>2300 vær. 2 Lejlighed, m2 80, Isla...</td>\n",
       "      <td>lejlighed</td>\n",
       "      <td>Islands Brygge</td>\n",
       "      <td>2300</td>\n",
       "      <td>2</td>\n",
       "      <td>80</td>\n",
       "      <td>16900</td>\n",
       "      <td>50700</td>\n",
       "      <td>None</td>\n",
       "      <td>1000</td>\n",
       "      <td>None</td>\n",
       "      <td>None</td>\n",
       "    </tr>\n",
       "    <tr>\n",
       "      <th>2199</th>\n",
       "      <td>3 værelses lejlighed i Valby 2500 på 91 kvm</td>\n",
       "      <td>17700</td>\n",
       "      <td>2500 vær. 3 Lejlighed, m2 91, Skel...</td>\n",
       "      <td>lejlighed</td>\n",
       "      <td>Skelmosevej</td>\n",
       "      <td>2500</td>\n",
       "      <td>3</td>\n",
       "      <td>91</td>\n",
       "      <td>53100</td>\n",
       "      <td>53100</td>\n",
       "      <td>None</td>\n",
       "      <td>1000</td>\n",
       "      <td>None</td>\n",
       "      <td>None</td>\n",
       "    </tr>\n",
       "  </tbody>\n",
       "</table>\n",
       "<p>2200 rows × 14 columns</p>\n",
       "</div>"
      ],
      "text/plain": [
       "                                                  title   price  \\\n",
       "0        3500 3 vær. lejlighed, 69 m2, Bymidten 56 56 2     11    \n",
       "1       2860 3 vær. lejlighed, 72 m2, 10000 i depositum  10000    \n",
       "2     1658 4 vær. lejlighed, 81 m2, Absalonsgade 46 ...  18000    \n",
       "3     2300 1 vær. lejlighed, 18 m2, Prøvestens Allé ...   1800    \n",
       "4     3 værelses lejlighed i København Ø 2100 på 112...  18950    \n",
       "...                                                 ...     ...   \n",
       "2195            Rækkehus i Solrød Strand 2680 på 87 kvm  10950    \n",
       "2196            Rækkehus i Solrød Strand 2680 på 87 kvm  10950    \n",
       "2197        4 vær. eller større i Søborg 2860 på 98 kvm  15100    \n",
       "2198  2 værelses lejlighed i København S 2300 på 80 kvm  16900    \n",
       "2199        3 værelses lejlighed i Valby 2500 på 91 kvm  17700    \n",
       "\n",
       "                                            description  Boligtype  \\\n",
       "0                 3500 3 vær. lejlighed, 69 m2, Bymi...  lejlighed   \n",
       "1                 2860 3 vær. lejlighed, 72 m2, 1000...  lejlighed   \n",
       "2                 1658 4 vær. lejlighed, 81 m2, Absa...  lejlighed   \n",
       "3                 2300 1 vær. lejlighed, 18 m2, Prøv...  lejlighed   \n",
       "4                 2100 vær. 3 Lejlighed, m2 112, Pak...  lejlighed   \n",
       "...                                                 ...        ...   \n",
       "2195              2680 vær. 3 Lejlighed, m2 87, Åsve...  lejlighed   \n",
       "2196              2680 vær. 3 Lejlighed, m2 87, Åsve...  lejlighed   \n",
       "2197              2860 vær. 4 Lejlighed, m2 98, Gyng...  lejlighed   \n",
       "2198              2300 vær. 2 Lejlighed, m2 80, Isla...  lejlighed   \n",
       "2199              2500 vær. 3 Lejlighed, m2 91, Skel...  lejlighed   \n",
       "\n",
       "                       Adress  Postnr Antal værelser Boligkvm  \\\n",
       "0           Bymidten 56 56 2    3500              3       69    \n",
       "1                        None   2860              3       72    \n",
       "2       Absalonsgade 46 3.tv    1658              4       81    \n",
       "3      Prøvestens Allé 7 st.    2300              1       18    \n",
       "4                  Pakhusvej    2100              3      112    \n",
       "...                       ...     ...            ...      ...   \n",
       "2195                   Åsvej    2680              3       87    \n",
       "2196                   Åsvej    2680              3       87    \n",
       "2197       Gyngemose Parkvej    2860              4       98    \n",
       "2198          Islands Brygge    2300              2       80    \n",
       "2199             Skelmosevej    2500              3       91    \n",
       "\n",
       "     Forudbetalt leje Depositum Fremleje A/C forbrug Overtagelsesdato  \\\n",
       "0                  1     33000      None        None        1/4-2024    \n",
       "1                None     10000     None        None             None   \n",
       "2                  1     18000       ja        1800         1.7.2024    \n",
       "3               1800      3600       ja         None         Omgående   \n",
       "4                  0     56850      None        1600             None   \n",
       "...               ...       ...      ...         ...              ...   \n",
       "2195           10950     32850      None        1200             None   \n",
       "2196           10950     32850      None        1200             None   \n",
       "2197           15100     45300      None         800             None   \n",
       "2198           16900     50700      None        1000             None   \n",
       "2199           53100     53100      None        1000             None   \n",
       "\n",
       "                                                  Fakta  \n",
       "0      vaskemaskine, opvaskemaskine, parkeringsplads...  \n",
       "1                                                  None  \n",
       "2      altan, møbleret, vaskemaskine, tørretumbler, ...  \n",
       "3                                                  None  \n",
       "4                                                  None  \n",
       "...                                                 ...  \n",
       "2195                                               None  \n",
       "2196                                               None  \n",
       "2197                                               None  \n",
       "2198                                               None  \n",
       "2199                                               None  \n",
       "\n",
       "[2200 rows x 14 columns]"
      ]
     },
     "execution_count": 27,
     "metadata": {},
     "output_type": "execute_result"
    }
   ],
   "source": [
    "df"
   ]
  },
  {
   "cell_type": "code",
   "execution_count": 28,
   "id": "c7b23dc8",
   "metadata": {
    "ExecuteTime": {
     "end_time": "2024-03-20T21:00:49.234136Z",
     "start_time": "2024-03-20T21:00:49.224134Z"
    }
   },
   "outputs": [],
   "source": [
    "# Lets convert data types "
   ]
  },
  {
   "cell_type": "code",
   "execution_count": 29,
   "id": "b26916ba",
   "metadata": {
    "ExecuteTime": {
     "end_time": "2024-03-20T21:00:49.250017Z",
     "start_time": "2024-03-20T21:00:49.236137Z"
    }
   },
   "outputs": [],
   "source": [
    "df['price']=pd.to_numeric(df['price'], downcast='integer')"
   ]
  },
  {
   "cell_type": "code",
   "execution_count": 30,
   "id": "88815c8c",
   "metadata": {
    "ExecuteTime": {
     "end_time": "2024-03-20T21:00:49.265679Z",
     "start_time": "2024-03-20T21:00:49.251017Z"
    }
   },
   "outputs": [],
   "source": [
    "df['Antal værelser']=pd.to_numeric(df['Antal værelser'], downcast='integer')"
   ]
  },
  {
   "cell_type": "code",
   "execution_count": 31,
   "id": "91793ec6",
   "metadata": {
    "ExecuteTime": {
     "end_time": "2024-03-20T21:00:49.281684Z",
     "start_time": "2024-03-20T21:00:49.267680Z"
    }
   },
   "outputs": [],
   "source": [
    "df['Boligkvm']=pd.to_numeric(df['Boligkvm'], downcast='integer')"
   ]
  },
  {
   "cell_type": "code",
   "execution_count": 32,
   "id": "21fad179",
   "metadata": {
    "ExecuteTime": {
     "end_time": "2024-03-20T21:00:49.297695Z",
     "start_time": "2024-03-20T21:00:49.283684Z"
    }
   },
   "outputs": [],
   "source": [
    "df['Depositum']=pd.to_numeric(df['Depositum'], downcast='integer')"
   ]
  },
  {
   "cell_type": "code",
   "execution_count": 33,
   "id": "2c42bb06",
   "metadata": {
    "ExecuteTime": {
     "end_time": "2024-03-20T21:00:49.313352Z",
     "start_time": "2024-03-20T21:00:49.299695Z"
    }
   },
   "outputs": [],
   "source": [
    "df['Postnr'] = df['Postnr'].apply(lambda x: x.strip())"
   ]
  },
  {
   "cell_type": "code",
   "execution_count": 34,
   "id": "a122dbec",
   "metadata": {
    "ExecuteTime": {
     "end_time": "2024-03-20T21:00:49.329355Z",
     "start_time": "2024-03-20T21:00:49.315353Z"
    }
   },
   "outputs": [
    {
     "name": "stdout",
     "output_type": "stream",
     "text": [
      "<class 'pandas.core.frame.DataFrame'>\n",
      "RangeIndex: 2200 entries, 0 to 2199\n",
      "Data columns (total 14 columns):\n",
      " #   Column            Non-Null Count  Dtype \n",
      "---  ------            --------------  ----- \n",
      " 0   title             2200 non-null   object\n",
      " 1   price             2200 non-null   int16 \n",
      " 2   description       2200 non-null   object\n",
      " 3   Boligtype         2200 non-null   object\n",
      " 4   Adress            2100 non-null   object\n",
      " 5   Postnr            2200 non-null   object\n",
      " 6   Antal værelser    2200 non-null   int8  \n",
      " 7   Boligkvm          2200 non-null   int16 \n",
      " 8   Forudbetalt leje  2100 non-null   object\n",
      " 9   Depositum         2200 non-null   int32 \n",
      " 10  Fremleje          200 non-null    object\n",
      " 11  A/C forbrug       1900 non-null   object\n",
      " 12  Overtagelsesdato  300 non-null    object\n",
      " 13  Fakta             200 non-null    object\n",
      "dtypes: int16(2), int32(1), int8(1), object(10)\n",
      "memory usage: 191.3+ KB\n"
     ]
    }
   ],
   "source": [
    "df.info()"
   ]
  },
  {
   "cell_type": "code",
   "execution_count": 35,
   "id": "fdefcead",
   "metadata": {
    "ExecuteTime": {
     "end_time": "2024-03-20T21:00:49.345361Z",
     "start_time": "2024-03-20T21:00:49.330356Z"
    }
   },
   "outputs": [],
   "source": [
    "# Get the index of rows that the a/c forbrug is na\n",
    "na_ac_forbrug_index = list(df[df['A/C forbrug'].isna()].index)"
   ]
  },
  {
   "cell_type": "code",
   "execution_count": 36,
   "id": "46c225a4",
   "metadata": {
    "ExecuteTime": {
     "end_time": "2024-03-20T21:00:49.361366Z",
     "start_time": "2024-03-20T21:00:49.347362Z"
    }
   },
   "outputs": [
    {
     "data": {
      "text/plain": [
       "[0,\n",
       " 1,\n",
       " 3,\n",
       " 22,\n",
       " 23,\n",
       " 25,\n",
       " 44,\n",
       " 45,\n",
       " 47,\n",
       " 66,\n",
       " 67,\n",
       " 69,\n",
       " 88,\n",
       " 89,\n",
       " 91,\n",
       " 110,\n",
       " 111,\n",
       " 113,\n",
       " 132,\n",
       " 133,\n",
       " 135,\n",
       " 154,\n",
       " 155,\n",
       " 157,\n",
       " 176,\n",
       " 177,\n",
       " 179,\n",
       " 198,\n",
       " 199,\n",
       " 201,\n",
       " 220,\n",
       " 221,\n",
       " 223,\n",
       " 242,\n",
       " 243,\n",
       " 245,\n",
       " 264,\n",
       " 265,\n",
       " 267,\n",
       " 286,\n",
       " 287,\n",
       " 289,\n",
       " 308,\n",
       " 309,\n",
       " 311,\n",
       " 330,\n",
       " 331,\n",
       " 333,\n",
       " 352,\n",
       " 353,\n",
       " 355,\n",
       " 374,\n",
       " 375,\n",
       " 377,\n",
       " 396,\n",
       " 397,\n",
       " 399,\n",
       " 418,\n",
       " 419,\n",
       " 421,\n",
       " 440,\n",
       " 441,\n",
       " 443,\n",
       " 462,\n",
       " 463,\n",
       " 465,\n",
       " 484,\n",
       " 485,\n",
       " 487,\n",
       " 506,\n",
       " 507,\n",
       " 509,\n",
       " 528,\n",
       " 529,\n",
       " 531,\n",
       " 550,\n",
       " 551,\n",
       " 553,\n",
       " 572,\n",
       " 573,\n",
       " 575,\n",
       " 594,\n",
       " 595,\n",
       " 597,\n",
       " 616,\n",
       " 617,\n",
       " 619,\n",
       " 638,\n",
       " 639,\n",
       " 641,\n",
       " 660,\n",
       " 661,\n",
       " 663,\n",
       " 682,\n",
       " 683,\n",
       " 685,\n",
       " 704,\n",
       " 705,\n",
       " 707,\n",
       " 726,\n",
       " 727,\n",
       " 729,\n",
       " 748,\n",
       " 749,\n",
       " 751,\n",
       " 770,\n",
       " 771,\n",
       " 773,\n",
       " 792,\n",
       " 793,\n",
       " 795,\n",
       " 814,\n",
       " 815,\n",
       " 817,\n",
       " 836,\n",
       " 837,\n",
       " 839,\n",
       " 858,\n",
       " 859,\n",
       " 861,\n",
       " 880,\n",
       " 881,\n",
       " 883,\n",
       " 902,\n",
       " 903,\n",
       " 905,\n",
       " 924,\n",
       " 925,\n",
       " 927,\n",
       " 946,\n",
       " 947,\n",
       " 949,\n",
       " 968,\n",
       " 969,\n",
       " 971,\n",
       " 990,\n",
       " 991,\n",
       " 993,\n",
       " 1012,\n",
       " 1013,\n",
       " 1015,\n",
       " 1034,\n",
       " 1035,\n",
       " 1037,\n",
       " 1056,\n",
       " 1057,\n",
       " 1059,\n",
       " 1078,\n",
       " 1079,\n",
       " 1081,\n",
       " 1100,\n",
       " 1101,\n",
       " 1103,\n",
       " 1122,\n",
       " 1123,\n",
       " 1125,\n",
       " 1144,\n",
       " 1145,\n",
       " 1147,\n",
       " 1166,\n",
       " 1167,\n",
       " 1169,\n",
       " 1188,\n",
       " 1189,\n",
       " 1191,\n",
       " 1210,\n",
       " 1211,\n",
       " 1213,\n",
       " 1232,\n",
       " 1233,\n",
       " 1235,\n",
       " 1254,\n",
       " 1255,\n",
       " 1257,\n",
       " 1276,\n",
       " 1277,\n",
       " 1279,\n",
       " 1298,\n",
       " 1299,\n",
       " 1301,\n",
       " 1320,\n",
       " 1321,\n",
       " 1323,\n",
       " 1342,\n",
       " 1343,\n",
       " 1345,\n",
       " 1364,\n",
       " 1365,\n",
       " 1367,\n",
       " 1386,\n",
       " 1387,\n",
       " 1389,\n",
       " 1408,\n",
       " 1409,\n",
       " 1411,\n",
       " 1430,\n",
       " 1431,\n",
       " 1433,\n",
       " 1452,\n",
       " 1453,\n",
       " 1455,\n",
       " 1474,\n",
       " 1475,\n",
       " 1477,\n",
       " 1496,\n",
       " 1497,\n",
       " 1499,\n",
       " 1518,\n",
       " 1519,\n",
       " 1521,\n",
       " 1540,\n",
       " 1541,\n",
       " 1543,\n",
       " 1562,\n",
       " 1563,\n",
       " 1565,\n",
       " 1584,\n",
       " 1585,\n",
       " 1587,\n",
       " 1606,\n",
       " 1607,\n",
       " 1609,\n",
       " 1628,\n",
       " 1629,\n",
       " 1631,\n",
       " 1650,\n",
       " 1651,\n",
       " 1653,\n",
       " 1672,\n",
       " 1673,\n",
       " 1675,\n",
       " 1694,\n",
       " 1695,\n",
       " 1697,\n",
       " 1716,\n",
       " 1717,\n",
       " 1719,\n",
       " 1738,\n",
       " 1739,\n",
       " 1741,\n",
       " 1760,\n",
       " 1761,\n",
       " 1763,\n",
       " 1782,\n",
       " 1783,\n",
       " 1785,\n",
       " 1804,\n",
       " 1805,\n",
       " 1807,\n",
       " 1826,\n",
       " 1827,\n",
       " 1829,\n",
       " 1848,\n",
       " 1849,\n",
       " 1851,\n",
       " 1870,\n",
       " 1871,\n",
       " 1873,\n",
       " 1892,\n",
       " 1893,\n",
       " 1895,\n",
       " 1914,\n",
       " 1915,\n",
       " 1917,\n",
       " 1936,\n",
       " 1937,\n",
       " 1939,\n",
       " 1958,\n",
       " 1959,\n",
       " 1961,\n",
       " 1980,\n",
       " 1981,\n",
       " 1983,\n",
       " 2002,\n",
       " 2003,\n",
       " 2005,\n",
       " 2024,\n",
       " 2025,\n",
       " 2027,\n",
       " 2046,\n",
       " 2047,\n",
       " 2049,\n",
       " 2068,\n",
       " 2069,\n",
       " 2071,\n",
       " 2090,\n",
       " 2091,\n",
       " 2093,\n",
       " 2112,\n",
       " 2113,\n",
       " 2115,\n",
       " 2134,\n",
       " 2135,\n",
       " 2137,\n",
       " 2156,\n",
       " 2157,\n",
       " 2159,\n",
       " 2178,\n",
       " 2179,\n",
       " 2181]"
      ]
     },
     "execution_count": 36,
     "metadata": {},
     "output_type": "execute_result"
    }
   ],
   "source": [
    "na_ac_forbrug_index"
   ]
  },
  {
   "cell_type": "code",
   "execution_count": 37,
   "id": "367ed20a",
   "metadata": {
    "ExecuteTime": {
     "end_time": "2024-03-20T21:00:49.376161Z",
     "start_time": "2024-03-20T21:00:49.362366Z"
    }
   },
   "outputs": [],
   "source": [
    "# Drop rows that the a/c forbrug is na\n",
    "df.drop(na_ac_forbrug_index,inplace=True)"
   ]
  },
  {
   "cell_type": "code",
   "execution_count": 38,
   "id": "74f87da1",
   "metadata": {
    "ExecuteTime": {
     "end_time": "2024-03-20T21:00:49.392165Z",
     "start_time": "2024-03-20T21:00:49.378161Z"
    }
   },
   "outputs": [
    {
     "data": {
      "text/html": [
       "<div>\n",
       "<style scoped>\n",
       "    .dataframe tbody tr th:only-of-type {\n",
       "        vertical-align: middle;\n",
       "    }\n",
       "\n",
       "    .dataframe tbody tr th {\n",
       "        vertical-align: top;\n",
       "    }\n",
       "\n",
       "    .dataframe thead th {\n",
       "        text-align: right;\n",
       "    }\n",
       "</style>\n",
       "<table border=\"1\" class=\"dataframe\">\n",
       "  <thead>\n",
       "    <tr style=\"text-align: right;\">\n",
       "      <th></th>\n",
       "      <th>title</th>\n",
       "      <th>price</th>\n",
       "      <th>description</th>\n",
       "      <th>Boligtype</th>\n",
       "      <th>Adress</th>\n",
       "      <th>Postnr</th>\n",
       "      <th>Antal værelser</th>\n",
       "      <th>Boligkvm</th>\n",
       "      <th>Forudbetalt leje</th>\n",
       "      <th>Depositum</th>\n",
       "      <th>Fremleje</th>\n",
       "      <th>A/C forbrug</th>\n",
       "      <th>Overtagelsesdato</th>\n",
       "      <th>Fakta</th>\n",
       "    </tr>\n",
       "  </thead>\n",
       "  <tbody>\n",
       "    <tr>\n",
       "      <th>2</th>\n",
       "      <td>1658 4 vær. lejlighed, 81 m2, Absalonsgade 46 ...</td>\n",
       "      <td>18000</td>\n",
       "      <td>1658 4 vær. lejlighed, 81 m2, Absa...</td>\n",
       "      <td>lejlighed</td>\n",
       "      <td>Absalonsgade 46 3.tv</td>\n",
       "      <td>1658</td>\n",
       "      <td>4</td>\n",
       "      <td>81</td>\n",
       "      <td>1</td>\n",
       "      <td>18000</td>\n",
       "      <td>ja</td>\n",
       "      <td>1800</td>\n",
       "      <td>1.7.2024</td>\n",
       "      <td>altan, møbleret, vaskemaskine, tørretumbler, ...</td>\n",
       "    </tr>\n",
       "    <tr>\n",
       "      <th>4</th>\n",
       "      <td>3 værelses lejlighed i København Ø 2100 på 112...</td>\n",
       "      <td>18950</td>\n",
       "      <td>2100 vær. 3 Lejlighed, m2 112, Pak...</td>\n",
       "      <td>lejlighed</td>\n",
       "      <td>Pakhusvej</td>\n",
       "      <td>2100</td>\n",
       "      <td>3</td>\n",
       "      <td>112</td>\n",
       "      <td>0</td>\n",
       "      <td>56850</td>\n",
       "      <td>None</td>\n",
       "      <td>1600</td>\n",
       "      <td>None</td>\n",
       "      <td>None</td>\n",
       "    </tr>\n",
       "    <tr>\n",
       "      <th>5</th>\n",
       "      <td>4 vær. eller større i København K 1256 på 213 kvm</td>\n",
       "      <td>32000</td>\n",
       "      <td>1256 vær. 4 Lejlighed, m2 213, Ama...</td>\n",
       "      <td>lejlighed</td>\n",
       "      <td>Amaliegade</td>\n",
       "      <td>1256</td>\n",
       "      <td>4</td>\n",
       "      <td>213</td>\n",
       "      <td>0</td>\n",
       "      <td>96000</td>\n",
       "      <td>None</td>\n",
       "      <td>5467</td>\n",
       "      <td>None</td>\n",
       "      <td>None</td>\n",
       "    </tr>\n",
       "    <tr>\n",
       "      <th>6</th>\n",
       "      <td>1 værelses lejlighed i København Ø 2100 på 51 kvm</td>\n",
       "      <td>7900</td>\n",
       "      <td>2100 vær. Lejlighed, m2 51, Langel...</td>\n",
       "      <td>lejlighed</td>\n",
       "      <td>Langelinie Allé</td>\n",
       "      <td>2100</td>\n",
       "      <td>1</td>\n",
       "      <td>51</td>\n",
       "      <td>8640</td>\n",
       "      <td>23700</td>\n",
       "      <td>None</td>\n",
       "      <td>740</td>\n",
       "      <td>None</td>\n",
       "      <td>None</td>\n",
       "    </tr>\n",
       "    <tr>\n",
       "      <th>7</th>\n",
       "      <td>4 vær. eller større i Kongens LYNGBY 2800 på 1...</td>\n",
       "      <td>17950</td>\n",
       "      <td>2800 vær. 4 Lejlighed, m2 124, Lyn...</td>\n",
       "      <td>lejlighed</td>\n",
       "      <td>Lyngby Hovedgade</td>\n",
       "      <td>2800</td>\n",
       "      <td>4</td>\n",
       "      <td>124</td>\n",
       "      <td>17950</td>\n",
       "      <td>53850</td>\n",
       "      <td>None</td>\n",
       "      <td>2100</td>\n",
       "      <td>None</td>\n",
       "      <td>None</td>\n",
       "    </tr>\n",
       "    <tr>\n",
       "      <th>...</th>\n",
       "      <td>...</td>\n",
       "      <td>...</td>\n",
       "      <td>...</td>\n",
       "      <td>...</td>\n",
       "      <td>...</td>\n",
       "      <td>...</td>\n",
       "      <td>...</td>\n",
       "      <td>...</td>\n",
       "      <td>...</td>\n",
       "      <td>...</td>\n",
       "      <td>...</td>\n",
       "      <td>...</td>\n",
       "      <td>...</td>\n",
       "      <td>...</td>\n",
       "    </tr>\n",
       "    <tr>\n",
       "      <th>2195</th>\n",
       "      <td>Rækkehus i Solrød Strand 2680 på 87 kvm</td>\n",
       "      <td>10950</td>\n",
       "      <td>2680 vær. 3 Lejlighed, m2 87, Åsve...</td>\n",
       "      <td>lejlighed</td>\n",
       "      <td>Åsvej</td>\n",
       "      <td>2680</td>\n",
       "      <td>3</td>\n",
       "      <td>87</td>\n",
       "      <td>10950</td>\n",
       "      <td>32850</td>\n",
       "      <td>None</td>\n",
       "      <td>1200</td>\n",
       "      <td>None</td>\n",
       "      <td>None</td>\n",
       "    </tr>\n",
       "    <tr>\n",
       "      <th>2196</th>\n",
       "      <td>Rækkehus i Solrød Strand 2680 på 87 kvm</td>\n",
       "      <td>10950</td>\n",
       "      <td>2680 vær. 3 Lejlighed, m2 87, Åsve...</td>\n",
       "      <td>lejlighed</td>\n",
       "      <td>Åsvej</td>\n",
       "      <td>2680</td>\n",
       "      <td>3</td>\n",
       "      <td>87</td>\n",
       "      <td>10950</td>\n",
       "      <td>32850</td>\n",
       "      <td>None</td>\n",
       "      <td>1200</td>\n",
       "      <td>None</td>\n",
       "      <td>None</td>\n",
       "    </tr>\n",
       "    <tr>\n",
       "      <th>2197</th>\n",
       "      <td>4 vær. eller større i Søborg 2860 på 98 kvm</td>\n",
       "      <td>15100</td>\n",
       "      <td>2860 vær. 4 Lejlighed, m2 98, Gyng...</td>\n",
       "      <td>lejlighed</td>\n",
       "      <td>Gyngemose Parkvej</td>\n",
       "      <td>2860</td>\n",
       "      <td>4</td>\n",
       "      <td>98</td>\n",
       "      <td>15100</td>\n",
       "      <td>45300</td>\n",
       "      <td>None</td>\n",
       "      <td>800</td>\n",
       "      <td>None</td>\n",
       "      <td>None</td>\n",
       "    </tr>\n",
       "    <tr>\n",
       "      <th>2198</th>\n",
       "      <td>2 værelses lejlighed i København S 2300 på 80 kvm</td>\n",
       "      <td>16900</td>\n",
       "      <td>2300 vær. 2 Lejlighed, m2 80, Isla...</td>\n",
       "      <td>lejlighed</td>\n",
       "      <td>Islands Brygge</td>\n",
       "      <td>2300</td>\n",
       "      <td>2</td>\n",
       "      <td>80</td>\n",
       "      <td>16900</td>\n",
       "      <td>50700</td>\n",
       "      <td>None</td>\n",
       "      <td>1000</td>\n",
       "      <td>None</td>\n",
       "      <td>None</td>\n",
       "    </tr>\n",
       "    <tr>\n",
       "      <th>2199</th>\n",
       "      <td>3 værelses lejlighed i Valby 2500 på 91 kvm</td>\n",
       "      <td>17700</td>\n",
       "      <td>2500 vær. 3 Lejlighed, m2 91, Skel...</td>\n",
       "      <td>lejlighed</td>\n",
       "      <td>Skelmosevej</td>\n",
       "      <td>2500</td>\n",
       "      <td>3</td>\n",
       "      <td>91</td>\n",
       "      <td>53100</td>\n",
       "      <td>53100</td>\n",
       "      <td>None</td>\n",
       "      <td>1000</td>\n",
       "      <td>None</td>\n",
       "      <td>None</td>\n",
       "    </tr>\n",
       "  </tbody>\n",
       "</table>\n",
       "<p>1900 rows × 14 columns</p>\n",
       "</div>"
      ],
      "text/plain": [
       "                                                  title  price  \\\n",
       "2     1658 4 vær. lejlighed, 81 m2, Absalonsgade 46 ...  18000   \n",
       "4     3 værelses lejlighed i København Ø 2100 på 112...  18950   \n",
       "5     4 vær. eller større i København K 1256 på 213 kvm  32000   \n",
       "6     1 værelses lejlighed i København Ø 2100 på 51 kvm   7900   \n",
       "7     4 vær. eller større i Kongens LYNGBY 2800 på 1...  17950   \n",
       "...                                                 ...    ...   \n",
       "2195            Rækkehus i Solrød Strand 2680 på 87 kvm  10950   \n",
       "2196            Rækkehus i Solrød Strand 2680 på 87 kvm  10950   \n",
       "2197        4 vær. eller større i Søborg 2860 på 98 kvm  15100   \n",
       "2198  2 værelses lejlighed i København S 2300 på 80 kvm  16900   \n",
       "2199        3 værelses lejlighed i Valby 2500 på 91 kvm  17700   \n",
       "\n",
       "                                            description  Boligtype  \\\n",
       "2                 1658 4 vær. lejlighed, 81 m2, Absa...  lejlighed   \n",
       "4                 2100 vær. 3 Lejlighed, m2 112, Pak...  lejlighed   \n",
       "5                 1256 vær. 4 Lejlighed, m2 213, Ama...  lejlighed   \n",
       "6                 2100 vær. Lejlighed, m2 51, Langel...  lejlighed   \n",
       "7                 2800 vær. 4 Lejlighed, m2 124, Lyn...  lejlighed   \n",
       "...                                                 ...        ...   \n",
       "2195              2680 vær. 3 Lejlighed, m2 87, Åsve...  lejlighed   \n",
       "2196              2680 vær. 3 Lejlighed, m2 87, Åsve...  lejlighed   \n",
       "2197              2860 vær. 4 Lejlighed, m2 98, Gyng...  lejlighed   \n",
       "2198              2300 vær. 2 Lejlighed, m2 80, Isla...  lejlighed   \n",
       "2199              2500 vær. 3 Lejlighed, m2 91, Skel...  lejlighed   \n",
       "\n",
       "                      Adress Postnr  Antal værelser  Boligkvm  \\\n",
       "2      Absalonsgade 46 3.tv    1658               4        81   \n",
       "4                 Pakhusvej    2100               3       112   \n",
       "5                Amaliegade    1256               4       213   \n",
       "6           Langelinie Allé    2100               1        51   \n",
       "7          Lyngby Hovedgade    2800               4       124   \n",
       "...                      ...    ...             ...       ...   \n",
       "2195                  Åsvej    2680               3        87   \n",
       "2196                  Åsvej    2680               3        87   \n",
       "2197      Gyngemose Parkvej    2860               4        98   \n",
       "2198         Islands Brygge    2300               2        80   \n",
       "2199            Skelmosevej    2500               3        91   \n",
       "\n",
       "     Forudbetalt leje  Depositum Fremleje A/C forbrug Overtagelsesdato  \\\n",
       "2                  1       18000      ja        1800         1.7.2024    \n",
       "4                  0       56850     None        1600             None   \n",
       "5                  0       96000     None        5467             None   \n",
       "6               8640       23700     None         740             None   \n",
       "7              17950       53850     None        2100             None   \n",
       "...               ...        ...      ...         ...              ...   \n",
       "2195           10950       32850     None        1200             None   \n",
       "2196           10950       32850     None        1200             None   \n",
       "2197           15100       45300     None         800             None   \n",
       "2198           16900       50700     None        1000             None   \n",
       "2199           53100       53100     None        1000             None   \n",
       "\n",
       "                                                  Fakta  \n",
       "2      altan, møbleret, vaskemaskine, tørretumbler, ...  \n",
       "4                                                  None  \n",
       "5                                                  None  \n",
       "6                                                  None  \n",
       "7                                                  None  \n",
       "...                                                 ...  \n",
       "2195                                               None  \n",
       "2196                                               None  \n",
       "2197                                               None  \n",
       "2198                                               None  \n",
       "2199                                               None  \n",
       "\n",
       "[1900 rows x 14 columns]"
      ]
     },
     "execution_count": 38,
     "metadata": {},
     "output_type": "execute_result"
    }
   ],
   "source": [
    "df"
   ]
  },
  {
   "cell_type": "code",
   "execution_count": 39,
   "id": "1646e23b",
   "metadata": {
    "ExecuteTime": {
     "end_time": "2024-03-20T21:00:49.423172Z",
     "start_time": "2024-03-20T21:00:49.393165Z"
    }
   },
   "outputs": [
    {
     "data": {
      "text/html": [
       "<div>\n",
       "<style scoped>\n",
       "    .dataframe tbody tr th:only-of-type {\n",
       "        vertical-align: middle;\n",
       "    }\n",
       "\n",
       "    .dataframe tbody tr th {\n",
       "        vertical-align: top;\n",
       "    }\n",
       "\n",
       "    .dataframe thead th {\n",
       "        text-align: right;\n",
       "    }\n",
       "</style>\n",
       "<table border=\"1\" class=\"dataframe\">\n",
       "  <thead>\n",
       "    <tr style=\"text-align: right;\">\n",
       "      <th></th>\n",
       "      <th>title</th>\n",
       "      <th>price</th>\n",
       "      <th>description</th>\n",
       "      <th>Boligtype</th>\n",
       "      <th>Adress</th>\n",
       "      <th>Postnr</th>\n",
       "      <th>Antal værelser</th>\n",
       "      <th>Boligkvm</th>\n",
       "      <th>Forudbetalt leje</th>\n",
       "      <th>Depositum</th>\n",
       "      <th>Fremleje</th>\n",
       "      <th>A/C forbrug</th>\n",
       "      <th>Overtagelsesdato</th>\n",
       "      <th>Fakta</th>\n",
       "    </tr>\n",
       "  </thead>\n",
       "  <tbody>\n",
       "    <tr>\n",
       "      <th>24</th>\n",
       "      <td>1658 4 vær. lejlighed, 81 m2, Absalonsgade 46 ...</td>\n",
       "      <td>18000</td>\n",
       "      <td>1658 4 vær. lejlighed, 81 m2, Absa...</td>\n",
       "      <td>lejlighed</td>\n",
       "      <td>Absalonsgade 46 3.tv</td>\n",
       "      <td>1658</td>\n",
       "      <td>4</td>\n",
       "      <td>81</td>\n",
       "      <td>1</td>\n",
       "      <td>18000</td>\n",
       "      <td>ja</td>\n",
       "      <td>1800</td>\n",
       "      <td>1.7.2024</td>\n",
       "      <td>altan, møbleret, vaskemaskine, tørretumbler, ...</td>\n",
       "    </tr>\n",
       "    <tr>\n",
       "      <th>26</th>\n",
       "      <td>3 værelses lejlighed i København Ø 2100 på 112...</td>\n",
       "      <td>18950</td>\n",
       "      <td>2100 vær. 3 Lejlighed, m2 112, Pak...</td>\n",
       "      <td>lejlighed</td>\n",
       "      <td>Pakhusvej</td>\n",
       "      <td>2100</td>\n",
       "      <td>3</td>\n",
       "      <td>112</td>\n",
       "      <td>0</td>\n",
       "      <td>56850</td>\n",
       "      <td>None</td>\n",
       "      <td>1600</td>\n",
       "      <td>None</td>\n",
       "      <td>None</td>\n",
       "    </tr>\n",
       "    <tr>\n",
       "      <th>27</th>\n",
       "      <td>4 vær. eller større i København K 1256 på 213 kvm</td>\n",
       "      <td>32000</td>\n",
       "      <td>1256 vær. 4 Lejlighed, m2 213, Ama...</td>\n",
       "      <td>lejlighed</td>\n",
       "      <td>Amaliegade</td>\n",
       "      <td>1256</td>\n",
       "      <td>4</td>\n",
       "      <td>213</td>\n",
       "      <td>0</td>\n",
       "      <td>96000</td>\n",
       "      <td>None</td>\n",
       "      <td>5467</td>\n",
       "      <td>None</td>\n",
       "      <td>None</td>\n",
       "    </tr>\n",
       "    <tr>\n",
       "      <th>28</th>\n",
       "      <td>1 værelses lejlighed i København Ø 2100 på 51 kvm</td>\n",
       "      <td>7900</td>\n",
       "      <td>2100 vær. Lejlighed, m2 51, Langel...</td>\n",
       "      <td>lejlighed</td>\n",
       "      <td>Langelinie Allé</td>\n",
       "      <td>2100</td>\n",
       "      <td>1</td>\n",
       "      <td>51</td>\n",
       "      <td>8640</td>\n",
       "      <td>23700</td>\n",
       "      <td>None</td>\n",
       "      <td>740</td>\n",
       "      <td>None</td>\n",
       "      <td>None</td>\n",
       "    </tr>\n",
       "    <tr>\n",
       "      <th>29</th>\n",
       "      <td>4 vær. eller større i Kongens LYNGBY 2800 på 1...</td>\n",
       "      <td>17950</td>\n",
       "      <td>2800 vær. 4 Lejlighed, m2 124, Lyn...</td>\n",
       "      <td>lejlighed</td>\n",
       "      <td>Lyngby Hovedgade</td>\n",
       "      <td>2800</td>\n",
       "      <td>4</td>\n",
       "      <td>124</td>\n",
       "      <td>17950</td>\n",
       "      <td>53850</td>\n",
       "      <td>None</td>\n",
       "      <td>2100</td>\n",
       "      <td>None</td>\n",
       "      <td>None</td>\n",
       "    </tr>\n",
       "    <tr>\n",
       "      <th>...</th>\n",
       "      <td>...</td>\n",
       "      <td>...</td>\n",
       "      <td>...</td>\n",
       "      <td>...</td>\n",
       "      <td>...</td>\n",
       "      <td>...</td>\n",
       "      <td>...</td>\n",
       "      <td>...</td>\n",
       "      <td>...</td>\n",
       "      <td>...</td>\n",
       "      <td>...</td>\n",
       "      <td>...</td>\n",
       "      <td>...</td>\n",
       "      <td>...</td>\n",
       "    </tr>\n",
       "    <tr>\n",
       "      <th>2195</th>\n",
       "      <td>Rækkehus i Solrød Strand 2680 på 87 kvm</td>\n",
       "      <td>10950</td>\n",
       "      <td>2680 vær. 3 Lejlighed, m2 87, Åsve...</td>\n",
       "      <td>lejlighed</td>\n",
       "      <td>Åsvej</td>\n",
       "      <td>2680</td>\n",
       "      <td>3</td>\n",
       "      <td>87</td>\n",
       "      <td>10950</td>\n",
       "      <td>32850</td>\n",
       "      <td>None</td>\n",
       "      <td>1200</td>\n",
       "      <td>None</td>\n",
       "      <td>None</td>\n",
       "    </tr>\n",
       "    <tr>\n",
       "      <th>2196</th>\n",
       "      <td>Rækkehus i Solrød Strand 2680 på 87 kvm</td>\n",
       "      <td>10950</td>\n",
       "      <td>2680 vær. 3 Lejlighed, m2 87, Åsve...</td>\n",
       "      <td>lejlighed</td>\n",
       "      <td>Åsvej</td>\n",
       "      <td>2680</td>\n",
       "      <td>3</td>\n",
       "      <td>87</td>\n",
       "      <td>10950</td>\n",
       "      <td>32850</td>\n",
       "      <td>None</td>\n",
       "      <td>1200</td>\n",
       "      <td>None</td>\n",
       "      <td>None</td>\n",
       "    </tr>\n",
       "    <tr>\n",
       "      <th>2197</th>\n",
       "      <td>4 vær. eller større i Søborg 2860 på 98 kvm</td>\n",
       "      <td>15100</td>\n",
       "      <td>2860 vær. 4 Lejlighed, m2 98, Gyng...</td>\n",
       "      <td>lejlighed</td>\n",
       "      <td>Gyngemose Parkvej</td>\n",
       "      <td>2860</td>\n",
       "      <td>4</td>\n",
       "      <td>98</td>\n",
       "      <td>15100</td>\n",
       "      <td>45300</td>\n",
       "      <td>None</td>\n",
       "      <td>800</td>\n",
       "      <td>None</td>\n",
       "      <td>None</td>\n",
       "    </tr>\n",
       "    <tr>\n",
       "      <th>2198</th>\n",
       "      <td>2 værelses lejlighed i København S 2300 på 80 kvm</td>\n",
       "      <td>16900</td>\n",
       "      <td>2300 vær. 2 Lejlighed, m2 80, Isla...</td>\n",
       "      <td>lejlighed</td>\n",
       "      <td>Islands Brygge</td>\n",
       "      <td>2300</td>\n",
       "      <td>2</td>\n",
       "      <td>80</td>\n",
       "      <td>16900</td>\n",
       "      <td>50700</td>\n",
       "      <td>None</td>\n",
       "      <td>1000</td>\n",
       "      <td>None</td>\n",
       "      <td>None</td>\n",
       "    </tr>\n",
       "    <tr>\n",
       "      <th>2199</th>\n",
       "      <td>3 værelses lejlighed i Valby 2500 på 91 kvm</td>\n",
       "      <td>17700</td>\n",
       "      <td>2500 vær. 3 Lejlighed, m2 91, Skel...</td>\n",
       "      <td>lejlighed</td>\n",
       "      <td>Skelmosevej</td>\n",
       "      <td>2500</td>\n",
       "      <td>3</td>\n",
       "      <td>91</td>\n",
       "      <td>53100</td>\n",
       "      <td>53100</td>\n",
       "      <td>None</td>\n",
       "      <td>1000</td>\n",
       "      <td>None</td>\n",
       "      <td>None</td>\n",
       "    </tr>\n",
       "  </tbody>\n",
       "</table>\n",
       "<p>1881 rows × 14 columns</p>\n",
       "</div>"
      ],
      "text/plain": [
       "                                                  title  price  \\\n",
       "24    1658 4 vær. lejlighed, 81 m2, Absalonsgade 46 ...  18000   \n",
       "26    3 værelses lejlighed i København Ø 2100 på 112...  18950   \n",
       "27    4 vær. eller større i København K 1256 på 213 kvm  32000   \n",
       "28    1 værelses lejlighed i København Ø 2100 på 51 kvm   7900   \n",
       "29    4 vær. eller større i Kongens LYNGBY 2800 på 1...  17950   \n",
       "...                                                 ...    ...   \n",
       "2195            Rækkehus i Solrød Strand 2680 på 87 kvm  10950   \n",
       "2196            Rækkehus i Solrød Strand 2680 på 87 kvm  10950   \n",
       "2197        4 vær. eller større i Søborg 2860 på 98 kvm  15100   \n",
       "2198  2 værelses lejlighed i København S 2300 på 80 kvm  16900   \n",
       "2199        3 værelses lejlighed i Valby 2500 på 91 kvm  17700   \n",
       "\n",
       "                                            description  Boligtype  \\\n",
       "24                1658 4 vær. lejlighed, 81 m2, Absa...  lejlighed   \n",
       "26                2100 vær. 3 Lejlighed, m2 112, Pak...  lejlighed   \n",
       "27                1256 vær. 4 Lejlighed, m2 213, Ama...  lejlighed   \n",
       "28                2100 vær. Lejlighed, m2 51, Langel...  lejlighed   \n",
       "29                2800 vær. 4 Lejlighed, m2 124, Lyn...  lejlighed   \n",
       "...                                                 ...        ...   \n",
       "2195              2680 vær. 3 Lejlighed, m2 87, Åsve...  lejlighed   \n",
       "2196              2680 vær. 3 Lejlighed, m2 87, Åsve...  lejlighed   \n",
       "2197              2860 vær. 4 Lejlighed, m2 98, Gyng...  lejlighed   \n",
       "2198              2300 vær. 2 Lejlighed, m2 80, Isla...  lejlighed   \n",
       "2199              2500 vær. 3 Lejlighed, m2 91, Skel...  lejlighed   \n",
       "\n",
       "                      Adress Postnr  Antal værelser  Boligkvm  \\\n",
       "24     Absalonsgade 46 3.tv    1658               4        81   \n",
       "26                Pakhusvej    2100               3       112   \n",
       "27               Amaliegade    1256               4       213   \n",
       "28          Langelinie Allé    2100               1        51   \n",
       "29         Lyngby Hovedgade    2800               4       124   \n",
       "...                      ...    ...             ...       ...   \n",
       "2195                  Åsvej    2680               3        87   \n",
       "2196                  Åsvej    2680               3        87   \n",
       "2197      Gyngemose Parkvej    2860               4        98   \n",
       "2198         Islands Brygge    2300               2        80   \n",
       "2199            Skelmosevej    2500               3        91   \n",
       "\n",
       "     Forudbetalt leje  Depositum Fremleje A/C forbrug Overtagelsesdato  \\\n",
       "24                 1       18000      ja        1800         1.7.2024    \n",
       "26                 0       56850     None        1600             None   \n",
       "27                 0       96000     None        5467             None   \n",
       "28              8640       23700     None         740             None   \n",
       "29             17950       53850     None        2100             None   \n",
       "...               ...        ...      ...         ...              ...   \n",
       "2195           10950       32850     None        1200             None   \n",
       "2196           10950       32850     None        1200             None   \n",
       "2197           15100       45300     None         800             None   \n",
       "2198           16900       50700     None        1000             None   \n",
       "2199           53100       53100     None        1000             None   \n",
       "\n",
       "                                                  Fakta  \n",
       "24     altan, møbleret, vaskemaskine, tørretumbler, ...  \n",
       "26                                                 None  \n",
       "27                                                 None  \n",
       "28                                                 None  \n",
       "29                                                 None  \n",
       "...                                                 ...  \n",
       "2195                                               None  \n",
       "2196                                               None  \n",
       "2197                                               None  \n",
       "2198                                               None  \n",
       "2199                                               None  \n",
       "\n",
       "[1881 rows x 14 columns]"
      ]
     },
     "execution_count": 39,
     "metadata": {},
     "output_type": "execute_result"
    }
   ],
   "source": [
    "# There are a lot of duplicates, so I just drop them\n",
    "df[df.duplicated()]"
   ]
  },
  {
   "cell_type": "code",
   "execution_count": 40,
   "id": "633cb09c",
   "metadata": {
    "ExecuteTime": {
     "end_time": "2024-03-20T21:00:49.439176Z",
     "start_time": "2024-03-20T21:00:49.425172Z"
    }
   },
   "outputs": [],
   "source": [
    "df.drop_duplicates(inplace=True)"
   ]
  },
  {
   "cell_type": "code",
   "execution_count": 41,
   "id": "3a588ee2",
   "metadata": {
    "ExecuteTime": {
     "end_time": "2024-03-20T21:00:49.454182Z",
     "start_time": "2024-03-20T21:00:49.441175Z"
    }
   },
   "outputs": [],
   "source": [
    "# Lets get some statistics"
   ]
  },
  {
   "cell_type": "code",
   "execution_count": 42,
   "id": "09fbb2c6",
   "metadata": {
    "ExecuteTime": {
     "end_time": "2024-03-20T21:00:49.577214Z",
     "start_time": "2024-03-20T21:00:49.456182Z"
    }
   },
   "outputs": [
    {
     "data": {
      "text/plain": [
       "<AxesSubplot:xlabel='Antal værelser'>"
      ]
     },
     "execution_count": 42,
     "metadata": {},
     "output_type": "execute_result"
    },
    {
     "data": {
      "image/png": "[encoded data removed]",
      "text/plain": [
       "<Figure size 640x480 with 1 Axes>"
      ]
     },
     "metadata": {},
     "output_type": "display_data"
    }
   ],
   "source": [
    "# Group by number of rooms\n",
    "df.groupby(by='Antal værelser')['title'].count().plot.bar(rot=0)"
   ]
  },
  {
   "cell_type": "code",
   "execution_count": 43,
   "id": "46b94d3c",
   "metadata": {
    "ExecuteTime": {
     "end_time": "2024-03-20T21:00:49.749263Z",
     "start_time": "2024-03-20T21:00:49.579215Z"
    }
   },
   "outputs": [
    {
     "data": {
      "text/plain": [
       "<AxesSubplot:xlabel='Antal værelser', ylabel='price'>"
      ]
     },
     "execution_count": 43,
     "metadata": {},
     "output_type": "execute_result"
    },
    {
     "data": {
      "image/png": "[encoded data removed]",
      "text/plain": [
       "<Figure size 640x480 with 1 Axes>"
      ]
     },
     "metadata": {},
     "output_type": "display_data"
    }
   ],
   "source": [
    "# Visualize the average price by number of rooms\n",
    "sns.barplot(data = df, x= 'Antal værelser', y='price')"
   ]
  },
  {
   "cell_type": "code",
   "execution_count": 44,
   "id": "207a509d",
   "metadata": {
    "ExecuteTime": {
     "end_time": "2024-03-20T21:00:49.906296Z",
     "start_time": "2024-03-20T21:00:49.751262Z"
    }
   },
   "outputs": [
    {
     "data": {
      "text/plain": [
       "<AxesSubplot:xlabel='price', ylabel='Count'>"
      ]
     },
     "execution_count": 44,
     "metadata": {},
     "output_type": "execute_result"
    },
    {
     "data": {
      "image/png": "[encoded data removed]",
      "text/plain": [
       "<Figure size 640x480 with 1 Axes>"
      ]
     },
     "metadata": {},
     "output_type": "display_data"
    }
   ],
   "source": [
    "# How is the price distributed ?\n",
    "sns.histplot(df['price'],kde=True)"
   ]
  },
  {
   "cell_type": "code",
   "execution_count": 45,
   "id": "9bf78d5a",
   "metadata": {
    "ExecuteTime": {
     "end_time": "2024-03-20T21:00:50.062339Z",
     "start_time": "2024-03-20T21:00:49.908297Z"
    }
   },
   "outputs": [
    {
     "data": {
      "text/plain": [
       "<AxesSubplot:>"
      ]
     },
     "execution_count": 45,
     "metadata": {},
     "output_type": "execute_result"
    },
    {
     "data": {
      "image/png": "[encoded data removed]",
      "text/plain": [
       "<Figure size 640x480 with 2 Axes>"
      ]
     },
     "metadata": {},
     "output_type": "display_data"
    }
   ],
   "source": [
    "# Which features are linear correlated with the price ?\n",
    "sns.heatmap(df[['price','Antal værelser','Boligkvm','Depositum']].corr())"
   ]
  },
  {
   "cell_type": "code",
   "execution_count": 46,
   "id": "21740f7a",
   "metadata": {
    "ExecuteTime": {
     "end_time": "2024-03-20T21:00:50.580838Z",
     "start_time": "2024-03-20T21:00:50.064338Z"
    }
   },
   "outputs": [
    {
     "data": {
      "image/png": "[encoded data removed]",
      "text/plain": [
       "<Figure size 2000x1000 with 6 Axes>"
      ]
     },
     "metadata": {},
     "output_type": "display_data"
    }
   ],
   "source": [
    "fig, axs = plt.subplots(2,3,figsize=(20,10))\n",
    "fig.suptitle('Comparisons between numerical features')\n",
    "axs[0,0].scatter(df['price'],df['Antal værelser'])\n",
    "axs[0,0].set_title('Price vs Antal værelser')\n",
    "axs[0,1].scatter(df['price'],df['Boligkvm'])\n",
    "axs[0,1].set_title('Price vs Boligkvm')\n",
    "axs[0,2].scatter(df['price'],df['Depositum'])\n",
    "axs[0,2].set_title('Price vs Depositum')\n",
    "axs[1,0].scatter(df['Antal værelser'],df['Boligkvm'])\n",
    "axs[1,0].set_title('Antal værelser vs Boligkvm')\n",
    "axs[1,1].scatter(df['Antal værelser'],df['Depositum'])\n",
    "axs[1,1].set_title('Antal værelser vs Depositum')\n",
    "axs[1,2].scatter(df['Boligkvm'],df['Depositum'])\n",
    "axs[1,2].set_title('Boligkvm vs Depositum')\n",
    "plt.show()"
   ]
  },
  {
   "cell_type": "code",
   "execution_count": 47,
   "id": "10f3149d",
   "metadata": {
    "ExecuteTime": {
     "end_time": "2024-03-20T21:00:50.596843Z",
     "start_time": "2024-03-20T21:00:50.582839Z"
    }
   },
   "outputs": [
    {
     "data": {
      "text/plain": [
       "2800    3\n",
       "2100    2\n",
       "2300    2\n",
       "2680    2\n",
       "1658    1\n",
       "1256    1\n",
       "2610    1\n",
       "2200    1\n",
       "1165    1\n",
       "2700    1\n",
       "2400    1\n",
       "2650    1\n",
       "2860    1\n",
       "2500    1\n",
       "Name: Postnr, dtype: int64"
      ]
     },
     "execution_count": 47,
     "metadata": {},
     "output_type": "execute_result"
    }
   ],
   "source": [
    "# Lets check the distinct Postnrs (Majority of ads are in K.Lyngby, Østerbro, Amager and Solrød Strand)\n",
    "df['Postnr'].value_counts()"
   ]
  },
  {
   "cell_type": "code",
   "execution_count": 48,
   "id": "73296aac",
   "metadata": {
    "ExecuteTime": {
     "end_time": "2024-03-20T21:00:50.628398Z",
     "start_time": "2024-03-20T21:00:50.598843Z"
    }
   },
   "outputs": [],
   "source": [
    "# Which is the cheapest area for a single person (one room) on average ? "
   ]
  },
  {
   "cell_type": "code",
   "execution_count": 49,
   "id": "bfff5bec",
   "metadata": {
    "ExecuteTime": {
     "end_time": "2024-03-20T21:00:50.643602Z",
     "start_time": "2024-03-20T21:00:50.630400Z"
    }
   },
   "outputs": [
    {
     "data": {
      "text/plain": [
       "Postnr\n",
       "2610     5693.0\n",
       "2100     7900.0\n",
       "2800     8000.0\n",
       "2400     8300.0\n",
       "1165    12250.0\n",
       "Name: price, dtype: float64"
      ]
     },
     "execution_count": 49,
     "metadata": {},
     "output_type": "execute_result"
    }
   ],
   "source": [
    "# Cheapest area is Rødovre (followed by Østerbro->Kongens Lyngby->København NV->København K)\n",
    "df[df['Antal værelser']==1].groupby(by='Postnr')['price'].mean().sort_values()"
   ]
  },
  {
   "cell_type": "code",
   "execution_count": 50,
   "id": "41828a0a",
   "metadata": {
    "ExecuteTime": {
     "end_time": "2024-03-20T21:00:50.659611Z",
     "start_time": "2024-03-20T21:00:50.645602Z"
    }
   },
   "outputs": [],
   "source": [
    "# Which is the cheapest area for a family of 3 on average ? "
   ]
  },
  {
   "cell_type": "code",
   "execution_count": 51,
   "id": "5c6b075f",
   "metadata": {
    "ExecuteTime": {
     "end_time": "2024-03-20T21:00:50.675617Z",
     "start_time": "2024-03-20T21:00:50.661610Z"
    }
   },
   "outputs": [
    {
     "data": {
      "text/plain": [
       "Postnr\n",
       "2680    10950.0\n",
       "2300    14950.0\n",
       "2650    15250.0\n",
       "2500    17700.0\n",
       "2100    18950.0\n",
       "2200    19400.0\n",
       "Name: price, dtype: float64"
      ]
     },
     "execution_count": 51,
     "metadata": {},
     "output_type": "execute_result"
    }
   ],
   "source": [
    "# It seems to be Solrød Strand followed by København S\n",
    "df[df['Antal værelser']==3].groupby(by='Postnr')['price'].mean().sort_values()"
   ]
  },
  {
   "cell_type": "code",
   "execution_count": 52,
   "id": "5ffa326f",
   "metadata": {
    "ExecuteTime": {
     "end_time": "2024-03-20T21:00:50.690621Z",
     "start_time": "2024-03-20T21:00:50.677617Z"
    }
   },
   "outputs": [],
   "source": [
    "# How many months is the average deposit ? \n",
    "df['deposit_in_months'] = df['Depositum']/df['price']"
   ]
  },
  {
   "cell_type": "code",
   "execution_count": 53,
   "id": "6e8c7225",
   "metadata": {
    "ExecuteTime": {
     "end_time": "2024-03-20T21:00:50.705420Z",
     "start_time": "2024-03-20T21:00:50.692623Z"
    }
   },
   "outputs": [
    {
     "data": {
      "text/plain": [
       "2.8947368421052633"
      ]
     },
     "execution_count": 53,
     "metadata": {},
     "output_type": "execute_result"
    }
   ],
   "source": [
    "df['deposit_in_months'].mean() # It is almost 3 months on average"
   ]
  },
  {
   "cell_type": "code",
   "execution_count": 54,
   "id": "0e5a896c",
   "metadata": {
    "ExecuteTime": {
     "end_time": "2024-03-20T21:00:50.833461Z",
     "start_time": "2024-03-20T21:00:50.707423Z"
    }
   },
   "outputs": [],
   "source": [
    "df.to_excel('clean_data.xlsx')"
   ]
  }
 ],
 "metadata": {
  "kernelspec": {
   "display_name": "Python 3 (ipykernel)",
   "language": "python",
   "name": "python3"
  },
  "language_info": {
   "codemirror_mode": {
    "name": "ipython",
    "version": 3
   },
   "file_extension": ".py",
   "mimetype": "text/x-python",
   "name": "python",
   "nbconvert_exporter": "python",
   "pygments_lexer": "ipython3",
   "version": "3.9.7"
  },
  "varInspector": {
   "cols": {
    "lenName": 16,
    "lenType": 16,
    "lenVar": 40
   },
   "kernels_config": {
    "python": {
     "delete_cmd_postfix": "",
     "delete_cmd_prefix": "del ",
     "library": "var_list.py",
     "varRefreshCmd": "print(var_dic_list())"
    },
    "r": {
     "delete_cmd_postfix": ") ",
     "delete_cmd_prefix": "rm(",
     "library": "var_list.r",
     "varRefreshCmd": "cat(var_dic_list()) "
    }
   },
   "types_to_exclude": [
    "module",
    "function",
    "builtin_function_or_method",
    "instance",
    "_Feature"
   ],
   "window_display": false
  }
 },
 "nbformat": 4,
 "nbformat_minor": 5
}
